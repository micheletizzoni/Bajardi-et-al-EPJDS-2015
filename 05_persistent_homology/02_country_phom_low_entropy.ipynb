{
 "metadata": {
  "kernelspec": {
   "display_name": "Python 2",
   "language": "python",
   "name": "python2"
  },
  "language_info": {
   "codemirror_mode": {
    "name": "ipython",
    "version": 2
   },
   "file_extension": ".py",
   "mimetype": "text/x-python",
   "name": "python",
   "nbconvert_exporter": "python",
   "pygments_lexer": "ipython2",
   "version": "2.7.9"
  },
  "name": "",
  "signature": "sha256:c5056cab2e638465802653766bf6a7c98bbb86edd67a12e0fa417523c382e697"
 },
 "nbformat": 3,
 "nbformat_minor": 0,
 "worksheets": [
  {
   "cells": [
    {
     "cell_type": "code",
     "collapsed": false,
     "input": [
      "import os, sys\n",
      "from glob import glob\n",
      "import networkx as nx\n",
      "import numpy as np\n",
      "import pickle\n",
      "import matplotlib.pyplot as plt\n",
      "sys.path.append('../');\n",
      "import Holes as ho"
     ],
     "language": "python",
     "metadata": {},
     "outputs": [],
     "prompt_number": 1
    },
    {
     "cell_type": "code",
     "collapsed": false,
     "input": [
      "import geojson as gj"
     ],
     "language": "python",
     "metadata": {},
     "outputs": [],
     "prompt_number": 2
    },
    {
     "cell_type": "code",
     "collapsed": false,
     "input": [
      "%matplotlib inline"
     ],
     "language": "python",
     "metadata": {},
     "outputs": [],
     "prompt_number": 3
    },
    {
     "cell_type": "code",
     "collapsed": false,
     "input": [
      "max_dimensions=1;"
     ],
     "language": "python",
     "metadata": {},
     "outputs": [],
     "prompt_number": 4
    },
    {
     "cell_type": "code",
     "collapsed": false,
     "input": [
      "import scipy.io\n",
      "ld = os.listdir('../stores/phom/country_high_act_low_entropy_matrices/');\n",
      "countries_to_cells={}\n",
      "for country in ld:\n",
      "    if country == '.gitignore':\n",
      "        continue\n",
      "    countries_to_cells[country[:-4]]=pickle.load(open('../stores/phom/country_high_act_low_entropy_matrices/'+country))\n",
      "    "
     ],
     "language": "python",
     "metadata": {},
     "outputs": [],
     "prompt_number": 5
    },
    {
     "cell_type": "code",
     "collapsed": false,
     "input": [
      "grid=gj.load(open('../data/poi/milano-grid.geojson'))"
     ],
     "language": "python",
     "metadata": {},
     "outputs": [],
     "prompt_number": 6
    },
    {
     "cell_type": "code",
     "collapsed": false,
     "input": [
      "import pandas as pd\n",
      "\n",
      "cell_position = {}\n",
      "for i,cell in enumerate(grid['features']):\n",
      "    cell_position[cell[\"properties\"][\"cellId\"]] = cell[\"geometry\"][\"coordinates\"][0][0]"
     ],
     "language": "python",
     "metadata": {},
     "outputs": [],
     "prompt_number": 7
    },
    {
     "cell_type": "code",
     "collapsed": false,
     "input": [
      "import networkx as nx\n",
      "country_graphs={}\n",
      "for country in countries_to_cells:\n",
      "    coords = np.nonzero(countries_to_cells[country]);\n",
      "    country_graphs[country]=nx.Graph();\n",
      "    coords = zip(coords[0],coords[1]);\n",
      "    for i, cell in enumerate(coords):\n",
      "        for j, other_cell in enumerate(coords):\n",
      "            if i<j:\n",
      "                country_graphs[country].add_edge(cell, other_cell, weight=np.linalg.norm(np.array(cell)-np.array(other_cell)))\n",
      "for country in country_graphs.keys():\n",
      "    if len(country_graphs[country].edges()) == 0:\n",
      "        del country_graphs[country]"
     ],
     "language": "python",
     "metadata": {},
     "outputs": [],
     "prompt_number": 8
    },
    {
     "cell_type": "heading",
     "level": 1,
     "metadata": {},
     "source": [
      "Construction of metrical filtrations for countries"
     ]
    },
    {
     "cell_type": "code",
     "collapsed": false,
     "input": [
      "num_max_landmarks = 30 ## customisable max number of landmarks to be chosen \n",
      "cd = {}\n",
      "subgraph_dict={}\n",
      "for country in country_graphs:\n",
      "    print country\n",
      "    N=np.min([num_max_landmarks, country_graphs[country].number_of_nodes()]);\n",
      "    relabel_dict={}\n",
      "    G=country_graphs[country].copy();\n",
      "    for i,n in enumerate(country_graphs[country].nodes()):\n",
      "        relabel_dict[n] = i;\n",
      "    G = nx.relabel_nodes(country_graphs[country],relabel_dict);\n",
      "    CS_landmarks=ho.landmarks.minmax_selector(nx.adjacency_matrix(G),N);       \n",
      "    DG=nx.subgraph(G,CS_landmarks);\n",
      "    subgraph_dict[country]=DG.copy();\n",
      "    cd[country] = ho.filtrations.metrical_filtration(DG,max_dimensions);"
     ],
     "language": "python",
     "metadata": {},
     "outputs": [
      {
       "output_type": "stream",
       "stream": "stdout",
       "text": [
        "1705\n",
        "Landmarks:  [5, 11, 8, 2, 9, 10, 3, 0, 1, 4, 6, 7]\n",
        "Uv cut 47.5184174821\n",
        "Preliminary scan of edge weights to define filtration steps...\n",
        "Preliminary scan and sorting completed.\n",
        "Constructing filtration...\n",
        "Scanning cliques of dimension:  2\n",
        "Scanning cliques of dimension:  3\n",
        "Clique dictionary created.\n",
        "291\n",
        "Landmarks: "
       ]
      },
      {
       "output_type": "stream",
       "stream": "stdout",
       "text": [
        " [7, 25, 29, 28, 1, 3, 23, 26, 16, 4, 14, 15, 18, 5, 22, 11, 32, 0, 2, 6, 8, 9, 10, 12, 13, 17, 19, 20, 21, 24]\n",
        "Uv cut 36.0555127546\n",
        "Preliminary scan of edge weights to define filtration steps...\n",
        "Preliminary scan and sorting completed.\n",
        "Constructing filtration...\n",
        "Scanning cliques of dimension:  2\n",
        "Scanning cliques of dimension:  3\n",
        "Clique dictionary created.\n",
        "591\n",
        "Landmarks: "
       ]
      },
      {
       "output_type": "stream",
       "stream": "stdout",
       "text": [
        " [30, 9, 33, 14, 68, 16, 23, 61, 37, 19, 22, 60, 46, 35, 11, 72, 1, 28, 25, 41, 38, 2, 47, 58, 62, 63, 65, 67, 73, 3]\n",
        "Uv cut 58.4208866759\n",
        "Preliminary scan of edge weights to define filtration steps...\n",
        "Preliminary scan and sorting completed.\n",
        "Constructing filtration...\n",
        "Scanning cliques of dimension:  2\n",
        "Scanning cliques of dimension:  3\n",
        "Clique dictionary created.\n",
        "590\n",
        "Landmarks:  [4, 2, 5, 1, 0, 3]\n",
        "Uv cut 60.207972894\n",
        "Preliminary scan of edge weights to define filtration steps...\n",
        "Preliminary scan and sorting completed.\n",
        "Constructing filtration...\n",
        "Scanning cliques of dimension:  2\n",
        "Scanning cliques of dimension:  3\n",
        "Clique dictionary created.\n",
        "593\n",
        "Landmarks: "
       ]
      },
      {
       "output_type": "stream",
       "stream": "stdout",
       "text": [
        " [100, 150, 56, 76, 159, 92, 183, 1, 177, 16, 2, 84, 58, 59, 181, 147, 116, 127, 15, 139, 37, 68, 149, 8, 45, 67, 189, 83, 17, 144]\n",
        "Uv cut 60.166435826\n",
        "Preliminary scan of edge weights to define filtration steps...\n",
        "Preliminary scan and sorting completed.\n",
        "Constructing filtration...\n",
        "Scanning cliques of dimension:  2\n",
        "Scanning cliques of dimension:  3\n",
        "Clique dictionary created.\n",
        "592\n",
        "Landmarks:  [1, 0]\n",
        "Uv cut 1.0\n",
        "Preliminary scan of edge weights to define filtration steps...\n",
        "Preliminary scan and sorting completed.\n",
        "Constructing filtration...\n",
        "Scanning cliques of dimension:  2\n",
        "Scanning cliques of dimension:  3\n",
        "Clique dictionary created.\n",
        "595\n",
        "Landmarks:  [6, 3, 10, 4, 8, 1, 12, 0, 2, 7, 5, 9, 11]\n",
        "Uv cut 54.7448627727\n",
        "Preliminary scan of edge weights to define filtration steps...\n",
        "Preliminary scan and sorting completed.\n",
        "Constructing filtration...\n",
        "Scanning cliques of dimension:  2\n",
        "Scanning cliques of dimension:  3\n",
        "Clique dictionary created.\n",
        "594\n",
        "Landmarks:  [3, 0, 2, 1]\n",
        "Uv cut 2.0\n",
        "Preliminary scan of edge weights to define filtration steps...\n",
        "Preliminary scan and sorting completed.\n",
        "Constructing filtration...\n",
        "Scanning cliques of dimension:  2\n",
        "Scanning cliques of dimension:  3\n",
        "Clique dictionary created.\n",
        "597\n",
        "Landmarks:  [1, 0]\n",
        "Uv cut 19.3132079158\n",
        "Preliminary scan of edge weights to define filtration steps...\n",
        "Preliminary scan and sorting completed.\n",
        "Constructing filtration...\n",
        "Scanning cliques of dimension:  2\n",
        "Scanning cliques of dimension:  3\n",
        "Clique dictionary created.\n",
        "596\n",
        "Landmarks:  [0, 2, 1]\n",
        "Uv cut 14.8660687473\n",
        "Preliminary scan of edge weights to define filtration steps...\n",
        "Preliminary scan and sorting completed.\n",
        "Constructing filtration...\n",
        "Scanning cliques of dimension:  2\n",
        "Scanning cliques of dimension:  3\n",
        "Clique dictionary created.\n",
        "599\n",
        "Landmarks:  [6, 5, 0, 3, 1, 2, 4, 7]\n",
        "Uv cut 3.0\n",
        "Preliminary scan of edge weights to define filtration steps...\n",
        "Preliminary scan and sorting completed.\n",
        "Constructing filtration...\n",
        "Scanning cliques of dimension:  2\n",
        "Scanning cliques of dimension:  3\n",
        "Clique dictionary created.\n",
        "598\n",
        "Landmarks: "
       ]
      },
      {
       "output_type": "stream",
       "stream": "stdout",
       "text": [
        " [16, 19, 1, 15, 6, 0, 23, 3, 13, 4, 8, 18, 9, 11, 2, 5, 7, 10, 12, 14, 17, 20, 21, 22, 24, 25, 26]\n",
        "Uv cut 56.5862174032\n",
        "Preliminary scan of edge weights to define filtration steps...\n",
        "Preliminary scan and sorting completed.\n",
        "Constructing filtration...\n",
        "Scanning cliques of dimension:  2\n",
        "Scanning cliques of dimension:  3\n",
        "Clique dictionary created.\n",
        "1403\n",
        "Landmarks:  [0, 1, 2, 3]\n",
        "Uv cut 48.0\n",
        "Preliminary scan of edge weights to define filtration steps...\n",
        "Preliminary scan and sorting completed.\n",
        "Constructing filtration...\n",
        "Scanning cliques of dimension:  2\n",
        "Scanning cliques of dimension:  3\n",
        "Clique dictionary created.\n",
        "1519\n",
        "Landmarks:  [1, 14, 13, 10, 16, 9, 3, 5, 7, 12, 0, 2, 4, 6, 8, 11, 15]\n",
        "Uv cut 74.3303437366\n",
        "Preliminary scan of edge weights to define filtration steps...\n",
        "Preliminary scan and sorting completed.\n",
        "Constructing filtration...\n",
        "Scanning cliques of dimension:  2\n",
        "Scanning cliques of dimension:  3\n",
        "Clique dictionary created.\n",
        "7707\n",
        "Landmarks: "
       ]
      },
      {
       "output_type": "stream",
       "stream": "stdout",
       "text": [
        " [3, 1, 9, 2, 6, 0, 4, 5, 7, 8]\n",
        "Uv cut 44.821869662\n",
        "Preliminary scan of edge weights to define filtration steps...\n",
        "Preliminary scan and sorting completed.\n",
        "Constructing filtration...\n",
        "Scanning cliques of dimension:  2\n",
        "Scanning cliques of dimension:  3\n",
        "Clique dictionary created.\n",
        "1849\n",
        "Landmarks: "
       ]
      },
      {
       "output_type": "stream",
       "stream": "stdout",
       "text": [
        " [3, 22, 16, 0, 17, 18, 11, 21, 9, 10, 12, 1, 2, 13, 4, 5, 6, 7, 8, 14, 15, 19, 20]\n",
        "Uv cut 47.8016736109\n",
        "Preliminary scan of edge weights to define filtration steps...\n",
        "Preliminary scan and sorting completed.\n",
        "Constructing filtration...\n",
        "Scanning cliques of dimension:  2\n",
        "Scanning cliques of dimension:  3\n",
        "Clique dictionary created.\n",
        "7705\n",
        "Landmarks:  [2, 5, 1, 3, 11, 12, 13, 8, 4, 9, 0, 6, 7, 10]\n",
        "Uv cut 49.040799341\n",
        "Preliminary scan of edge weights to define filtration steps...\n",
        "Preliminary scan and sorting completed.\n",
        "Constructing filtration...\n",
        "Scanning cliques of dimension:  2\n",
        "Scanning cliques of dimension:  3\n",
        "Clique dictionary created.\n",
        "7702\n",
        "Landmarks:  [0, 3, 2, 4, 1]\n",
        "Uv cut 16.7630546142\n",
        "Preliminary scan of edge weights to define filtration steps...\n",
        "Preliminary scan and sorting completed.\n",
        "Constructing filtration...\n",
        "Scanning cliques of dimension:  2\n",
        "Scanning cliques of dimension:  3\n",
        "Clique dictionary created.\n",
        "7700\n",
        "Landmarks:  [4, 3, 0, 1, 2]\n",
        "Uv cut 2.2360679775\n",
        "Preliminary scan of edge weights to define filtration steps...\n",
        "Preliminary scan and sorting completed.\n",
        "Constructing filtration...\n",
        "Scanning cliques of dimension:  2\n",
        "Scanning cliques of dimension:  3\n",
        "Clique dictionary created.\n",
        "7701\n",
        "Landmarks:  [2, 0, 4, 1, 3, 5]\n",
        "Uv cut 18.973665961\n",
        "Preliminary scan of edge weights to define filtration steps...\n",
        "Preliminary scan and sorting completed.\n",
        "Constructing filtration...\n",
        "Scanning cliques of dimension:  2\n",
        "Scanning cliques of dimension:  3\n",
        "Clique dictionary created.\n",
        "33\n",
        "Landmarks: "
       ]
      },
      {
       "output_type": "stream",
       "stream": "stdout",
       "text": [
        " [22, 29, 12, 5, 17, 16, 7, 9, 3, 21, 27, 28, 2, 6, 10, 13, 20, 24, 26, 31, 0, 1, 4, 8, 11, 14, 15, 18, 19, 23]\n",
        "Uv cut 26.9072480941\n",
        "Preliminary scan of edge weights to define filtration steps...\n",
        "Preliminary scan and sorting completed.\n",
        "Constructing filtration...\n",
        "Scanning cliques of dimension:  2\n",
        "Scanning cliques of dimension:  3\n",
        "Clique dictionary created.\n",
        "32\n",
        "Landmarks: "
       ]
      },
      {
       "output_type": "stream",
       "stream": "stdout",
       "text": [
        " [14, 22, 6, 1, 23, 24, 27, 15, 8, 11, 20, 31, 17, 30, 18, 2, 3, 29, 36, 5, 12, 13, 21, 0, 4, 7, 9, 10, 16, 19]\n",
        "Uv cut 56.2938717802\n",
        "Preliminary scan of edge weights to define filtration steps...\n",
        "Preliminary scan and sorting completed.\n",
        "Constructing filtration...\n",
        "Scanning cliques of dimension:  2\n",
        "Scanning cliques of dimension:  3\n",
        "Clique dictionary created.\n",
        "31\n",
        "Landmarks: "
       ]
      },
      {
       "output_type": "stream",
       "stream": "stdout",
       "text": [
        " [36, 75, 50, 64, 61, 8, 72, 44, 59, 12, 28, 9, 38, 30, 21, 73, 66, 37, 3, 13, 39, 6, 2, 16, 23, 35, 42, 54, 58, 46]\n",
        "Uv cut 75.4519714786\n",
        "Preliminary scan of edge weights to define filtration steps...\n",
        "Preliminary scan and sorting completed.\n",
        "Constructing filtration...\n",
        "Scanning cliques of dimension:  2\n",
        "Scanning cliques of dimension:  3\n",
        "Clique dictionary created.\n",
        "30\n",
        "Landmarks: "
       ]
      },
      {
       "output_type": "stream",
       "stream": "stdout",
       "text": [
        " [0, 20, 14, 2, 23, 15, 10, 17, 19, 16, 11, 7, 4, 5, 9, 13, 1, 3, 6, 8, 12, 18, 21, 22]\n",
        "Uv cut 57.7234787586\n",
        "Preliminary scan of edge weights to define filtration steps...\n",
        "Preliminary scan and sorting completed.\n",
        "Constructing filtration...\n",
        "Scanning cliques of dimension:  2\n",
        "Scanning cliques of dimension:  3\n",
        "Clique dictionary created.\n",
        "36\n",
        "Landmarks: "
       ]
      },
      {
       "output_type": "stream",
       "stream": "stdout",
       "text": [
        " [31, 27, 23, 7, 2, 14, 3, 20, 10, 11, 28, 13, 18, 6, 17, 4, 5, 29, 0, 15, 34, 1, 8, 9, 12, 16, 19, 21, 22, 24]\n",
        "Uv cut 57.2450871254\n",
        "Preliminary scan of edge weights to define filtration steps...\n",
        "Preliminary scan and sorting completed.\n",
        "Constructing filtration...\n",
        "Scanning cliques of dimension:  2\n",
        "Scanning cliques of dimension:  3\n",
        "Clique dictionary created.\n",
        "34\n",
        "Landmarks: "
       ]
      },
      {
       "output_type": "stream",
       "stream": "stdout",
       "text": [
        " [15, 22, 27, 19, 35, 46, 23, 34, 25, 4, 3, 40, 45, 5, 8, 6, 7, 18, 20, 33, 30, 37, 2, 17, 31, 0, 1, 9, 10, 11]\n",
        "Uv cut 34.4818792991\n",
        "Preliminary scan of edge weights to define filtration steps...\n",
        "Preliminary scan and sorting completed.\n",
        "Constructing filtration...\n",
        "Scanning cliques of dimension:  2\n",
        "Scanning cliques of dimension:  3\n",
        "Clique dictionary created.\n",
        "1905\n",
        "Landmarks:  [4, 2, 0, 1, 3]\n",
        "Uv cut 57.4543296889\n",
        "Preliminary scan of edge weights to define filtration steps...\n",
        "Preliminary scan and sorting completed.\n",
        "Constructing filtration...\n",
        "Scanning cliques of dimension:  2\n",
        "Scanning cliques of dimension:  3\n",
        "Clique dictionary created.\n",
        "855\n",
        "Landmarks:  [1, 0]\n",
        "Uv cut 10.0498756211\n",
        "Preliminary scan of edge weights to define filtration steps...\n",
        "Preliminary scan and sorting completed.\n",
        "Constructing filtration...\n",
        "Scanning cliques of dimension:  2\n",
        "Scanning cliques of dimension:  3\n",
        "Clique dictionary created.\n",
        "856\n",
        "Landmarks: "
       ]
      },
      {
       "output_type": "stream",
       "stream": "stdout",
       "text": [
        " [4, 24, 21, 7, 53, 16, 2, 61, 8, 54, 14, 23, 55, 20, 5, 32, 37, 3, 40, 17, 19, 25, 44, 56, 59, 6, 9, 12, 22, 28]\n",
        "Uv cut 58.6685605755\n",
        "Preliminary scan of edge weights to define filtration steps...\n",
        "Preliminary scan and sorting completed.\n",
        "Constructing filtration...\n",
        "Scanning cliques of dimension:  2\n",
        "Scanning cliques of dimension:  3\n",
        "Clique dictionary created.\n",
        "850\n",
        "Landmarks:  [6, 8, 10, 0, 13, 7, 9, 11, 1, 2, 3, 4, 5, 12, 14, 15, 16]\n",
        "Uv cut 20.6155281281\n",
        "Preliminary scan of edge weights to define filtration steps...\n",
        "Preliminary scan and sorting completed.\n",
        "Constructing filtration...\n",
        "Scanning cliques of dimension:  2\n",
        "Scanning cliques of dimension:  3\n",
        "Clique dictionary created."
       ]
      },
      {
       "output_type": "stream",
       "stream": "stdout",
       "text": [
        "\n",
        "852\n",
        "Landmarks:  [12, 3, 13, 1, 11, 15, 7, 2, 5, 4, 17, 6, 10, 0, 8, 9, 14, 16, 18, 19]\n",
        "Uv cut 38.3275357935\n",
        "Preliminary scan of edge weights to define filtration steps...\n",
        "Preliminary scan and sorting completed.\n",
        "Constructing filtration...\n",
        "Scanning cliques of dimension:  2\n",
        "Scanning cliques of dimension:  3\n",
        "Clique dictionary created.\n",
        "853\n",
        "Landmarks:  [1, 2, 5, 7, 0, 3, 4, 6, 8]\n",
        "Uv cut 12.0415945788\n",
        "Preliminary scan of edge weights to define filtration steps...\n",
        "Preliminary scan and sorting completed.\n",
        "Constructing filtration...\n",
        "Scanning cliques of dimension:  2\n",
        "Scanning cliques of dimension:  3\n",
        "Clique dictionary created.\n",
        "98\n",
        "Landmarks: "
       ]
      },
      {
       "output_type": "stream",
       "stream": "stdout",
       "text": [
        " [7, 20, 2, 6, 15, 0, 4, 11, 21, 16, 1, 3, 5, 8, 9, 10, 12, 13, 14, 17, 18, 19]\n",
        "Uv cut 23.0867927612\n",
        "Preliminary scan of edge weights to define filtration steps...\n",
        "Preliminary scan and sorting completed.\n",
        "Constructing filtration...\n",
        "Scanning cliques of dimension:  2\n",
        "Scanning cliques of dimension:  3\n",
        "Clique dictionary created.\n",
        "88216\n",
        "Landmarks:  [18, 5, 19, 1, 3, 17, 11, 2, 4, 6, 7, 9, 0, 8, 10, 12, 13, 14, 15, 16]\n",
        "Uv cut 58.1807528312\n",
        "Preliminary scan of edge weights to define filtration steps...\n",
        "Preliminary scan and sorting completed.\n",
        "Constructing filtration...\n",
        "Scanning cliques of dimension:  2\n",
        "Scanning cliques of dimension:  3\n",
        "Clique dictionary created."
       ]
      },
      {
       "output_type": "stream",
       "stream": "stdout",
       "text": [
        "\n",
        "91\n",
        "Landmarks: "
       ]
      },
      {
       "output_type": "stream",
       "stream": "stdout",
       "text": [
        " [83, 74, 49, 79, 16, 75, 37, 58, 12, 14, 19, 71, 46, 25, 8, 35, 99, 110, 38, 51, 3, 70, 61, 67, 43, 76, 80, 86, 4, 17]\n",
        "Uv cut 92.0217365626\n",
        "Preliminary scan of edge weights to define filtration steps...\n",
        "Preliminary scan and sorting completed.\n",
        "Constructing filtration...\n",
        "Scanning cliques of dimension:  2\n",
        "Scanning cliques of dimension:  3\n",
        "Clique dictionary created.\n",
        "90\n",
        "Landmarks:  [3, 2, 9, 6, 11, 0, 1, 7, 10, 4, 5, 8, 12]\n",
        "Uv cut 23.4093998214\n",
        "Preliminary scan of edge weights to define filtration steps...\n",
        "Preliminary scan and sorting completed.\n",
        "Constructing filtration...\n",
        "Scanning cliques of dimension:  2\n",
        "Scanning cliques of dimension:  3\n",
        "Clique dictionary created.\n",
        "93\n",
        "Landmarks: "
       ]
      },
      {
       "output_type": "stream",
       "stream": "stdout",
       "text": [
        " [28, 29, 11, 38, 6, 45, 7, 36, 44, 1, 35, 0, 3, 12, 22, 4, 5, 18, 23, 26, 32, 33, 34, 2, 8, 9, 10, 13, 14, 15]\n",
        "Uv cut 49.5176736126\n",
        "Preliminary scan of edge weights to define filtration steps...\n",
        "Preliminary scan and sorting completed.\n",
        "Constructing filtration...\n",
        "Scanning cliques of dimension:  2\n",
        "Scanning cliques of dimension:  3\n",
        "Clique dictionary created.\n",
        "92\n",
        "Landmarks: "
       ]
      },
      {
       "output_type": "stream",
       "stream": "stdout",
       "text": [
        " [14, 36, 17, 2, 35, 28, 29, 11, 20, 32, 3, 1, 4, 5, 10, 13, 18, 33, 0, 6, 7, 8, 9, 12, 15, 16, 19, 21, 22, 23]\n",
        "Uv cut 48.6004115209\n",
        "Preliminary scan of edge weights to define filtration steps...\n",
        "Preliminary scan and sorting completed.\n",
        "Constructing filtration...\n",
        "Scanning cliques of dimension:  2\n",
        "Scanning cliques of dimension:  3\n",
        "Clique dictionary created.\n",
        "95\n",
        "Landmarks:  [5, 15, 14, 6, 7, 2, 9, 4, 10, 3, 12, 0, 1, 8, 11, 13]\n",
        "Uv cut 40.3608721412\n",
        "Preliminary scan of edge weights to define filtration steps...\n",
        "Preliminary scan and sorting completed.\n",
        "Constructing filtration...\n",
        "Scanning cliques of dimension:  2\n",
        "Scanning cliques of dimension:  3\n",
        "Clique dictionary created.\n",
        "94\n",
        "Landmarks: "
       ]
      },
      {
       "output_type": "stream",
       "stream": "stdout",
       "text": [
        " [58, 79, 2, 190, 221, 26, 205, 42, 168, 63, 94, 122, 64, 105, 125, 15, 37, 185, 144, 82, 54, 57, 95, 213, 195, 152, 201, 158, 1, 4]\n",
        "Uv cut 55.4707129934\n",
        "Preliminary scan of edge weights to define filtration steps...\n",
        "Preliminary scan and sorting completed.\n",
        "Constructing filtration...\n",
        "Scanning cliques of dimension:  2\n",
        "Scanning cliques of dimension:  3\n",
        "Clique dictionary created.\n",
        "18687\n",
        "Landmarks:  [1, 2, 0]\n",
        "Uv cut 1.41421356237\n",
        "Preliminary scan of edge weights to define filtration steps...\n",
        "Preliminary scan and sorting completed.\n",
        "Constructing filtration...\n",
        "Scanning cliques of dimension:  2\n",
        "Scanning cliques of dimension:  3\n",
        "Clique dictionary created.\n",
        "238\n",
        "Landmarks: "
       ]
      },
      {
       "output_type": "stream",
       "stream": "stdout",
       "text": [
        " [21, 8, 27, 28, 17, 3, 19, 25, 26, 9, 29, 1, 10, 16, 12, 14, 0, 2, 4, 5, 6, 7, 11, 13, 15, 18, 20, 22, 23, 24]\n",
        "Uv cut 50.0899191455\n",
        "Preliminary scan of edge weights to define filtration steps...\n",
        "Preliminary scan and sorting completed.\n",
        "Constructing filtration...\n",
        "Scanning cliques of dimension:  2\n",
        "Scanning cliques of dimension:  3\n",
        "Clique dictionary created.\n",
        "239\n",
        "Landmarks:  [5, 1, 6, 2, 0, 3, 4]\n",
        "Uv cut 22.2036033112\n",
        "Preliminary scan of edge weights to define filtration steps...\n",
        "Preliminary scan and sorting completed.\n",
        "Constructing filtration...\n",
        "Scanning cliques of dimension:  2\n",
        "Scanning cliques of dimension:  3\n",
        "Clique dictionary created.\n",
        "234\n",
        "Landmarks: "
       ]
      },
      {
       "output_type": "stream",
       "stream": "stdout",
       "text": [
        " [55, 43, 9, 38, 20, 2, 42, 53, 68, 23, 28, 26, 0, 5, 30, 29, 7, 72, 50, 49, 70, 39, 56, 13, 11, 18, 21, 47, 51, 62]\n",
        "Uv cut 59.076221951\n",
        "Preliminary scan of edge weights to define filtration steps...\n",
        "Preliminary scan and sorting completed.\n",
        "Constructing filtration...\n",
        "Scanning cliques of dimension:  2\n",
        "Scanning cliques of dimension:  3\n",
        "Clique dictionary created.\n",
        "235\n",
        "Landmarks:  [3, 10, 1, 2, 9, 4, 5, 11, 13, 14, 0, 6, 7, 8, 12]\n",
        "Uv cut 25.2388589282\n",
        "Preliminary scan of edge weights to define filtration steps...\n",
        "Preliminary scan and sorting completed.\n",
        "Constructing filtration...\n",
        "Scanning cliques of dimension:  2\n",
        "Scanning cliques of dimension:  3\n",
        "Clique dictionary created.\n",
        "236\n",
        "Landmarks:  [1, 0]\n",
        "Uv cut 1.0\n",
        "Preliminary scan of edge weights to define filtration steps...\n",
        "Preliminary scan and sorting completed.\n",
        "Constructing filtration...\n",
        "Scanning cliques of dimension:  2\n",
        "Scanning cliques of dimension:  3\n",
        "Clique dictionary created.\n",
        "237\n",
        "Landmarks: "
       ]
      },
      {
       "output_type": "stream",
       "stream": "stdout",
       "text": [
        " [13, 0, 5, 2, 14, 1, 18, 28, 38, 16, 21, 15, 24, 19, 34, 36, 3, 8, 9, 11, 22, 25, 4, 6, 7, 10, 12, 17, 20, 23]\n",
        "Uv cut 51.0881590978\n",
        "Preliminary scan of edge weights to define filtration steps...\n",
        "Preliminary scan and sorting completed.\n",
        "Constructing filtration...\n",
        "Scanning cliques of dimension:  2\n",
        "Scanning cliques of dimension:  3\n",
        "Clique dictionary created."
       ]
      },
      {
       "output_type": "stream",
       "stream": "stdout",
       "text": [
        "\n",
        "230\n",
        "Landmarks: "
       ]
      },
      {
       "output_type": "stream",
       "stream": "stdout",
       "text": [
        " [39, 61, 12, 5, 18, 50, 48, 73, 2, 68, 23, 33, 32, 62, 70, 49, 34, 58, 44, 63, 4, 9, 17, 20, 40, 42, 54, 6, 14, 27]\n",
        "Uv cut 52.2015325446\n",
        "Preliminary scan of edge weights to define filtration steps...\n",
        "Preliminary scan and sorting completed.\n",
        "Constructing filtration...\n",
        "Scanning cliques of dimension:  2\n",
        "Scanning cliques of dimension:  3\n",
        "Clique dictionary created.\n",
        "231\n",
        "Landmarks:  [4, 0, 2, 5, 1, 3, 6, 7]\n",
        "Uv cut 47.7074417675\n",
        "Preliminary scan of edge weights to define filtration steps...\n",
        "Preliminary scan and sorting completed.\n",
        "Constructing filtration...\n",
        "Scanning cliques of dimension:  2\n",
        "Scanning cliques of dimension:  3\n",
        "Clique dictionary created.\n",
        "232\n",
        "Landmarks: "
       ]
      },
      {
       "output_type": "stream",
       "stream": "stdout",
       "text": [
        " [0, 12, 11, 8, 1, 7, 4, 2, 3, 5, 6, 9, 10, 13, 14, 15]\n",
        "Uv cut 27.7848879789\n",
        "Preliminary scan of edge weights to define filtration steps...\n",
        "Preliminary scan and sorting completed.\n",
        "Constructing filtration...\n",
        "Scanning cliques of dimension:  2\n",
        "Scanning cliques of dimension:  3\n",
        "Clique dictionary created.\n",
        "233\n",
        "Landmarks: "
       ]
      },
      {
       "output_type": "stream",
       "stream": "stdout",
       "text": [
        " [18, 58, 1, 20, 36, 74, 28, 62, 13, 24, 88, 5, 76, 22, 31, 85, 7, 0, 67, 69, 3, 80, 63, 44, 25, 8, 19, 33, 53, 86]\n",
        "Uv cut 90.0\n",
        "Preliminary scan of edge weights to define filtration steps...\n",
        "Preliminary scan and sorting completed.\n",
        "Constructing filtration...\n",
        "Scanning cliques of dimension:  2\n",
        "Scanning cliques of dimension:  3\n",
        "Clique dictionary created.\n",
        "1\n",
        "Landmarks: "
       ]
      },
      {
       "output_type": "stream",
       "stream": "stdout",
       "text": [
        " [6, 12, 1, 19, 4, 11, 29, 27, 2, 7, 23, 18, 21, 3, 13, 17, 0, 5, 8, 9, 10, 14, 15, 16, 20, 22, 24, 25, 26, 28]\n",
        "Uv cut 34.4818792991\n",
        "Preliminary scan of edge weights to define filtration steps...\n",
        "Preliminary scan and sorting completed.\n",
        "Constructing filtration...\n",
        "Scanning cliques of dimension:  2\n",
        "Scanning cliques of dimension:  3\n",
        "Clique dictionary created.\n",
        "1289\n",
        "Landmarks: "
       ]
      },
      {
       "output_type": "stream",
       "stream": "stdout",
       "text": [
        " [1, 7, 17, 0, 11, 4, 10, 2, 8, 6, 14, 22, 3, 5, 9, 12, 13, 15, 16, 18, 19, 20, 21]\n",
        "Uv cut 58.2494635168\n",
        "Preliminary scan of edge weights to define filtration steps...\n",
        "Preliminary scan and sorting completed.\n",
        "Constructing filtration...\n",
        "Scanning cliques of dimension:  2\n",
        "Scanning cliques of dimension:  3\n",
        "Clique dictionary created.\n",
        "1473\n",
        "Landmarks:  [2, 1, 0, 3]\n",
        "Uv cut 22.0227155455\n",
        "Preliminary scan of edge weights to define filtration steps...\n",
        "Preliminary scan and sorting completed.\n",
        "Constructing filtration...\n",
        "Scanning cliques of dimension:  2\n",
        "Scanning cliques of dimension:  3\n",
        "Clique dictionary created.\n",
        "688\n",
        "Landmarks:  [3, 2, 0, 1]\n",
        "Uv cut 26.83281573\n",
        "Preliminary scan of edge weights to define filtration steps...\n",
        "Preliminary scan and sorting completed.\n",
        "Constructing filtration...\n",
        "Scanning cliques of dimension:  2\n",
        "Scanning cliques of dimension:  3\n",
        "Clique dictionary created.\n",
        "686\n",
        "Landmarks:  [2, 3, 4, 0, 1]\n",
        "Uv cut 6.0827625303\n",
        "Preliminary scan of edge weights to define filtration steps...\n",
        "Preliminary scan and sorting completed.\n",
        "Constructing filtration...\n",
        "Scanning cliques of dimension:  2\n",
        "Scanning cliques of dimension:  3\n",
        "Clique dictionary created.\n",
        "1306\n",
        "Landmarks:  [1, 0]\n",
        "Uv cut 1.0\n",
        "Preliminary scan of edge weights to define filtration steps...\n",
        "Preliminary scan and sorting completed.\n",
        "Constructing filtration...\n",
        "Scanning cliques of dimension:  2\n",
        "Scanning cliques of dimension:  3\n",
        "Clique dictionary created.\n",
        "27\n",
        "Landmarks: "
       ]
      },
      {
       "output_type": "stream",
       "stream": "stdout",
       "text": [
        " [26, 13, 23, 12, 11, 7, 36, 43, 27, 17, 4, 35, 1, 21, 30, 3, 2, 31, 32, 40, 38, 6, 9, 15, 24, 29, 0, 5, 8, 10]\n",
        "Uv cut 49.1629942131\n",
        "Preliminary scan of edge weights to define filtration steps...\n",
        "Preliminary scan and sorting completed.\n",
        "Constructing filtration...\n",
        "Scanning cliques of dimension:  2\n",
        "Scanning cliques of dimension:  3\n",
        "Clique dictionary created.\n",
        "20\n",
        "Landmarks: "
       ]
      },
      {
       "output_type": "stream",
       "stream": "stdout",
       "text": [
        " [85, 140, 61, 109, 159, 46, 93, 3, 24, 35, 37, 74, 124, 112, 8, 130, 166, 60, 162, 59, 122, 32, 49, 64, 81, 126, 9, 41, 47, 82]\n",
        "Uv cut 60.2162768693\n",
        "Preliminary scan of edge weights to define filtration steps...\n",
        "Preliminary scan and sorting completed.\n",
        "Constructing filtration...\n",
        "Scanning cliques of dimension:  2\n",
        "Scanning cliques of dimension:  3\n",
        "Clique dictionary created.\n",
        "378\n",
        "Landmarks: "
       ]
      },
      {
       "output_type": "stream",
       "stream": "stdout",
       "text": [
        " [18, 9, 26, 33, 30, 31, 38, 19, 16, 20, 28, 0, 2, 10, 1, 32, 5, 6, 21, 39, 15, 37, 3, 4, 7, 8, 11, 12, 13, 14]\n",
        "Uv cut 54.4518135602\n",
        "Preliminary scan of edge weights to define filtration steps...\n",
        "Preliminary scan and sorting completed.\n",
        "Constructing filtration...\n",
        "Scanning cliques of dimension:  2\n",
        "Scanning cliques of dimension:  3\n",
        "Clique dictionary created.\n",
        "371\n",
        "Landmarks: "
       ]
      },
      {
       "output_type": "stream",
       "stream": "stdout",
       "text": [
        " [5, 11, 0, 16, 7, 2, 6, 12, 20, 1, 10, 17, 3, 4, 8, 9, 13, 14, 15, 18, 19]\n",
        "Uv cut 63.1268564083\n",
        "Preliminary scan of edge weights to define filtration steps...\n",
        "Preliminary scan and sorting completed.\n",
        "Constructing filtration...\n",
        "Scanning cliques of dimension:  2\n",
        "Scanning cliques of dimension:  3\n",
        "Clique dictionary created.\n",
        "370\n",
        "Landmarks: "
       ]
      },
      {
       "output_type": "stream",
       "stream": "stdout",
       "text": [
        " [30, 17, 24, 16, 32, 31, 27, 2, 25, 7, 12, 5, 11, 20, 0, 15, 28, 9, 13, 14, 18, 19, 26, 1, 3, 4, 6, 8, 10, 21]\n",
        "Uv cut 72.1387551875\n",
        "Preliminary scan of edge weights to define filtration steps...\n",
        "Preliminary scan and sorting completed.\n",
        "Constructing filtration...\n",
        "Scanning cliques of dimension:  2\n",
        "Scanning cliques of dimension:  3\n",
        "Clique dictionary created.\n",
        "373\n",
        "Landmarks: "
       ]
      },
      {
       "output_type": "stream",
       "stream": "stdout",
       "text": [
        " [99, 176, 135, 166, 170, 76, 211, 104, 182, 6, 171, 142, 195, 27, 156, 1, 78, 220, 0, 64, 114, 26, 101, 10, 158, 29, 191, 39, 206, 90]\n",
        "Uv cut 73.2393336944\n",
        "Preliminary scan of edge weights to define filtration steps...\n",
        "Preliminary scan and sorting completed.\n",
        "Constructing filtration...\n",
        "Scanning cliques of dimension:  2\n",
        "Scanning cliques of dimension:  3\n",
        "Clique dictionary created.\n",
        "372\n",
        "Landmarks:  [0, 2, 6, 11, 5, 10, 8, 9, 3, 13, 1, 4, 7, 12]\n",
        "Uv cut 25.8069758011\n",
        "Preliminary scan of edge weights to define filtration steps...\n",
        "Preliminary scan and sorting completed.\n",
        "Constructing filtration...\n",
        "Scanning cliques of dimension:  2\n",
        "Scanning cliques of dimension:  3\n",
        "Clique dictionary created.\n",
        "375\n",
        "Landmarks: "
       ]
      },
      {
       "output_type": "stream",
       "stream": "stdout",
       "text": [
        " [15, 1, 13, 34, 18, 7, 8, 6, 4, 17, 19, 3, 32, 5, 31, 10, 30, 9, 12, 24, 26, 0, 2, 11, 14, 16, 20, 21, 22, 23]\n",
        "Uv cut 98.0\n",
        "Preliminary scan of edge weights to define filtration steps...\n",
        "Preliminary scan and sorting completed.\n",
        "Constructing filtration...\n",
        "Scanning cliques of dimension:  2\n",
        "Scanning cliques of dimension:  3\n",
        "Clique dictionary created.\n",
        "374\n",
        "Landmarks:  [2, 9, 8, 3, 4, 7, 0, 1, 5, 6]\n",
        "Uv cut 8.60232526704\n",
        "Preliminary scan of edge weights to define filtration steps...\n",
        "Preliminary scan and sorting completed.\n",
        "Constructing filtration...\n",
        "Scanning cliques of dimension:  2\n",
        "Scanning cliques of dimension:  3\n",
        "Clique dictionary created.\n",
        "377\n",
        "Landmarks: "
       ]
      },
      {
       "output_type": "stream",
       "stream": "stdout",
       "text": [
        " [22, 3, 20, 13, 19, 21, 1, 12, 0, 9, 17, 16, 2, 15, 11, 18, 4, 5, 6, 7, 8, 10, 14]\n",
        "Uv cut 62.4819974073\n",
        "Preliminary scan of edge weights to define filtration steps...\n",
        "Preliminary scan and sorting completed.\n",
        "Constructing filtration...\n",
        "Scanning cliques of dimension:  2\n",
        "Scanning cliques of dimension:  3\n",
        "Clique dictionary created.\n",
        "376\n",
        "Landmarks:  [0, 2, 1]\n",
        "Uv cut 39.2937654088\n",
        "Preliminary scan of edge weights to define filtration steps...\n",
        "Preliminary scan and sorting completed.\n",
        "Constructing filtration...\n",
        "Scanning cliques of dimension:  2\n",
        "Scanning cliques of dimension:  3\n",
        "Clique dictionary created.\n",
        "82\n",
        "Landmarks: "
       ]
      },
      {
       "output_type": "stream",
       "stream": "stdout",
       "text": [
        " [24, 26, 38, 9, 36, 8, 25, 7, 2, 23, 10, 22, 29, 33, 12, 21, 5, 35, 44, 0, 6, 18, 27, 28, 30, 32, 1, 3, 4, 11]\n",
        "Uv cut 55.1452627158\n",
        "Preliminary scan of edge weights to define filtration steps...\n",
        "Preliminary scan and sorting completed.\n",
        "Constructing filtration...\n",
        "Scanning cliques of dimension:  2\n",
        "Scanning cliques of dimension:  3\n",
        "Clique dictionary created.\n",
        "81\n",
        "Landmarks:  [0, 3, 1, 2, 4]\n",
        "Uv cut 20.8086520467\n",
        "Preliminary scan of edge weights to define filtration steps...\n",
        "Preliminary scan and sorting completed.\n",
        "Constructing filtration...\n",
        "Scanning cliques of dimension:  2\n",
        "Scanning cliques of dimension:  3\n",
        "Clique dictionary created.\n",
        "86\n",
        "Landmarks: "
       ]
      },
      {
       "output_type": "stream",
       "stream": "stdout",
       "text": [
        " [14, 2, 6, 18, 3, 4, 10, 11, 12, 17, 9, 16, 0, 1, 5, 7, 8, 13, 15]\n",
        "Uv cut 25.079872408\n",
        "Preliminary scan of edge weights to define filtration steps...\n",
        "Preliminary scan and sorting completed.\n",
        "Constructing filtration...\n",
        "Scanning cliques of dimension:  2\n",
        "Scanning cliques of dimension:  3\n",
        "Clique dictionary created.\n",
        "84\n",
        "Landmarks: "
       ]
      },
      {
       "output_type": "stream",
       "stream": "stdout",
       "text": [
        " [6, 31, 1, 7, 24, 37, 5, 12, 29, 34, 16, 9, 17, 32, 35, 8, 11, 19, 30, 0, 2, 3, 4, 10, 13, 14, 15, 18, 20, 21]\n",
        "Uv cut 48.795491595\n",
        "Preliminary scan of edge weights to define filtration steps...\n",
        "Preliminary scan and sorting completed.\n",
        "Constructing filtration...\n",
        "Scanning cliques of dimension:  2\n",
        "Scanning cliques of dimension:  3\n",
        "Clique dictionary created.\n",
        "7\n",
        "Landmarks:  [1, 4, 0, 5, 2, 3]\n",
        "Uv cut 20.591260282\n",
        "Preliminary scan of edge weights to define filtration steps...\n",
        "Preliminary scan and sorting completed.\n",
        "Constructing filtration...\n",
        "Scanning cliques of dimension:  2\n",
        "Scanning cliques of dimension:  3\n",
        "Clique dictionary created.\n",
        "974\n",
        "Landmarks:  [8, 9, 10, 4, 5, 7, 0, 1, 2, 3, 6, 11]\n",
        "Uv cut 52.3545604508\n",
        "Preliminary scan of edge weights to define filtration steps...\n",
        "Preliminary scan and sorting completed.\n",
        "Constructing filtration...\n",
        "Scanning cliques of dimension:  2\n",
        "Scanning cliques of dimension:  3\n",
        "Clique dictionary created.\n",
        "977\n",
        "Landmarks: "
       ]
      },
      {
       "output_type": "stream",
       "stream": "stdout",
       "text": [
        " [9, 7, 1, 12, 4, 6, 11, 0, 2, 3, 5, 8, 10, 13]\n",
        "Uv cut 57.3846669416\n",
        "Preliminary scan of edge weights to define filtration steps...\n",
        "Preliminary scan and sorting completed.\n",
        "Constructing filtration...\n",
        "Scanning cliques of dimension:  2\n",
        "Scanning cliques of dimension:  3\n",
        "Clique dictionary created.\n",
        "245\n",
        "Landmarks:  [5, 1, 12, 3, 0, 2, 6, 7, 4, 8, 9, 10, 11]\n",
        "Uv cut 67.2309452559\n",
        "Preliminary scan of edge weights to define filtration steps...\n",
        "Preliminary scan and sorting completed.\n",
        "Constructing filtration...\n",
        "Scanning cliques of dimension:  2\n",
        "Scanning cliques of dimension:  3\n",
        "Clique dictionary created.\n",
        "244\n",
        "Landmarks:  [15, 5, 6, 1, 0, 7, 4, 14, 9, 10, 2, 3, 8, 11, 12, 13]\n",
        "Uv cut 62.6258732474\n",
        "Preliminary scan of edge weights to define filtration steps...\n",
        "Preliminary scan and sorting completed.\n",
        "Constructing filtration...\n",
        "Scanning cliques of dimension:  2\n",
        "Scanning cliques of dimension:  3\n",
        "Clique dictionary created.\n",
        "241\n",
        "Landmarks:  [2, 10, 9, 5, 4, 0, 1, 3, 6, 7, 8, 11]\n",
        "Uv cut 56.8858506133\n",
        "Preliminary scan of edge weights to define filtration steps...\n",
        "Preliminary scan and sorting completed.\n",
        "Constructing filtration...\n",
        "Scanning cliques of dimension:  2\n",
        "Scanning cliques of dimension:  3\n",
        "Clique dictionary created.\n",
        "240\n",
        "Landmarks: "
       ]
      },
      {
       "output_type": "stream",
       "stream": "stdout",
       "text": [
        " [3, 21, 9, 15, 2, 11, 18, 19, 13, 17, 10, 4, 14, 0, 1, 5, 6, 7, 8, 12, 16, 20, 22]\n",
        "Uv cut 64.6374504448\n",
        "Preliminary scan of edge weights to define filtration steps...\n",
        "Preliminary scan and sorting completed.\n",
        "Constructing filtration...\n",
        "Scanning cliques of dimension:  2\n",
        "Scanning cliques of dimension:  3\n",
        "Clique dictionary created.\n",
        "243\n",
        "Landmarks: "
       ]
      },
      {
       "output_type": "stream",
       "stream": "stdout",
       "text": [
        " [27, 59, 61, 1, 48, 52, 23, 26, 14, 67, 6, 39, 70, 13, 40, 71, 56, 4, 38, 7, 10, 17, 44, 45, 47, 63, 65, 3, 31, 15]\n",
        "Uv cut 62.1691241695\n",
        "Preliminary scan of edge weights to define filtration steps...\n",
        "Preliminary scan and sorting completed.\n",
        "Constructing filtration...\n",
        "Scanning cliques of dimension:  2\n",
        "Scanning cliques of dimension:  3\n",
        "Clique dictionary created.\n",
        "242\n",
        "Landmarks: "
       ]
      },
      {
       "output_type": "stream",
       "stream": "stdout",
       "text": [
        " [17, 12, 9, 10, 0, 6, 4, 3, 7, 8, 15, 18, 1, 2, 5, 11, 13, 14, 16, 19]\n",
        "Uv cut 52.4309069157\n",
        "Preliminary scan of edge weights to define filtration steps...\n",
        "Preliminary scan and sorting completed.\n",
        "Constructing filtration...\n",
        "Scanning cliques of dimension:  2\n",
        "Scanning cliques of dimension:  3\n",
        "Clique dictionary created.\n",
        "973\n",
        "Landmarks:  [2, 14, 7, 4, 0, 5, 10, 9, 3, 6, 1, 8, 11, 12, 13]\n",
        "Uv cut 49.6789693935\n",
        "Preliminary scan of edge weights to define filtration steps...\n",
        "Preliminary scan and sorting completed.\n",
        "Constructing filtration...\n",
        "Scanning cliques of dimension:  2\n",
        "Scanning cliques of dimension:  3\n",
        "Clique dictionary created.\n",
        "249\n",
        "Landmarks: "
       ]
      },
      {
       "output_type": "stream",
       "stream": "stdout",
       "text": [
        " [6, 12, 21, 27, 20, 0, 1, 25, 16, 19, 24, 15, 26, 9, 11, 13, 18, 2, 3, 4, 5, 7, 8, 10, 14, 17, 22, 23]\n",
        "Uv cut 41.4366987102\n",
        "Preliminary scan of edge weights to define filtration steps...\n",
        "Preliminary scan and sorting completed.\n",
        "Constructing filtration...\n",
        "Scanning cliques of dimension:  2\n",
        "Scanning cliques of dimension:  3\n",
        "Clique dictionary created.\n",
        "248\n",
        "Landmarks: "
       ]
      },
      {
       "output_type": "stream",
       "stream": "stdout",
       "text": [
        " [31, 30, 43, 32, 10, 8, 37, 38, 20, 14, 17, 46, 16, 0, 44, 25, 29, 1, 9, 11, 12, 21, 26, 18, 22, 24, 35, 2, 3, 4]\n",
        "Uv cut 58.5918083012\n",
        "Preliminary scan of edge weights to define filtration steps...\n",
        "Preliminary scan and sorting completed.\n",
        "Constructing filtration...\n",
        "Scanning cliques of dimension:  2\n",
        "Scanning cliques of dimension:  3\n",
        "Clique dictionary created.\n",
        "972\n",
        "Landmarks:  [7, 8, 6, 0, 1, 3, 4, 2, 5, 9, 10, 11]\n",
        "Uv cut 39.2045915678\n",
        "Preliminary scan of edge weights to define filtration steps...\n",
        "Preliminary scan and sorting completed.\n",
        "Constructing filtration...\n",
        "Scanning cliques of dimension:  2\n",
        "Scanning cliques of dimension:  3\n",
        "Clique dictionary created.\n",
        "971\n",
        "Landmarks: "
       ]
      },
      {
       "output_type": "stream",
       "stream": "stdout",
       "text": [
        " [17, 29, 7, 37, 33, 12, 43, 36, 4, 1, 35, 3, 22, 10, 0, 2, 5, 30, 13, 24, 6, 11, 20, 39, 42, 8, 9, 14, 15, 16]\n",
        "Uv cut 50.9901951359\n",
        "Preliminary scan of edge weights to define filtration steps...\n",
        "Preliminary scan and sorting completed.\n",
        "Constructing filtration...\n",
        "Scanning cliques of dimension:  2\n",
        "Scanning cliques of dimension:  3\n",
        "Clique dictionary created.\n",
        "97282\n",
        "Landmarks:  [0, 2, 1, 3]\n",
        "Uv cut 2.2360679775\n",
        "Preliminary scan of edge weights to define filtration steps...\n",
        "Preliminary scan and sorting completed.\n",
        "Constructing filtration...\n",
        "Scanning cliques of dimension:  2\n",
        "Scanning cliques of dimension:  3\n",
        "Clique dictionary created.\n",
        "1438\n",
        "Landmarks:  [1, 2, 0]\n",
        "Uv cut 37.5898922584\n",
        "Preliminary scan of edge weights to define filtration steps...\n",
        "Preliminary scan and sorting completed.\n",
        "Constructing filtration...\n",
        "Scanning cliques of dimension:  2\n",
        "Scanning cliques of dimension:  3\n",
        "Clique dictionary created.\n",
        "1343\n",
        "Landmarks:  [0, 1]\n",
        "Uv cut 8.94427191\n",
        "Preliminary scan of edge weights to define filtration steps...\n",
        "Preliminary scan and sorting completed.\n",
        "Constructing filtration...\n",
        "Scanning cliques of dimension:  2\n",
        "Scanning cliques of dimension:  3\n",
        "Clique dictionary created.\n",
        "1345\n",
        "Landmarks:  [3, 1, 4, 0, 2, 5, 6]\n",
        "Uv cut 2.82842712475\n",
        "Preliminary scan of edge weights to define filtration steps...\n",
        "Preliminary scan and sorting completed.\n",
        "Constructing filtration...\n",
        "Scanning cliques of dimension:  2\n",
        "Scanning cliques of dimension:  3\n",
        "Clique dictionary created.\n",
        "976\n",
        "Landmarks: "
       ]
      },
      {
       "output_type": "stream",
       "stream": "stdout",
       "text": [
        " [6, 21, 10, 12, 7, 17, 14, 24, 25, 5, 11, 3, 0, 2, 13, 15, 1, 4, 8, 9, 16, 18, 19, 20, 22, 23, 26, 27]\n",
        "Uv cut 51.2445119013\n",
        "Preliminary scan of edge weights to define filtration steps...\n",
        "Preliminary scan and sorting completed.\n",
        "Constructing filtration...\n",
        "Scanning cliques of dimension:  2\n",
        "Scanning cliques of dimension:  3\n",
        "Clique dictionary created.\n",
        "975\n",
        "Landmarks: "
       ]
      },
      {
       "output_type": "stream",
       "stream": "stdout",
       "text": [
        " [39, 41, 38, 46, 45, 50, 6, 25, 62, 34, 26, 9, 10, 18, 28, 32, 36, 5, 49, 51, 1, 3, 30, 23, 8, 11, 21, 55, 54, 2]\n",
        "Uv cut 60.4648658313\n",
        "Preliminary scan of edge weights to define filtration steps...\n",
        "Preliminary scan and sorting completed.\n",
        "Constructing filtration...\n",
        "Scanning cliques of dimension:  2\n",
        "Scanning cliques of dimension:  3\n",
        "Clique dictionary created."
       ]
      },
      {
       "output_type": "stream",
       "stream": "stdout",
       "text": [
        "\n",
        "7712\n",
        "Landmarks:  [15, 1, 6, 10, 0, 8, 16, 2, 3, 4, 5, 7, 9, 11, 12, 13, 14]\n",
        "Uv cut 7.81024967591\n",
        "Preliminary scan of edge weights to define filtration steps...\n",
        "Preliminary scan and sorting completed.\n",
        "Constructing filtration...\n",
        "Scanning cliques of dimension:  2\n",
        "Scanning cliques of dimension:  3\n",
        "Clique dictionary created.\n",
        "970\n",
        "Landmarks:  [3, 6, 0, 5, 1, 2, 4]\n",
        "Uv cut 30.8058436015\n",
        "Preliminary scan of edge weights to define filtration steps...\n",
        "Preliminary scan and sorting completed.\n",
        "Constructing filtration...\n",
        "Scanning cliques of dimension:  2\n",
        "Scanning cliques of dimension:  3\n",
        "Clique dictionary created.\n",
        "882\n",
        "Landmarks:  [0, 2, 1]\n",
        "Uv cut 1.41421356237\n",
        "Preliminary scan of edge weights to define filtration steps...\n",
        "Preliminary scan and sorting completed.\n",
        "Constructing filtration...\n",
        "Scanning cliques of dimension:  2\n",
        "Scanning cliques of dimension:  3\n",
        "Clique dictionary created.\n",
        "880\n",
        "Landmarks: "
       ]
      },
      {
       "output_type": "stream",
       "stream": "stdout",
       "text": [
        " [41, 63, 85, 3, 68, 71, 29, 4, 66, 43, 72, 1, 20, 8, 22, 38, 44, 82, 13, 14, 26, 30, 45, 46, 77, 11, 15, 32, 53, 2]\n",
        "Uv cut 38.275318418\n",
        "Preliminary scan of edge weights to define filtration steps...\n",
        "Preliminary scan and sorting completed.\n",
        "Constructing filtration...\n",
        "Scanning cliques of dimension:  2\n",
        "Scanning cliques of dimension:  3\n",
        "Clique dictionary created.\n",
        "886\n",
        "Landmarks: "
       ]
      },
      {
       "output_type": "stream",
       "stream": "stdout",
       "text": [
        " [11, 10, 16, 15, 9, 7, 13, 17, 12, 1, 3, 4, 0, 2, 5, 6, 8, 14]\n",
        "Uv cut 41.6773319683\n",
        "Preliminary scan of edge weights to define filtration steps...\n",
        "Preliminary scan and sorting completed.\n",
        "Constructing filtration...\n",
        "Scanning cliques of dimension:  2\n",
        "Scanning cliques of dimension:  3\n",
        "Clique dictionary created.\n",
        "1613\n",
        "Landmarks:  [4, 10, 2, 13, 7, 6, 1, 3, 0, 12, 5, 8, 9, 11]\n",
        "Uv cut 53.2353266168\n",
        "Preliminary scan of edge weights to define filtration steps...\n",
        "Preliminary scan and sorting completed.\n",
        "Constructing filtration...\n",
        "Scanning cliques of dimension:  2\n",
        "Scanning cliques of dimension:  3\n",
        "Clique dictionary created.\n",
        "12687\n",
        "Landmarks:  [1, 0, 2]\n",
        "Uv cut 13.0384048104\n",
        "Preliminary scan of edge weights to define filtration steps...\n",
        "Preliminary scan and sorting completed.\n",
        "Constructing filtration...\n",
        "Scanning cliques of dimension:  2\n",
        "Scanning cliques of dimension:  3\n",
        "Clique dictionary created.\n",
        "1767\n",
        "Landmarks:  [1, 0, 2]\n",
        "Uv cut 2.0\n",
        "Preliminary scan of edge weights to define filtration steps...\n",
        "Preliminary scan and sorting completed.\n",
        "Constructing filtration...\n",
        "Scanning cliques of dimension:  2\n",
        "Scanning cliques of dimension:  3\n",
        "Clique dictionary created.\n",
        "216\n",
        "Landmarks: "
       ]
      },
      {
       "output_type": "stream",
       "stream": "stdout",
       "text": [
        " [144, 180, 157, 93, 171, 85, 65, 128, 83, 48, 78, 111, 3, 151, 175, 0, 140, 103, 27, 117, 66, 116, 152, 58, 113, 126, 132, 182, 57, 8]\n",
        "Uv cut 62.1691241695\n",
        "Preliminary scan of edge weights to define filtration steps...\n",
        "Preliminary scan and sorting completed.\n",
        "Constructing filtration...\n",
        "Scanning cliques of dimension:  2\n",
        "Scanning cliques of dimension:  3\n",
        "Clique dictionary created.\n",
        "692\n",
        "Landmarks:  [2, 0, 1]\n",
        "Uv cut 1.41421356237\n",
        "Preliminary scan of edge weights to define filtration steps...\n",
        "Preliminary scan and sorting completed.\n",
        "Constructing filtration...\n",
        "Scanning cliques of dimension:  2\n",
        "Scanning cliques of dimension:  3\n",
        "Clique dictionary created.\n",
        "690\n",
        "Landmarks:  [5, 1, 4, 0, 2, 3]\n",
        "Uv cut 2.2360679775\n",
        "Preliminary scan of edge weights to define filtration steps...\n",
        "Preliminary scan and sorting completed.\n",
        "Constructing filtration...\n",
        "Scanning cliques of dimension:  2\n",
        "Scanning cliques of dimension:  3\n",
        "Clique dictionary created.\n",
        "97259\n",
        "Landmarks:  [2, 3, 7, 4, 0, 1, 5, 6, 8]\n",
        "Uv cut 42.9534631898\n",
        "Preliminary scan of edge weights to define filtration steps...\n",
        "Preliminary scan and sorting completed.\n",
        "Constructing filtration...\n",
        "Scanning cliques of dimension:  2\n",
        "Scanning cliques of dimension:  3\n",
        "Clique dictionary created.\n",
        "18093\n",
        "Landmarks: "
       ]
      },
      {
       "output_type": "stream",
       "stream": "stdout",
       "text": [
        " [38, 13, 9, 22, 36, 24, 0, 34, 30, 1, 3, 18, 37, 10, 11, 15, 31, 5, 7, 16, 19, 20, 39, 2, 4, 6, 8, 12, 14, 17]\n",
        "Uv cut 55.6057550978\n",
        "Preliminary scan of edge weights to define filtration steps...\n",
        "Preliminary scan and sorting completed.\n",
        "Constructing filtration...\n",
        "Scanning cliques of dimension:  2\n",
        "Scanning cliques of dimension:  3\n",
        "Clique dictionary created.\n",
        "995\n",
        "Landmarks: "
       ]
      },
      {
       "output_type": "stream",
       "stream": "stdout",
       "text": [
        " [16, 8, 7, 19, 34, 29, 33, 10, 17, 31, 15, 9, 2, 5, 6, 11, 20, 21, 25, 26, 0, 1, 3, 4, 12, 13, 14, 18, 22, 23]\n",
        "Uv cut 44.598206242\n",
        "Preliminary scan of edge weights to define filtration steps...\n",
        "Preliminary scan and sorting completed.\n",
        "Constructing filtration...\n",
        "Scanning cliques of dimension:  2\n",
        "Scanning cliques of dimension:  3\n",
        "Clique dictionary created.\n",
        "994\n",
        "Landmarks:  [1, 3, 4, 2, 0]\n",
        "Uv cut 26.83281573\n",
        "Preliminary scan of edge weights to define filtration steps...\n",
        "Preliminary scan and sorting completed.\n",
        "Constructing filtration...\n",
        "Scanning cliques of dimension:  2\n",
        "Scanning cliques of dimension:  3\n",
        "Clique dictionary created.\n",
        "996\n",
        "Landmarks: "
       ]
      },
      {
       "output_type": "stream",
       "stream": "stdout",
       "text": [
        " [12, 25, 5, 16, 13, 0, 18, 4, 9, 10, 6, 24, 22, 8, 23, 15, 19, 20, 26, 1, 2, 3, 7, 11, 14, 17, 21, 27, 28, 29]\n",
        "Uv cut 81.4677850442\n",
        "Preliminary scan of edge weights to define filtration steps...\n",
        "Preliminary scan and sorting completed.\n",
        "Constructing filtration...\n",
        "Scanning cliques of dimension:  2\n",
        "Scanning cliques of dimension:  3\n",
        "Clique dictionary created.\n",
        "993\n",
        "Landmarks:  [1, 0]\n",
        "Uv cut 1.0\n",
        "Preliminary scan of edge weights to define filtration steps...\n",
        "Preliminary scan and sorting completed.\n",
        "Constructing filtration...\n",
        "Scanning cliques of dimension:  2\n",
        "Scanning cliques of dimension:  3\n",
        "Clique dictionary created.\n",
        "992\n",
        "Landmarks: "
       ]
      },
      {
       "output_type": "stream",
       "stream": "stdout",
       "text": [
        " [7, 30, 36, 26, 24, 18, 43, 13, 5, 22, 32, 11, 28, 27, 38, 15, 25, 33, 49, 1, 8, 12, 21, 23, 39, 0, 2, 3, 4, 6]\n",
        "Uv cut 89.8109124773\n",
        "Preliminary scan of edge weights to define filtration steps...\n",
        "Preliminary scan and sorting completed.\n",
        "Constructing filtration...\n",
        "Scanning cliques of dimension:  2\n",
        "Scanning cliques of dimension:  3\n",
        "Clique dictionary created.\n",
        "998\n",
        "Landmarks:  [9, 2, 8, 10, 7, 0, 1, 3, 4, 5, 6]\n",
        "Uv cut 33.6154726279\n",
        "Preliminary scan of edge weights to define filtration steps...\n",
        "Preliminary scan and sorting completed.\n",
        "Constructing filtration...\n",
        "Scanning cliques of dimension:  2\n",
        "Scanning cliques of dimension:  3\n",
        "Clique dictionary created.\n",
        "18764\n",
        "Landmarks:  [0, 5, 6, 7, 1, 2, 3, 4]\n",
        "Uv cut 3.60555127546\n",
        "Preliminary scan of edge weights to define filtration steps...\n",
        "Preliminary scan and sorting completed.\n",
        "Constructing filtration...\n",
        "Scanning cliques of dimension:  2\n",
        "Scanning cliques of dimension:  3\n",
        "Clique dictionary created.\n",
        "218\n",
        "Landmarks: "
       ]
      },
      {
       "output_type": "stream",
       "stream": "stdout",
       "text": [
        " [17, 15, 7, 18, 32, 21, 2, 20, 41, 11, 35, 16, 36, 34, 5, 26, 40, 37, 43, 3, 9, 19, 22, 28, 0, 1, 4, 6, 8, 10]\n",
        "Uv cut 59.0338885726\n",
        "Preliminary scan of edge weights to define filtration steps...\n",
        "Preliminary scan and sorting completed.\n",
        "Constructing filtration...\n",
        "Scanning cliques of dimension:  2\n",
        "Scanning cliques of dimension:  3\n",
        "Clique dictionary created.\n",
        "1787\n",
        "Landmarks:  [0, 1, 2]\n",
        "Uv cut 1.41421356237\n",
        "Preliminary scan of edge weights to define filtration steps...\n",
        "Preliminary scan and sorting completed.\n",
        "Constructing filtration...\n",
        "Scanning cliques of dimension:  2\n",
        "Scanning cliques of dimension:  3\n",
        "Clique dictionary created.\n",
        "1829\n",
        "Landmarks: "
       ]
      },
      {
       "output_type": "stream",
       "stream": "stdout",
       "text": [
        " [11, 87, 36, 85, 113, 99, 64, 13, 41, 96, 43, 75, 12, 4, 45, 77, 17, 0, 14, 97, 35, 53, 93, 80, 30, 46, 88, 29, 112, 115]\n",
        "Uv cut 68.0294054068\n",
        "Preliminary scan of edge weights to define filtration steps...\n",
        "Preliminary scan and sorting completed.\n",
        "Constructing filtration...\n",
        "Scanning cliques of dimension:  2\n",
        "Scanning cliques of dimension:  3\n",
        "Clique dictionary created.\n",
        "7729\n",
        "Landmarks:  [0, 1]\n",
        "Uv cut 1.0\n",
        "Preliminary scan of edge weights to define filtration steps...\n",
        "Preliminary scan and sorting completed.\n",
        "Constructing filtration...\n",
        "Scanning cliques of dimension:  2\n",
        "Scanning cliques of dimension:  3\n",
        "Clique dictionary created.\n",
        "7727\n",
        "Landmarks:  [2, 0, 1]\n",
        "Uv cut 2.0\n",
        "Preliminary scan of edge weights to define filtration steps...\n",
        "Preliminary scan and sorting completed.\n",
        "Constructing filtration...\n",
        "Scanning cliques of dimension:  2\n",
        "Scanning cliques of dimension:  3\n",
        "Clique dictionary created.\n",
        "1926\n",
        "Landmarks:  [4, 3, 1, 0, 2]\n",
        "Uv cut 2.82842712475\n",
        "Preliminary scan of edge weights to define filtration steps...\n",
        "Preliminary scan and sorting completed.\n",
        "Constructing filtration...\n",
        "Scanning cliques of dimension:  2\n",
        "Scanning cliques of dimension:  3\n",
        "Clique dictionary created.\n",
        "5098\n",
        "Landmarks:  [0, 1]\n",
        "Uv cut 1.41421356237\n",
        "Preliminary scan of edge weights to define filtration steps...\n",
        "Preliminary scan and sorting completed.\n",
        "Constructing filtration...\n",
        "Scanning cliques of dimension:  2\n",
        "Scanning cliques of dimension:  3\n",
        "Clique dictionary created.\n",
        "380\n",
        "Landmarks: "
       ]
      },
      {
       "output_type": "stream",
       "stream": "stdout",
       "text": [
        " [118, 99, 225, 27, 264, 161, 50, 201, 18, 43, 72, 38, 229, 279, 3, 234, 274, 227, 24, 150, 266, 271, 203, 62, 205, 52, 28, 106, 208, 217]\n",
        "Uv cut 79.3221280602\n",
        "Preliminary scan of edge weights to define filtration steps...\n",
        "Preliminary scan and sorting completed.\n",
        "Constructing filtration...\n",
        "Scanning cliques of dimension:  2\n",
        "Scanning cliques of dimension:  3\n",
        "Clique dictionary created.\n",
        "381\n",
        "Landmarks: "
       ]
      },
      {
       "output_type": "stream",
       "stream": "stdout",
       "text": [
        " [16, 12, 13, 7, 25, 3, 18, 35, 26, 22, 11, 27, 0, 5, 1, 9, 20, 31, 23, 28, 17, 36, 4, 6, 34, 2, 8, 10, 14, 15]\n",
        "Uv cut 54.6717477313\n",
        "Preliminary scan of edge weights to define filtration steps...\n",
        "Preliminary scan and sorting completed.\n",
        "Constructing filtration...\n",
        "Scanning cliques of dimension:  2\n",
        "Scanning cliques of dimension:  3\n",
        "Clique dictionary created.\n",
        "382\n",
        "Landmarks:  [3, 0, 1, 2]\n",
        "Uv cut 32.0\n",
        "Preliminary scan of edge weights to define filtration steps...\n",
        "Preliminary scan and sorting completed.\n",
        "Constructing filtration...\n",
        "Scanning cliques of dimension:  2\n",
        "Scanning cliques of dimension:  3\n",
        "Clique dictionary created.\n",
        "385\n",
        "Landmarks: "
       ]
      },
      {
       "output_type": "stream",
       "stream": "stdout",
       "text": [
        " [26, 23, 21, 3, 19, 17, 4, 7, 5, 6, 1, 24, 11, 16, 15, 22, 28, 0, 2, 8, 9, 10, 12, 13, 14, 18, 20, 25, 27]\n",
        "Uv cut 55.3172667438\n",
        "Preliminary scan of edge weights to define filtration steps...\n",
        "Preliminary scan and sorting completed.\n",
        "Constructing filtration...\n",
        "Scanning cliques of dimension:  2\n",
        "Scanning cliques of dimension:  3\n",
        "Clique dictionary created.\n",
        "386\n",
        "Landmarks: "
       ]
      },
      {
       "output_type": "stream",
       "stream": "stdout",
       "text": [
        " [1, 31, 19, 13, 30, 7, 14, 23, 35, 16, 21, 27, 9, 18, 6, 22, 5, 17, 4, 20, 26, 32, 0, 2, 3, 8, 10, 11, 12, 15]\n",
        "Uv cut 71.4002801115\n",
        "Preliminary scan of edge weights to define filtration steps...\n",
        "Preliminary scan and sorting completed.\n",
        "Constructing filtration...\n",
        "Scanning cliques of dimension:  2\n",
        "Scanning cliques of dimension:  3\n",
        "Clique dictionary created.\n",
        "387\n",
        "Landmarks:  [1, 4, 5, 0, 3, 2]\n",
        "Uv cut 66.8505796534\n",
        "Preliminary scan of edge weights to define filtration steps...\n",
        "Preliminary scan and sorting completed.\n",
        "Constructing filtration...\n",
        "Scanning cliques of dimension:  2\n",
        "Scanning cliques of dimension:  3\n",
        "Clique dictionary created.\n",
        "389\n",
        "Landmarks: "
       ]
      },
      {
       "output_type": "stream",
       "stream": "stdout",
       "text": [
        " [18, 25, 5, 14, 17, 4, 8, 1, 24, 11, 0, 20, 16, 26, 3, 7, 28, 2, 13, 22, 6, 9, 10, 12, 15, 19, 21, 23, 27]\n",
        "Uv cut 49.4974746831\n",
        "Preliminary scan of edge weights to define filtration steps...\n",
        "Preliminary scan and sorting completed.\n",
        "Constructing filtration...\n",
        "Scanning cliques of dimension:  2\n",
        "Scanning cliques of dimension:  3\n",
        "Clique dictionary created.\n",
        "1647\n",
        "Landmarks: "
       ]
      },
      {
       "output_type": "stream",
       "stream": "stdout",
       "text": [
        " [7, 23, 15, 20, 19, 5, 10, 18, 17, 6, 4, 9, 3, 11, 22, 0, 1, 2, 8, 12, 13, 14, 16, 21]\n",
        "Uv cut 55.4707129934\n",
        "Preliminary scan of edge weights to define filtration steps...\n",
        "Preliminary scan and sorting completed.\n",
        "Constructing filtration...\n",
        "Scanning cliques of dimension:  2\n",
        "Scanning cliques of dimension:  3\n",
        "Clique dictionary created.\n",
        "88232\n",
        "Landmarks:  [0, 3, 1, 2, 4, 5, 6]\n",
        "Uv cut 2.82842712475\n",
        "Preliminary scan of edge weights to define filtration steps...\n",
        "Preliminary scan and sorting completed.\n",
        "Constructing filtration...\n",
        "Scanning cliques of dimension:  2\n",
        "Scanning cliques of dimension:  3\n",
        "Clique dictionary created.\n",
        "1721\n",
        "Landmarks:  [1, 2, 4, 3, 0]\n",
        "Uv cut 17.0293863659\n",
        "Preliminary scan of edge weights to define filtration steps...\n",
        "Preliminary scan and sorting completed.\n",
        "Constructing filtration...\n",
        "Scanning cliques of dimension:  2\n",
        "Scanning cliques of dimension:  3\n",
        "Clique dictionary created.\n",
        "8817\n",
        "Landmarks:  [2, 1, 0]\n",
        "Uv cut 26.1725046566\n",
        "Preliminary scan of edge weights to define filtration steps...\n",
        "Preliminary scan and sorting completed.\n",
        "Constructing filtration...\n",
        "Scanning cliques of dimension:  2\n",
        "Scanning cliques of dimension:  3\n",
        "Clique dictionary created.\n",
        "60\n",
        "Landmarks: "
       ]
      },
      {
       "output_type": "stream",
       "stream": "stdout",
       "text": [
        " [25, 28, 43, 20, 16, 8, 19, 45, 38, 29, 40, 11, 2, 37, 18, 32, 3, 5, 27, 6, 1, 10, 21, 22, 31, 34, 35, 0, 4, 7]\n",
        "Uv cut 39.0512483795\n",
        "Preliminary scan of edge weights to define filtration steps...\n",
        "Preliminary scan and sorting completed.\n",
        "Constructing filtration...\n",
        "Scanning cliques of dimension:  2\n",
        "Scanning cliques of dimension:  3\n",
        "Clique dictionary created.\n",
        "61\n",
        "Landmarks: "
       ]
      },
      {
       "output_type": "stream",
       "stream": "stdout",
       "text": [
        " [40, 61, 90, 91, 32, 75, 64, 0, 50, 68, 16, 14, 53, 43, 30, 22, 63, 73, 77, 83, 18, 82, 17, 27, 29, 33, 34, 2, 25, 6]\n",
        "Uv cut 80.6597793203\n",
        "Preliminary scan of edge weights to define filtration steps...\n",
        "Preliminary scan and sorting completed.\n",
        "Constructing filtration...\n",
        "Scanning cliques of dimension:  2\n",
        "Scanning cliques of dimension:  3\n",
        "Clique dictionary created.\n",
        "62\n",
        "Landmarks:  [12, 7, 4, 0, 9, 3, 5, 8, 1, 2, 6, 10, 11, 13]\n",
        "Uv cut 31.384709653\n",
        "Preliminary scan of edge weights to define filtration steps...\n",
        "Preliminary scan and sorting completed.\n",
        "Constructing filtration...\n",
        "Scanning cliques of dimension:  2\n",
        "Scanning cliques of dimension:  3\n",
        "Clique dictionary created.\n",
        "63\n",
        "Landmarks: "
       ]
      },
      {
       "output_type": "stream",
       "stream": "stdout",
       "text": [
        " [18, 131, 130, 17, 121, 23, 166, 49, 4, 67, 9, 105, 164, 39, 87, 153, 13, 12, 80, 34, 93, 113, 170, 51, 127, 165, 92, 172, 16, 52]\n",
        "Uv cut 54.626001135\n",
        "Preliminary scan of edge weights to define filtration steps...\n",
        "Preliminary scan and sorting completed.\n",
        "Constructing filtration...\n",
        "Scanning cliques of dimension:  2\n",
        "Scanning cliques of dimension:  3\n",
        "Clique dictionary created.\n",
        "64\n",
        "Landmarks:  [11, 5, 6, 10, 0, 13, 3, 4, 7, 1, 2, 8, 9, 12, 14]\n",
        "Uv cut 47.4341649025\n",
        "Preliminary scan of edge weights to define filtration steps...\n",
        "Preliminary scan and sorting completed.\n",
        "Constructing filtration...\n",
        "Scanning cliques of dimension:  2\n",
        "Scanning cliques of dimension:  3\n",
        "Clique dictionary created.\n",
        "65\n",
        "Landmarks: "
       ]
      },
      {
       "output_type": "stream",
       "stream": "stdout",
       "text": [
        " [16, 27, 7, 3, 13, 24, 31, 2, 11, 14, 21, 18, 1, 23, 6, 10, 12, 19, 22, 25, 29, 0, 4, 5, 8, 9, 15, 17, 20, 26]\n",
        "Uv cut 43.4165866922\n",
        "Preliminary scan of edge weights to define filtration steps...\n",
        "Preliminary scan and sorting completed.\n",
        "Constructing filtration...\n",
        "Scanning cliques of dimension:  2\n",
        "Scanning cliques of dimension:  3\n",
        "Clique dictionary created.\n",
        "66\n",
        "Landmarks: "
       ]
      },
      {
       "output_type": "stream",
       "stream": "stdout",
       "text": [
        " [36, 2, 32, 37, 40, 27, 1, 43, 14, 16, 5, 3, 9, 21, 13, 29, 42, 6, 11, 39, 10, 15, 19, 24, 30, 31, 33, 44, 0, 4]\n",
        "Uv cut 47.5078940809\n",
        "Preliminary scan of edge weights to define filtration steps...\n",
        "Preliminary scan and sorting completed.\n",
        "Constructing filtration...\n",
        "Scanning cliques of dimension:  2\n",
        "Scanning cliques of dimension:  3\n",
        "Clique dictionary created.\n",
        "252\n",
        "Landmarks: "
       ]
      },
      {
       "output_type": "stream",
       "stream": "stdout",
       "text": [
        " [15, 8, 2, 7, 3, 12, 14, 6, 13, 0, 1, 4, 5, 9, 10, 11, 16, 17, 18]\n",
        "Uv cut 25.7099202644\n",
        "Preliminary scan of edge weights to define filtration steps...\n",
        "Preliminary scan and sorting completed.\n",
        "Constructing filtration...\n",
        "Scanning cliques of dimension:  2\n",
        "Scanning cliques of dimension:  3\n",
        "Clique dictionary created.\n",
        "253\n",
        "Landmarks:  [4, 6, 1, 7, 8, 0, 2, 3, 5, 9]\n",
        "Uv cut 22.0907220344\n",
        "Preliminary scan of edge weights to define filtration steps...\n",
        "Preliminary scan and sorting completed.\n",
        "Constructing filtration...\n",
        "Scanning cliques of dimension:  2\n",
        "Scanning cliques of dimension:  3\n",
        "Clique dictionary created.\n",
        "250\n",
        "Landmarks: "
       ]
      },
      {
       "output_type": "stream",
       "stream": "stdout",
       "text": [
        " [18, 20, 9, 12, 0, 17, 6, 7, 1, 23, 13, 16, 4, 14, 3, 15, 19, 21, 2, 5, 8, 10, 11, 22, 24]\n",
        "Uv cut 51.6236379966\n",
        "Preliminary scan of edge weights to define filtration steps...\n",
        "Preliminary scan and sorting completed.\n",
        "Constructing filtration...\n",
        "Scanning cliques of dimension:  2\n",
        "Scanning cliques of dimension:  3\n",
        "Clique dictionary created.\n",
        "251\n",
        "Landmarks: "
       ]
      },
      {
       "output_type": "stream",
       "stream": "stdout",
       "text": [
        " [3, 27, 39, 15, 20, 37, 28, 44, 38, 4, 10, 25, 23, 2, 0, 43, 22, 5, 16, 8, 12, 18, 45, 17, 24, 1, 6, 7, 9, 11]\n",
        "Uv cut 59.908263203\n",
        "Preliminary scan of edge weights to define filtration steps...\n",
        "Preliminary scan and sorting completed.\n",
        "Constructing filtration...\n",
        "Scanning cliques of dimension:  2\n",
        "Scanning cliques of dimension:  3\n",
        "Clique dictionary created.\n",
        "256\n",
        "Landmarks:  [11, 6, 7, 4, 10, 0, 8, 13, 2, 12, 3, 1, 5, 9]\n",
        "Uv cut 41.1460812229\n",
        "Preliminary scan of edge weights to define filtration steps...\n",
        "Preliminary scan and sorting completed.\n",
        "Constructing filtration...\n",
        "Scanning cliques of dimension:  2\n",
        "Scanning cliques of dimension:  3\n",
        "Clique dictionary created.\n",
        "257\n",
        "Landmarks:  [0, 3, 4, 1, 2, 5]\n",
        "Uv cut 28.7923600978\n",
        "Preliminary scan of edge weights to define filtration steps...\n",
        "Preliminary scan and sorting completed.\n",
        "Constructing filtration...\n",
        "Scanning cliques of dimension:  2\n",
        "Scanning cliques of dimension:  3\n",
        "Clique dictionary created.\n",
        "254\n",
        "Landmarks: "
       ]
      },
      {
       "output_type": "stream",
       "stream": "stdout",
       "text": [
        " [7, 17, 2, 27, 24, 29, 36, 25, 6, 31, 5, 4, 3, 12, 15, 30, 9, 13, 33, 28, 34, 8, 11, 23, 0, 1, 10, 14, 16, 18]\n",
        "Uv cut 68.7968022513\n",
        "Preliminary scan of edge weights to define filtration steps...\n",
        "Preliminary scan and sorting completed.\n",
        "Constructing filtration...\n",
        "Scanning cliques of dimension:  2\n",
        "Scanning cliques of dimension:  3\n",
        "Clique dictionary created.\n",
        "255\n",
        "Landmarks: "
       ]
      },
      {
       "output_type": "stream",
       "stream": "stdout",
       "text": [
        " [7, 26, 20, 15, 2, 1, 10, 17, 19, 0, 5, 23, 18, 3, 6, 11, 24, 25, 27, 4, 8, 9, 12, 13, 14, 16, 21, 22]\n",
        "Uv cut 46.8614980554\n",
        "Preliminary scan of edge weights to define filtration steps...\n",
        "Preliminary scan and sorting completed.\n",
        "Constructing filtration...\n",
        "Scanning cliques of dimension:  2\n",
        "Scanning cliques of dimension:  3\n",
        "Clique dictionary created.\n",
        "1587\n",
        "Landmarks:  [3, 2, 4, 0, 1]\n",
        "Uv cut 42.7200187266\n",
        "Preliminary scan of edge weights to define filtration steps...\n",
        "Preliminary scan and sorting completed.\n",
        "Constructing filtration...\n",
        "Scanning cliques of dimension:  2\n",
        "Scanning cliques of dimension:  3\n",
        "Clique dictionary created.\n",
        "508\n",
        "Landmarks:  [0, 1]\n",
        "Uv cut 1.41421356237\n",
        "Preliminary scan of edge weights to define filtration steps...\n",
        "Preliminary scan and sorting completed.\n",
        "Constructing filtration...\n",
        "Scanning cliques of dimension:  2\n",
        "Scanning cliques of dimension:  3\n",
        "Clique dictionary created.\n",
        "509\n",
        "Landmarks: "
       ]
      },
      {
       "output_type": "stream",
       "stream": "stdout",
       "text": [
        " [15, 47, 25, 46, 1, 32, 3, 2, 4, 6, 20, 8, 21, 23, 42, 9, 27, 44, 49, 51, 55, 0, 5, 7, 10, 11, 12, 13, 14, 16]\n",
        "Uv cut 12.3693168769\n",
        "Preliminary scan of edge weights to define filtration steps...\n",
        "Preliminary scan and sorting completed.\n",
        "Constructing filtration...\n",
        "Scanning cliques of dimension:  2\n",
        "Scanning cliques of dimension:  3\n",
        "Clique dictionary created.\n",
        "506\n",
        "Landmarks: "
       ]
      },
      {
       "output_type": "stream",
       "stream": "stdout",
       "text": [
        " [20, 9, 8, 12, 23, 41, 43, 28, 42, 22, 1, 35, 40, 18, 6, 5, 24, 36, 33, 0, 4, 19, 30, 34, 7, 10, 17, 39, 2, 3]\n",
        "Uv cut 78.8542960149\n",
        "Preliminary scan of edge weights to define filtration steps...\n",
        "Preliminary scan and sorting completed.\n",
        "Constructing filtration...\n",
        "Scanning cliques of dimension:  2\n",
        "Scanning cliques of dimension:  3\n",
        "Clique dictionary created.\n",
        "507\n",
        "Landmarks: "
       ]
      },
      {
       "output_type": "stream",
       "stream": "stdout",
       "text": [
        " [16, 5, 8, 13, 0, 4, 12, 6, 7, 14, 15, 1, 2, 3, 9, 10, 11, 17]\n",
        "Uv cut 25.495097568\n",
        "Preliminary scan of edge weights to define filtration steps...\n",
        "Preliminary scan and sorting completed.\n",
        "Constructing filtration...\n",
        "Scanning cliques of dimension:  2\n",
        "Scanning cliques of dimension:  3\n",
        "Clique dictionary created.\n",
        "504\n",
        "Landmarks:  [10, 0, 2, 9, 7, 6, 4, 5, 1, 3, 8]\n",
        "Uv cut 31.3209195267\n",
        "Preliminary scan of edge weights to define filtration steps...\n",
        "Preliminary scan and sorting completed.\n",
        "Constructing filtration...\n",
        "Scanning cliques of dimension:  2\n",
        "Scanning cliques of dimension:  3\n",
        "Clique dictionary created.\n",
        "505\n",
        "Landmarks: "
       ]
      },
      {
       "output_type": "stream",
       "stream": "stdout",
       "text": [
        " [2, 40, 12, 38, 3, 43, 35, 33, 6, 22, 27, 29, 36, 31, 10, 7, 18, 25, 28, 21, 42, 4, 14, 17, 37, 41, 0, 1, 5, 8]\n",
        "Uv cut 47.1274866718\n",
        "Preliminary scan of edge weights to define filtration steps...\n",
        "Preliminary scan and sorting completed.\n",
        "Constructing filtration...\n",
        "Scanning cliques of dimension:  2\n",
        "Scanning cliques of dimension:  3\n",
        "Clique dictionary created.\n",
        "502\n",
        "Landmarks:  [6, 3, 4, 10, 0, 2, 8, 1, 5, 7, 9]\n",
        "Uv cut 31.064449134\n",
        "Preliminary scan of edge weights to define filtration steps...\n",
        "Preliminary scan and sorting completed.\n",
        "Constructing filtration...\n",
        "Scanning cliques of dimension:  2\n",
        "Scanning cliques of dimension:  3\n",
        "Clique dictionary created.\n",
        "503\n",
        "Landmarks: "
       ]
      },
      {
       "output_type": "stream",
       "stream": "stdout",
       "text": [
        " [23, 31, 2, 24, 26, 36, 4, 28, 17, 9, 35, 18, 15, 22, 27, 0, 20, 34, 5, 21, 33, 1, 3, 6, 7, 8, 10, 11, 12, 13]\n",
        "Uv cut"
       ]
      },
      {
       "output_type": "stream",
       "stream": "stdout",
       "text": [
        " 60.1082357086\n",
        "Preliminary scan of edge weights to define filtration steps...\n",
        "Preliminary scan and sorting completed.\n",
        "Constructing filtration...\n",
        "Scanning cliques of dimension:  2\n",
        "Scanning cliques of dimension:  3\n",
        "Clique dictionary created.\n",
        "500\n",
        "Landmarks:  [6, 3, 0, 1, 2, 4, 5]\n",
        "Uv cut 3.60555127546\n",
        "Preliminary scan of edge weights to define filtration steps...\n",
        "Preliminary scan and sorting completed.\n",
        "Constructing filtration...\n",
        "Scanning cliques of dimension:  2\n",
        "Scanning cliques of dimension:  3\n",
        "Clique dictionary created.\n",
        "501\n",
        "Landmarks:  [1, 3, 0, 2]\n",
        "Uv cut 2.0\n",
        "Preliminary scan of edge weights to define filtration steps...\n",
        "Preliminary scan and sorting completed.\n",
        "Constructing filtration...\n",
        "Scanning cliques of dimension:  2\n",
        "Scanning cliques of dimension:  3\n",
        "Clique dictionary created.\n",
        "1214\n",
        "Landmarks: "
       ]
      },
      {
       "output_type": "stream",
       "stream": "stdout",
       "text": [
        " [1, 27, 9, 22, 3, 4, 0, 25, 2, 10, 12, 18, 6, 8, 13, 21, 23, 5, 7, 11, 14, 15, 16, 17, 19, 20, 24, 26]\n",
        "Uv cut 61.619802012\n",
        "Preliminary scan of edge weights to define filtration steps...\n",
        "Preliminary scan and sorting completed.\n",
        "Constructing filtration...\n",
        "Scanning cliques of dimension:  2\n",
        "Scanning cliques of dimension:  3\n",
        "Clique dictionary created.\n",
        "964\n",
        "Landmarks: "
       ]
      },
      {
       "output_type": "stream",
       "stream": "stdout",
       "text": [
        " [8, 14, 5, 13, 15, 6, 9, 17, 3, 12, 16, 18, 0, 1, 2, 4, 7, 10, 11]\n",
        "Uv cut 62.0322496771\n",
        "Preliminary scan of edge weights to define filtration steps...\n",
        "Preliminary scan and sorting completed.\n",
        "Constructing filtration...\n",
        "Scanning cliques of dimension:  2\n",
        "Scanning cliques of dimension:  3\n",
        "Clique dictionary created.\n",
        "965\n",
        "Landmarks:  [2, 4, 0, 1, 5, 3]\n",
        "Uv cut 22.360679775\n",
        "Preliminary scan of edge weights to define filtration steps...\n",
        "Preliminary scan and sorting completed.\n",
        "Constructing filtration...\n",
        "Scanning cliques of dimension:  2\n",
        "Scanning cliques of dimension:  3\n",
        "Clique dictionary created.\n",
        "966\n",
        "Landmarks: "
       ]
      },
      {
       "output_type": "stream",
       "stream": "stdout",
       "text": [
        " [20, 21, 12, 10, 7, 13, 11, 15, 5, 3, 16, 1, 17, 18, 0, 2, 4, 6, 8, 9, 14, 19, 22, 23]\n",
        "Uv cut 46.2276973253\n",
        "Preliminary scan of edge weights to define filtration steps...\n",
        "Preliminary scan and sorting completed.\n",
        "Constructing filtration...\n",
        "Scanning cliques of dimension:  2\n",
        "Scanning cliques of dimension:  3\n",
        "Clique dictionary created.\n",
        "967\n",
        "Landmarks:  [4, 8, 1, 11, 9, 3, 5, 0, 2, 6, 7, 10, 12]\n",
        "Uv cut 33.9705755029\n",
        "Preliminary scan of edge weights to define filtration steps...\n",
        "Preliminary scan and sorting completed.\n",
        "Constructing filtration...\n",
        "Scanning cliques of dimension:  2\n",
        "Scanning cliques of dimension:  3\n",
        "Clique dictionary created.\n",
        "960\n",
        "Landmarks: "
       ]
      },
      {
       "output_type": "stream",
       "stream": "stdout",
       "text": [
        " [13, 14, 1, 26, 15, 20, 7, 19, 9, 24, 27, 18, 25, 28, 0, 2, 3, 4, 5, 6, 8, 10, 11, 12, 16, 17, 21, 22, 23]\n",
        "Uv cut 61.3269924258\n",
        "Preliminary scan of edge weights to define filtration steps...\n",
        "Preliminary scan and sorting completed.\n",
        "Constructing filtration...\n",
        "Scanning cliques of dimension:  2\n",
        "Scanning cliques of dimension:  3\n",
        "Clique dictionary created.\n",
        "961\n",
        "Landmarks:  [1, 2, 3, 0]\n",
        "Uv cut 31.0483493925\n",
        "Preliminary scan of edge weights to define filtration steps...\n",
        "Preliminary scan and sorting completed.\n",
        "Constructing filtration...\n",
        "Scanning cliques of dimension:  2\n",
        "Scanning cliques of dimension:  3\n",
        "Clique dictionary created.\n",
        "962\n",
        "Landmarks:  [12, 5, 2, 8, 0, 9, 1, 3, 4, 6, 7, 10, 11, 13, 14]\n",
        "Uv cut 50.2493781056\n",
        "Preliminary scan of edge weights to define filtration steps...\n",
        "Preliminary scan and sorting completed.\n",
        "Constructing filtration...\n",
        "Scanning cliques of dimension:  2\n",
        "Scanning cliques of dimension:  3\n",
        "Clique dictionary created.\n",
        "963\n",
        "Landmarks: "
       ]
      },
      {
       "output_type": "stream",
       "stream": "stdout",
       "text": [
        " [2, 6, 17, 23, 15, 18, 21, 9, 7, 4, 3, 1, 0, 5, 12, 14, 16, 8, 10, 11, 13, 19, 20, 22]\n",
        "Uv cut 60.827625303\n",
        "Preliminary scan of edge weights to define filtration steps...\n",
        "Preliminary scan and sorting completed.\n",
        "Constructing filtration...\n",
        "Scanning cliques of dimension:  2\n",
        "Scanning cliques of dimension:  3\n",
        "Clique dictionary created.\n",
        "968\n",
        "Landmarks:  [3, 6, 11, 8, 5, 9, 0, 4, 7, 1, 2, 10]\n",
        "Uv cut 43.8634243989\n",
        "Preliminary scan of edge weights to define filtration steps...\n",
        "Preliminary scan and sorting completed.\n",
        "Constructing filtration...\n",
        "Scanning cliques of dimension:  2\n",
        "Scanning cliques of dimension:  3\n",
        "Clique dictionary created.\n",
        "1514\n",
        "Landmarks:  [9, 2, 0, 3, 4, 7, 1, 5, 6, 8]\n",
        "Uv cut 58.137767415\n",
        "Preliminary scan of edge weights to define filtration steps...\n",
        "Preliminary scan and sorting completed.\n",
        "Constructing filtration...\n",
        "Scanning cliques of dimension:  2\n",
        "Scanning cliques of dimension:  3\n",
        "Clique dictionary created.\n",
        "870\n",
        "Landmarks:  [1, 0, 2]\n",
        "Uv cut 35.4400902933\n",
        "Preliminary scan of edge weights to define filtration steps...\n",
        "Preliminary scan and sorting completed.\n",
        "Constructing filtration...\n",
        "Scanning cliques of dimension:  2\n",
        "Scanning cliques of dimension:  3\n",
        "Clique dictionary created.\n",
        "7777\n",
        "Landmarks:  [5, 12, 14, 4, 3, 0, 6, 8, 10, 1, 2, 7, 9, 11, 13]\n",
        "Uv cut 48.0416485979\n",
        "Preliminary scan of edge weights to define filtration steps...\n",
        "Preliminary scan and sorting completed.\n",
        "Constructing filtration...\n",
        "Scanning cliques of dimension:  2\n",
        "Scanning cliques of dimension:  3\n",
        "Clique dictionary created."
       ]
      },
      {
       "output_type": "stream",
       "stream": "stdout",
       "text": [
        "\n",
        "7771\n",
        "Landmarks:  [7, 5, 6, 0, 3, 1, 2, 4]\n",
        "Uv cut 26.9258240357\n",
        "Preliminary scan of edge weights to define filtration steps...\n",
        "Preliminary scan and sorting completed.\n",
        "Constructing filtration...\n",
        "Scanning cliques of dimension:  2\n",
        "Scanning cliques of dimension:  3\n",
        "Clique dictionary created.\n",
        "7778\n",
        "Landmarks:  [6, 18, 1, 19, 14, 7, 5, 13, 0, 2, 4, 16, 3, 8, 9, 10, 11, 12, 15, 17, 20, 21]\n",
        "Uv cut"
       ]
      },
      {
       "output_type": "stream",
       "stream": "stdout",
       "text": [
        " 51.4781507049\n",
        "Preliminary scan of edge weights to define filtration steps...\n",
        "Preliminary scan and sorting completed.\n",
        "Constructing filtration...\n",
        "Scanning cliques of dimension:  2\n",
        "Scanning cliques of dimension:  3\n",
        "Clique dictionary created.\n",
        "1604\n",
        "Landmarks:  [17, 13, 14, 5, 15, 10, 8, 16, 3, 4, 6, 7, 0, 1, 2, 9, 11, 12]\n",
        "Uv cut 68.7677249878\n",
        "Preliminary scan of edge weights to define filtration steps...\n",
        "Preliminary scan and sorting completed.\n",
        "Constructing filtration...\n",
        "Scanning cliques of dimension:  2\n",
        "Scanning cliques of dimension:  3\n",
        "Clique dictionary created.\n",
        "357\n",
        "Landmarks: "
       ]
      },
      {
       "output_type": "stream",
       "stream": "stdout",
       "text": [
        " [43, 15, 6, 22, 49, 7, 52, 50, 40, 2, 29, 17, 44, 14, 25, 37, 9, 31, 53, 26, 33, 39, 47, 1, 5, 10, 13, 20, 21, 32]\n",
        "Uv cut 50.537115074\n",
        "Preliminary scan of edge weights to define filtration steps...\n",
        "Preliminary scan and sorting completed.\n",
        "Constructing filtration...\n",
        "Scanning cliques of dimension:  2\n",
        "Scanning cliques of dimension:  3\n",
        "Clique dictionary created.\n",
        "356\n",
        "Landmarks: "
       ]
      },
      {
       "output_type": "stream",
       "stream": "stdout",
       "text": [
        " [8, 6, 5, 10, 17, 9, 21, 19, 12, 20, 0, 2, 14, 11, 13, 1, 3, 4, 7, 15, 16, 18, 22]\n",
        "Uv cut 46.3249392876\n",
        "Preliminary scan of edge weights to define filtration steps...\n",
        "Preliminary scan and sorting completed.\n",
        "Constructing filtration...\n",
        "Scanning cliques of dimension:  2\n",
        "Scanning cliques of dimension:  3\n",
        "Clique dictionary created.\n",
        "355\n",
        "Landmarks: "
       ]
      },
      {
       "output_type": "stream",
       "stream": "stdout",
       "text": [
        " [118, 121, 168, 2, 112, 54, 189, 0, 147, 26, 126, 71, 82, 15, 70, 12, 128, 174, 94, 145, 4, 27, 127, 34, 50, 29, 36, 1, 62, 146]\n",
        "Uv cut 81.6884324736\n",
        "Preliminary scan of edge weights to define filtration steps...\n",
        "Preliminary scan and sorting completed.\n",
        "Constructing filtration...\n",
        "Scanning cliques of dimension:  2\n",
        "Scanning cliques of dimension:  3\n",
        "Clique dictionary created.\n",
        "354\n",
        "Landmarks:  [1, 4, 3, 0, 2, 7, 5, 6, 8]\n",
        "Uv cut 42.2965719651\n",
        "Preliminary scan of edge weights to define filtration steps...\n",
        "Preliminary scan and sorting completed.\n",
        "Constructing filtration...\n",
        "Scanning cliques of dimension:  2\n",
        "Scanning cliques of dimension:  3\n",
        "Clique dictionary created.\n",
        "353\n",
        "Landmarks: "
       ]
      },
      {
       "output_type": "stream",
       "stream": "stdout",
       "text": [
        " [55, 71, 86, 39, 65, 57, 63, 21, 4, 80, 53, 72, 1, 75, 77, 54, 26, 64, 22, 30, 82, 34, 79, 62, 73, 84, 0, 14, 20, 70]\n",
        "Uv cut 65.1459898996\n",
        "Preliminary scan of edge weights to define filtration steps...\n",
        "Preliminary scan and sorting completed.\n",
        "Constructing filtration...\n",
        "Scanning cliques of dimension:  2\n",
        "Scanning cliques of dimension:  3\n",
        "Clique dictionary created.\n",
        "352\n",
        "Landmarks: "
       ]
      },
      {
       "output_type": "stream",
       "stream": "stdout",
       "text": [
        " [13, 16, 1, 11, 18, 10, 6, 15, 5, 4, 9, 2, 8, 12, 17, 20, 0, 3, 7, 14, 19, 21]\n",
        "Uv cut 53.600373133\n",
        "Preliminary scan of edge weights to define filtration steps...\n",
        "Preliminary scan and sorting completed.\n",
        "Constructing filtration...\n",
        "Scanning cliques of dimension:  2\n",
        "Scanning cliques of dimension:  3\n",
        "Clique dictionary created.\n",
        "351\n",
        "Landmarks: "
       ]
      },
      {
       "output_type": "stream",
       "stream": "stdout",
       "text": [
        " [9, 14, 15, 0, 12, 2, 3, 19, 20, 7, 17, 1, 4, 5, 8, 6, 10, 11, 13, 16, 18, 21, 22, 23]\n",
        "Uv cut 55.0090901579\n",
        "Preliminary scan of edge weights to define filtration steps...\n",
        "Preliminary scan and sorting completed.\n",
        "Constructing filtration...\n",
        "Scanning cliques of dimension:  2\n",
        "Scanning cliques of dimension:  3\n",
        "Clique dictionary created.\n",
        "350\n",
        "Landmarks:  [2, 4, 1, 3, 5, 0, 7, 9, 11, 12, 6, 8, 10]\n",
        "Uv cut 29.5296461205\n",
        "Preliminary scan of edge weights to define filtration steps...\n",
        "Preliminary scan and sorting completed.\n",
        "Constructing filtration...\n",
        "Scanning cliques of dimension:  2\n",
        "Scanning cliques of dimension:  3\n",
        "Clique dictionary created.\n",
        "359\n",
        "Landmarks: "
       ]
      },
      {
       "output_type": "stream",
       "stream": "stdout",
       "text": [
        " [38, 56, 16, 74, 89, 68, 64, 48, 78, 2, 32, 57, 61, 23, 4, 5, 58, 71, 24, 75, 86, 46, 50, 65, 81, 15, 7, 13, 26, 27]\n",
        "Uv cut 87.965902485\n",
        "Preliminary scan of edge weights to define filtration steps...\n",
        "Preliminary scan and sorting completed.\n",
        "Constructing filtration...\n",
        "Scanning cliques of dimension:  2\n",
        "Scanning cliques of dimension:  3\n",
        "Clique dictionary created.\n",
        "358\n",
        "Landmarks: "
       ]
      },
      {
       "output_type": "stream",
       "stream": "stdout",
       "text": [
        " [28, 25, 29, 39, 9, 36, 21, 22, 33, 15, 14, 2, 27, 1, 16, 18, 4, 5, 7, 11, 20, 23, 24, 0, 3, 6, 8, 10, 12, 13]\n",
        "Uv cut 57.008771255\n",
        "Preliminary scan of edge weights to define filtration steps...\n",
        "Preliminary scan and sorting completed.\n",
        "Constructing filtration...\n",
        "Scanning cliques of dimension:  2\n",
        "Scanning cliques of dimension:  3\n",
        "Clique dictionary created.\n",
        "18099\n",
        "Landmarks: "
       ]
      },
      {
       "output_type": "stream",
       "stream": "stdout",
       "text": [
        " [15, 28, 7, 16, 30, 22, 5, 4, 27, 29, 0, 12, 3, 13, 23, 32, 11, 34, 1, 6, 26, 2, 8, 9, 10, 14, 17, 18, 19, 20]\n",
        "Uv cut 66.2193325246\n",
        "Preliminary scan of edge weights to define filtration steps...\n",
        "Preliminary scan and sorting completed.\n",
        "Constructing filtration...\n",
        "Scanning cliques of dimension:  2\n",
        "Scanning cliques of dimension:  3\n",
        "Clique dictionary created.\n",
        "18098\n",
        "Landmarks: "
       ]
      },
      {
       "output_type": "stream",
       "stream": "stdout",
       "text": [
        " [7, 6, 69, 33, 14, 22, 54, 68, 31, 20, 2, 44, 61, 66, 0, 47, 59, 51, 60, 25, 19, 24, 11, 3, 5, 10, 12, 45, 55, 18]\n",
        "Uv cut 71.5611626513\n",
        "Preliminary scan of edge weights to define filtration steps...\n",
        "Preliminary scan and sorting completed.\n",
        "Constructing filtration...\n",
        "Scanning cliques of dimension:  2\n",
        "Scanning cliques of dimension:  3\n",
        "Clique dictionary created.\n",
        "212\n",
        "Landmarks: "
       ]
      },
      {
       "output_type": "stream",
       "stream": "stdout",
       "text": [
        " [96, 4, 0, 21, 31, 19, 13, 3, 40, 25, 100, 38, 65, 5, 44, 98, 74, 84, 71, 77, 91, 94, 87, 41, 9, 18, 28, 99, 1, 16]\n",
        "Uv cut 61.0327780787\n",
        "Preliminary scan of edge weights to define filtration steps...\n",
        "Preliminary scan and sorting completed.\n",
        "Constructing filtration...\n",
        "Scanning cliques of dimension:  2\n",
        "Scanning cliques of dimension:  3\n",
        "Clique dictionary created.\n",
        "213\n",
        "Landmarks: "
       ]
      },
      {
       "output_type": "stream",
       "stream": "stdout",
       "text": [
        " [16, 7, 25, 2, 27, 0, 1, 29, 18, 9, 26, 4, 22, 31, 3, 10, 15, 8, 12, 5, 6, 11, 13, 14, 17, 19, 20, 21, 23, 24]\n",
        "Uv cut 56.3205113613\n",
        "Preliminary scan of edge weights to define filtration steps...\n",
        "Preliminary scan and sorting completed.\n",
        "Constructing filtration...\n",
        "Scanning cliques of dimension:  2\n",
        "Scanning cliques of dimension:  3\n",
        "Clique dictionary created.\n",
        "211\n",
        "Landmarks:  [1, 0]\n",
        "Uv cut 3.16227766017\n",
        "Preliminary scan of edge weights to define filtration steps...\n",
        "Preliminary scan and sorting completed.\n",
        "Constructing filtration...\n",
        "Scanning cliques of dimension:  2\n",
        "Scanning cliques of dimension:  3\n",
        "Clique dictionary created.\n",
        "1780\n",
        "Landmarks:  [0, 11, 7, 3, 4, 6, 1, 2, 5, 8, 9, 10, 12]\n",
        "Uv cut 31.5753068077\n",
        "Preliminary scan of edge weights to define filtration steps...\n",
        "Preliminary scan and sorting completed.\n",
        "Constructing filtration...\n",
        "Scanning cliques of dimension:  2\n",
        "Scanning cliques of dimension:  3\n",
        "Clique dictionary created.\n",
        "18092\n",
        "Landmarks: "
       ]
      },
      {
       "output_type": "stream",
       "stream": "stdout",
       "text": [
        " [9, 19, 23, 32, 25, 18, 34, 7, 17, 2, 29, 16, 10, 13, 14, 26, 1, 4, 12, 31, 0, 3, 5, 6, 8, 11, 15, 20, 21, 22]\n",
        "Uv cut 42.3792402008\n",
        "Preliminary scan of edge weights to define filtration steps...\n",
        "Preliminary scan and sorting completed.\n",
        "Constructing filtration...\n",
        "Scanning cliques of dimension:  2\n",
        "Scanning cliques of dimension:  3\n",
        "Clique dictionary created.\n",
        "18763\n",
        "Landmarks:  [5, 3, 0, 1, 2, 4]\n",
        "Uv cut 2.2360679775\n",
        "Preliminary scan of edge weights to define filtration steps...\n",
        "Preliminary scan and sorting completed.\n",
        "Constructing filtration...\n",
        "Scanning cliques of dimension:  2\n",
        "Scanning cliques of dimension:  3\n",
        "Clique dictionary created.\n",
        "18762\n",
        "Landmarks:  [1, 0]\n",
        "Uv cut 1.0\n",
        "Preliminary scan of edge weights to define filtration steps...\n",
        "Preliminary scan and sorting completed.\n",
        "Constructing filtration...\n",
        "Scanning cliques of dimension:  2\n",
        "Scanning cliques of dimension:  3\n",
        "Clique dictionary created.\n",
        "18097\n",
        "Landmarks: "
       ]
      },
      {
       "output_type": "stream",
       "stream": "stdout",
       "text": [
        " [9, 25, 3, 18, 21, 5, 13, 0, 22, 8, 19, 16, 1, 12, 4, 15, 17, 20, 24, 28, 2, 6, 7, 10, 11, 14, 23, 26, 27, 29]\n",
        "Uv cut 66.4003012041\n",
        "Preliminary scan of edge weights to define filtration steps...\n",
        "Preliminary scan and sorting completed.\n",
        "Constructing filtration...\n",
        "Scanning cliques of dimension:  2\n",
        "Scanning cliques of dimension:  3\n",
        "Clique dictionary created.\n",
        "18096\n",
        "Landmarks:  [12, 4, 5, 6, 10, 3, 9, 7, 2, 11, 0, 1, 8]\n",
        "Uv cut 56.462376854\n",
        "Preliminary scan of edge weights to define filtration steps...\n",
        "Preliminary scan and sorting completed.\n",
        "Constructing filtration...\n",
        "Scanning cliques of dimension:  2\n",
        "Scanning cliques of dimension:  3\n",
        "Clique dictionary created.\n",
        "18094\n",
        "Landmarks: "
       ]
      },
      {
       "output_type": "stream",
       "stream": "stdout",
       "text": [
        " [30, 15, 28, 5, 19, 1, 2, 26, 8, 13, 32, 34, 14, 17, 25, 3, 27, 39, 16, 43, 9, 10, 11, 12, 29, 38, 41, 0, 4, 6]\n",
        "Uv cut 77.8010282708\n",
        "Preliminary scan of edge weights to define filtration steps...\n",
        "Preliminary scan and sorting completed.\n",
        "Constructing filtration...\n",
        "Scanning cliques of dimension:  2\n",
        "Scanning cliques of dimension:  3\n",
        "Clique dictionary created.\n",
        "1778\n",
        "Landmarks:  [3, 4, 0, 5, 1, 2, 6]\n",
        "Uv cut 9.8488578018\n",
        "Preliminary scan of edge weights to define filtration steps...\n",
        "Preliminary scan and sorting completed.\n",
        "Constructing filtration...\n",
        "Scanning cliques of dimension:  2\n",
        "Scanning cliques of dimension:  3\n",
        "Clique dictionary created.\n",
        "1670\n",
        "Landmarks:  [4, 3, 1, 5, 10, 0, 2, 6, 7, 8, 9]\n",
        "Uv cut 3.60555127546\n",
        "Preliminary scan of edge weights to define filtration steps...\n",
        "Preliminary scan and sorting completed.\n",
        "Constructing filtration...\n",
        "Scanning cliques of dimension:  2\n",
        "Scanning cliques of dimension:  3\n",
        "Clique dictionary created.\n",
        "678\n",
        "Landmarks:  [1, 0]\n",
        "Uv cut 1.41421356237\n",
        "Preliminary scan of edge weights to define filtration steps...\n",
        "Preliminary scan and sorting completed.\n",
        "Constructing filtration...\n",
        "Scanning cliques of dimension:  2\n",
        "Scanning cliques of dimension:  3\n",
        "Clique dictionary created.\n",
        "679\n",
        "Landmarks:  [2, 3, 0, 1]\n",
        "Uv cut 1.41421356237\n",
        "Preliminary scan of edge weights to define filtration steps...\n",
        "Preliminary scan and sorting completed.\n",
        "Constructing filtration...\n",
        "Scanning cliques of dimension:  2\n",
        "Scanning cliques of dimension:  3\n",
        "Clique dictionary created.\n",
        "675\n",
        "Landmarks:  [0, 1]\n",
        "Uv cut 18.0277563773\n",
        "Preliminary scan of edge weights to define filtration steps...\n",
        "Preliminary scan and sorting completed.\n",
        "Constructing filtration...\n",
        "Scanning cliques of dimension:  2\n",
        "Scanning cliques of dimension:  3\n",
        "Clique dictionary created.\n",
        "676\n",
        "Landmarks:  [2, 3, 0, 1, 4]\n",
        "Uv cut 26.0768096208\n",
        "Preliminary scan of edge weights to define filtration steps...\n",
        "Preliminary scan and sorting completed.\n",
        "Constructing filtration...\n",
        "Scanning cliques of dimension:  2\n",
        "Scanning cliques of dimension:  3\n",
        "Clique dictionary created.\n",
        "677\n",
        "Landmarks:  [2, 3, 5, 4, 7, 0, 1, 6]\n",
        "Uv cut 17.2626765016\n",
        "Preliminary scan of edge weights to define filtration steps...\n",
        "Preliminary scan and sorting completed.\n",
        "Constructing filtration...\n",
        "Scanning cliques of dimension:  2\n",
        "Scanning cliques of dimension:  3\n",
        "Clique dictionary created.\n",
        "670\n",
        "Landmarks:  [2, 0, 6, 3, 1, 4, 5]\n",
        "Uv cut 32.0\n",
        "Preliminary scan of edge weights to define filtration steps...\n",
        "Preliminary scan and sorting completed.\n",
        "Constructing filtration...\n",
        "Scanning cliques of dimension:  2\n",
        "Scanning cliques of dimension:  3\n",
        "Clique dictionary created.\n",
        "672\n",
        "Landmarks:  [3, 1, 2, 0]\n",
        "Uv cut 20.5182845287\n",
        "Preliminary scan of edge weights to define filtration steps...\n",
        "Preliminary scan and sorting completed.\n",
        "Constructing filtration...\n",
        "Scanning cliques of dimension:  2\n",
        "Scanning cliques of dimension:  3\n",
        "Clique dictionary created.\n",
        "673\n",
        "Landmarks: "
       ]
      },
      {
       "output_type": "stream",
       "stream": "stdout",
       "text": [
        " [4, 2, 3, 0, 6, 1, 5, 7, 8]\n",
        "Uv cut 17.0\n",
        "Preliminary scan of edge weights to define filtration steps...\n",
        "Preliminary scan and sorting completed.\n",
        "Constructing filtration...\n",
        "Scanning cliques of dimension:  2\n",
        "Scanning cliques of dimension:  3\n",
        "Clique dictionary created.\n",
        "261\n",
        "Landmarks: "
       ]
      },
      {
       "output_type": "stream",
       "stream": "stdout",
       "text": [
        " [19, 22, 12, 8, 14, 18, 10, 7, 4, 20, 15, 16, 6, 23, 24, 0, 17, 1, 2, 3, 5, 9, 11, 13, 21, 25, 26]\n",
        "Uv cut 73.3484832836\n",
        "Preliminary scan of edge weights to define filtration steps...\n",
        "Preliminary scan and sorting completed.\n",
        "Constructing filtration...\n",
        "Scanning cliques of dimension:  2\n",
        "Scanning cliques of dimension:  3\n",
        "Clique dictionary created."
       ]
      },
      {
       "output_type": "stream",
       "stream": "stdout",
       "text": [
        "\n",
        "260\n",
        "Landmarks:  [2, 1, 7, 16, 8, 4, 0, 5, 9, 13, 15, 3, 6, 10, 11, 12, 14, 17]\n",
        "Uv cut 42.1544778167\n",
        "Preliminary scan of edge weights to define filtration steps...\n",
        "Preliminary scan and sorting completed.\n",
        "Constructing filtration...\n",
        "Scanning cliques of dimension:  2\n",
        "Scanning cliques of dimension:  3\n",
        "Clique dictionary created.\n",
        "266\n",
        "Landmarks: "
       ]
      },
      {
       "output_type": "stream",
       "stream": "stdout",
       "text": [
        " [14, 21, 15, 13, 0, 4, 18, 11, 10, 17, 20, 1, 19, 2, 3, 5, 6, 7, 8, 9, 12, 16]\n",
        "Uv cut 32.7566787083\n",
        "Preliminary scan of edge weights to define filtration steps...\n",
        "Preliminary scan and sorting completed.\n",
        "Constructing filtration...\n",
        "Scanning cliques of dimension:  2\n",
        "Scanning cliques of dimension:  3\n",
        "Clique dictionary created.\n",
        "269\n",
        "Landmarks:  [1, 0]\n",
        "Uv cut 37.6430604494\n",
        "Preliminary scan of edge weights to define filtration steps...\n",
        "Preliminary scan and sorting completed.\n",
        "Constructing filtration...\n",
        "Scanning cliques of dimension:  2\n",
        "Scanning cliques of dimension:  3\n",
        "Clique dictionary created.\n",
        "268\n",
        "Landmarks:  [4, 3, 0, 1, 2]\n",
        "Uv cut 14.8660687473\n",
        "Preliminary scan of edge weights to define filtration steps...\n",
        "Preliminary scan and sorting completed.\n",
        "Constructing filtration...\n",
        "Scanning cliques of dimension:  2\n",
        "Scanning cliques of dimension:  3\n",
        "Clique dictionary created.\n",
        "58\n",
        "Landmarks:  [15, 14, 16, 1, 9, 4, 0, 6, 8, 7, 19, 3, 10, 11, 2, 5, 12, 13, 17, 18]\n",
        "Uv cut 61.8465843843\n",
        "Preliminary scan of edge weights to define filtration steps...\n",
        "Preliminary scan and sorting completed.\n",
        "Constructing filtration...\n",
        "Scanning cliques of dimension:  2\n",
        "Scanning cliques of dimension:  3\n",
        "Clique dictionary created."
       ]
      },
      {
       "output_type": "stream",
       "stream": "stdout",
       "text": [
        "\n",
        "55\n",
        "Landmarks:  [3, 5, 2, 11, 12, 0, 7, 1, 9, 4, 6, 8, 10]\n",
        "Uv cut 36.8781778292\n",
        "Preliminary scan of edge weights to define filtration steps...\n",
        "Preliminary scan and sorting completed.\n",
        "Constructing filtration...\n",
        "Scanning cliques of dimension:  2\n",
        "Scanning cliques of dimension:  3\n",
        "Clique dictionary created.\n",
        "54\n",
        "Landmarks: "
       ]
      },
      {
       "output_type": "stream",
       "stream": "stdout",
       "text": [
        " [33, 51, 50, 11, 1, 41, 55, 32, 59, 14, 49, 16, 15, 6, 24, 42, 26, 30, 31, 46, 20, 22, 5, 7, 8, 9, 21, 27, 37, 38]\n",
        "Uv cut 53.8237865632\n",
        "Preliminary scan of edge weights to define filtration steps...\n",
        "Preliminary scan and sorting completed.\n",
        "Constructing filtration...\n",
        "Scanning cliques of dimension:  2\n",
        "Scanning cliques of dimension:  3\n",
        "Clique dictionary created.\n",
        "57\n",
        "Landmarks: "
       ]
      },
      {
       "output_type": "stream",
       "stream": "stdout",
       "text": [
        " [3, 17, 9, 41, 50, 60, 4, 1, 28, 58, 25, 18, 13, 64, 51, 0, 20, 55, 24, 49, 8, 30, 35, 37, 39, 40, 43, 61, 7, 23]\n",
        "Uv cut 71.4002801115\n",
        "Preliminary scan of edge weights to define filtration steps...\n",
        "Preliminary scan and sorting completed.\n",
        "Constructing filtration...\n",
        "Scanning cliques of dimension:  2\n",
        "Scanning cliques of dimension:  3\n",
        "Clique dictionary created.\n",
        "56\n",
        "Landmarks: "
       ]
      },
      {
       "output_type": "stream",
       "stream": "stdout",
       "text": [
        " [12, 7, 15, 21, 8, 5, 14, 6, 17, 18, 19, 0, 1, 2, 3, 4, 9, 10, 11, 13, 16, 20]\n",
        "Uv cut 28.3019433962\n",
        "Preliminary scan of edge weights to define filtration steps...\n",
        "Preliminary scan and sorting completed.\n",
        "Constructing filtration...\n",
        "Scanning cliques of dimension:  2\n",
        "Scanning cliques of dimension:  3\n",
        "Clique dictionary created.\n",
        "51\n",
        "Landmarks: "
       ]
      },
      {
       "output_type": "stream",
       "stream": "stdout",
       "text": [
        " [37, 74, 2, 53, 127, 103, 4, 114, 38, 23, 43, 89, 81, 78, 51, 31, 160, 112, 20, 154, 68, 162, 14, 119, 129, 158, 10, 49, 28, 29]\n",
        "Uv cut 72.4016574396\n",
        "Preliminary scan of edge weights to define filtration steps...\n",
        "Preliminary scan and sorting completed.\n",
        "Constructing filtration...\n",
        "Scanning cliques of dimension:  2\n",
        "Scanning cliques of dimension:  3\n",
        "Clique dictionary created.\n",
        "53\n",
        "Landmarks: "
       ]
      },
      {
       "output_type": "stream",
       "stream": "stdout",
       "text": [
        " [22, 5, 15, 67, 59, 66, 12, 61, 4, 10, 47, 0, 53, 72, 16, 62, 63, 43, 73, 25, 26, 58, 71, 57, 69, 20, 6, 46, 51, 11]\n",
        "Uv cut 85.912746435\n",
        "Preliminary scan of edge weights to define filtration steps...\n",
        "Preliminary scan and sorting completed.\n",
        "Constructing filtration...\n",
        "Scanning cliques of dimension:  2\n",
        "Scanning cliques of dimension:  3\n",
        "Clique dictionary created.\n",
        "52\n",
        "Landmarks: "
       ]
      },
      {
       "output_type": "stream",
       "stream": "stdout",
       "text": [
        " [17, 6, 2, 27, 13, 28, 0, 5, 1, 16, 7, 10, 3, 4, 14, 23, 25, 8, 9, 11, 12, 15, 18, 19, 20, 21, 22, 24, 26, 29]\n",
        "Uv cut 58.3095189485\n",
        "Preliminary scan of edge weights to define filtration steps...\n",
        "Preliminary scan and sorting completed.\n",
        "Constructing filtration...\n",
        "Scanning cliques of dimension:  2\n",
        "Scanning cliques of dimension:  3\n",
        "Clique dictionary created.\n",
        "1418\n",
        "Landmarks:  [4, 3, 0, 1, 2]\n",
        "Uv cut 38.2099463491\n",
        "Preliminary scan of edge weights to define filtration steps...\n",
        "Preliminary scan and sorting completed.\n",
        "Constructing filtration...\n",
        "Scanning cliques of dimension:  2\n",
        "Scanning cliques of dimension:  3\n",
        "Clique dictionary created.\n",
        "1416\n",
        "Landmarks: "
       ]
      },
      {
       "output_type": "stream",
       "stream": "stdout",
       "text": [
        " [14, 9, 18, 11, 20, 0, 3, 5, 1, 6, 25, 7, 2, 10, 15, 22, 23, 24, 4, 8, 12, 13, 16, 17, 19, 21, 26, 27]\n",
        "Uv cut 48.9182992345\n",
        "Preliminary scan of edge weights to define filtration steps...\n",
        "Preliminary scan and sorting completed.\n",
        "Constructing filtration...\n",
        "Scanning cliques of dimension:  2\n",
        "Scanning cliques of dimension:  3\n",
        "Clique dictionary created.\n",
        "1250\n",
        "Landmarks:  [3, 7, 9, 0, 6, 1, 2, 4, 5, 8]\n",
        "Uv cut 74.0270220933\n",
        "Preliminary scan of edge weights to define filtration steps...\n",
        "Preliminary scan and sorting completed.\n",
        "Constructing filtration...\n",
        "Scanning cliques of dimension:  2\n",
        "Scanning cliques of dimension:  3\n",
        "Clique dictionary created.\n",
        "421\n",
        "Landmarks: "
       ]
      },
      {
       "output_type": "stream",
       "stream": "stdout",
       "text": [
        " [39, 23, 29, 42, 34, 36, 17, 7, 8, 3, 30, 25, 15, 38, 27, 43, 16, 37, 12, 21, 1, 6, 45, 0, 2, 18, 26, 40, 41, 4]\n",
        "Uv cut 60.811183182\n",
        "Preliminary scan of edge weights to define filtration steps...\n",
        "Preliminary scan and sorting completed.\n",
        "Constructing filtration...\n",
        "Scanning cliques of dimension:  2\n",
        "Scanning cliques of dimension:  3\n",
        "Clique dictionary created.\n",
        "420\n",
        "Landmarks: "
       ]
      },
      {
       "output_type": "stream",
       "stream": "stdout",
       "text": [
        " [3, 12, 6, 16, 4, 8, 14, 2, 5, 1, 13, 17, 0, 7, 9, 10, 11, 15]\n",
        "Uv cut 63.1268564083\n",
        "Preliminary scan of edge weights to define filtration steps...\n",
        "Preliminary scan and sorting completed.\n",
        "Constructing filtration...\n",
        "Scanning cliques of dimension:  2\n",
        "Scanning cliques of dimension:  3\n",
        "Clique dictionary created.\n",
        "423\n",
        "Landmarks:  [1, 7, 3, 10, 6, 0, 9, 4, 2, 5, 8, 11, 12, 13, 14]\n",
        "Uv cut 59.4642749893\n",
        "Preliminary scan of edge weights to define filtration steps...\n",
        "Preliminary scan and sorting completed.\n",
        "Constructing filtration...\n",
        "Scanning cliques of dimension:  2\n",
        "Scanning cliques of dimension:  3\n",
        "Clique dictionary created.\n",
        "229\n",
        "Landmarks:  [0, 3, 2, 5, 1, 4, 6]\n",
        "Uv cut 55.9464029228\n",
        "Preliminary scan of edge weights to define filtration steps...\n",
        "Preliminary scan and sorting completed.\n",
        "Constructing filtration...\n",
        "Scanning cliques of dimension:  2\n",
        "Scanning cliques of dimension:  3\n",
        "Clique dictionary created.\n",
        "228\n",
        "Landmarks: "
       ]
      },
      {
       "output_type": "stream",
       "stream": "stdout",
       "text": [
        " [28, 9, 24, 21, 34, 26, 1, 11, 3, 35, 15, 6, 12, 32, 37, 0, 2, 4, 13, 17, 22, 23, 29, 5, 7, 8, 10, 14, 16, 18]\n",
        "Uv cut 62.0080639917\n",
        "Preliminary scan of edge weights to define filtration steps...\n",
        "Preliminary scan and sorting completed.\n",
        "Constructing filtration...\n",
        "Scanning cliques of dimension:  2\n",
        "Scanning cliques of dimension:  3\n",
        "Clique dictionary created.\n",
        "227\n",
        "Landmarks: "
       ]
      },
      {
       "output_type": "stream",
       "stream": "stdout",
       "text": [
        " [18, 9, 6, 5, 2, 3, 7, 10, 4, 13, 14, 0, 1, 8, 11, 12, 15, 16, 17, 19]\n",
        "Uv cut 60.3075451333\n",
        "Preliminary scan of edge weights to define filtration steps...\n",
        "Preliminary scan and sorting completed.\n",
        "Constructing filtration...\n",
        "Scanning cliques of dimension:  2\n",
        "Scanning cliques of dimension:  3\n",
        "Clique dictionary created.\n",
        "226\n",
        "Landmarks: "
       ]
      },
      {
       "output_type": "stream",
       "stream": "stdout",
       "text": [
        " [17, 44, 0, 8, 26, 36, 41, 29, 4, 52, 12, 60, 43, 59, 19, 16, 14, 9, 20, 3, 32, 33, 57, 7, 1, 10, 11, 18, 34, 42]\n",
        "Uv cut 65.8027355054\n",
        "Preliminary scan of edge weights to define filtration steps...\n",
        "Preliminary scan and sorting completed.\n",
        "Constructing filtration...\n",
        "Scanning cliques of dimension:  2\n",
        "Scanning cliques of dimension:  3\n",
        "Clique dictionary created.\n",
        "225\n",
        "Landmarks: "
       ]
      },
      {
       "output_type": "stream",
       "stream": "stdout",
       "text": [
        " [28, 54, 58, 60, 53, 56, 39, 0, 62, 13, 46, 30, 5, 7, 37, 22, 12, 51, 36, 47, 50, 23, 32, 10, 33, 44, 55, 9, 1, 4]\n",
        "Uv cut 76.8374908492\n",
        "Preliminary scan of edge weights to define filtration steps...\n",
        "Preliminary scan and sorting completed.\n",
        "Constructing filtration...\n",
        "Scanning cliques of dimension:  2\n",
        "Scanning cliques of dimension:  3\n",
        "Clique dictionary created.\n",
        "224\n",
        "Landmarks: "
       ]
      },
      {
       "output_type": "stream",
       "stream": "stdout",
       "text": [
        " [25, 22, 21, 26, 28, 6, 10, 4, 27, 17, 35, 15, 19, 2, 38, 12, 39, 11, 14, 24, 16, 18, 29, 0, 1, 3, 5, 7, 8, 9]\n",
        "Uv cut 57.0701322935\n",
        "Preliminary scan of edge weights to define filtration steps...\n",
        "Preliminary scan and sorting completed.\n",
        "Constructing filtration...\n",
        "Scanning cliques of dimension:  2\n",
        "Scanning cliques of dimension:  3\n",
        "Clique dictionary created.\n",
        "223\n",
        "Landmarks: "
       ]
      },
      {
       "output_type": "stream",
       "stream": "stdout",
       "text": [
        " [23, 26, 7, 38, 33, 29, 30, 27, 35, 13, 34, 22, 4, 32, 9, 10, 16, 20, 1, 11, 14, 18, 36, 37, 0, 2, 3, 5, 6, 8]\n",
        "Uv cut 48.8262224629\n",
        "Preliminary scan of edge weights to define filtration steps...\n",
        "Preliminary scan and sorting completed.\n",
        "Constructing filtration...\n",
        "Scanning cliques of dimension:  2\n",
        "Scanning cliques of dimension:  3\n",
        "Clique dictionary created.\n",
        "222\n",
        "Landmarks: "
       ]
      },
      {
       "output_type": "stream",
       "stream": "stdout",
       "text": [
        " [28, 5, 27, 20, 22, 12, 16, 17, 0, 2, 14, 7, 19, 18, 1, 13, 3, 4, 6, 8, 9, 10, 11, 15, 21, 23, 24, 25, 26]\n",
        "Uv cut 59.0338885726\n",
        "Preliminary scan of edge weights to define filtration steps...\n",
        "Preliminary scan and sorting completed.\n",
        "Constructing filtration...\n",
        "Scanning cliques of dimension:  2\n",
        "Scanning cliques of dimension:  3\n",
        "Clique dictionary created.\n",
        "221\n",
        "Landmarks: "
       ]
      },
      {
       "output_type": "stream",
       "stream": "stdout",
       "text": [
        " [109, 66, 14, 70, 149, 148, 63, 125, 54, 38, 68, 126, 119, 17, 23, 53, 140, 105, 40, 110, 36, 46, 101, 24, 75, 85, 116, 9, 102, 60]\n",
        "Uv cut 70.7248188403\n",
        "Preliminary scan of edge weights to define filtration steps...\n",
        "Preliminary scan and sorting completed.\n",
        "Constructing filtration...\n",
        "Scanning cliques of dimension:  2\n",
        "Scanning cliques of dimension:  3\n",
        "Clique dictionary created.\n",
        "220\n",
        "Landmarks: "
       ]
      },
      {
       "output_type": "stream",
       "stream": "stdout",
       "text": [
        " [18, 20, 47, 55, 2, 26, 22, 42, 57, 12, 33, 50, 53, 10, 51, 5, 34, 36, 9, 14, 44, 8, 59, 16, 23, 37, 38, 43, 46, 56]\n",
        "Uv cut 46.5725240888\n",
        "Preliminary scan of edge weights to define filtration steps...\n",
        "Preliminary scan and sorting completed.\n",
        "Constructing filtration...\n",
        "Scanning cliques of dimension:  2\n",
        "Scanning cliques of dimension:  3\n",
        "Clique dictionary created.\n",
        "1204\n",
        "Landmarks:  [4, 0, 1, 2, 3]\n",
        "Uv cut 14.2126704036\n",
        "Preliminary scan of edge weights to define filtration steps...\n",
        "Preliminary scan and sorting completed.\n",
        "Constructing filtration...\n",
        "Scanning cliques of dimension:  2\n",
        "Scanning cliques of dimension:  3\n",
        "Clique dictionary created.\n",
        "1808\n",
        "Landmarks:  [8, 1, 5, 4, 2, 9, 0, 3, 6, 7]\n",
        "Uv cut 35.3553390593\n",
        "Preliminary scan of edge weights to define filtration steps...\n",
        "Preliminary scan and sorting completed.\n",
        "Constructing filtration...\n",
        "Scanning cliques of dimension:  2\n",
        "Scanning cliques of dimension:  3\n",
        "Clique dictionary created.\n",
        "48\n",
        "Landmarks: "
       ]
      },
      {
       "output_type": "stream",
       "stream": "stdout",
       "text": [
        " [7, 46, 60, 72, 8, 47, 53, 55, 33, 22, 23, 48, 26, 16, 24, 43, 57, 51, 31, 1, 35, 37, 40, 39, 9, 10, 12, 15, 30, 70]\n",
        "Uv cut 66.0984114786\n",
        "Preliminary scan of edge weights to define filtration steps...\n",
        "Preliminary scan and sorting completed.\n",
        "Constructing filtration...\n",
        "Scanning cliques of dimension:  2\n",
        "Scanning cliques of dimension:  3\n",
        "Clique dictionary created.\n",
        "49\n",
        "Landmarks: "
       ]
      },
      {
       "output_type": "stream",
       "stream": "stdout",
       "text": [
        " [26, 38, 3, 30, 21, 39, 8, 7, 5, 6, 29, 33, 36, 42, 18, 28, 4, 40, 10, 35, 9, 24, 2, 12, 14, 16, 17, 22, 25, 0]\n",
        "Uv cut 40.5215991787\n",
        "Preliminary scan of edge weights to define filtration steps...\n",
        "Preliminary scan and sorting completed.\n",
        "Constructing filtration...\n",
        "Scanning cliques of dimension:  2\n",
        "Scanning cliques of dimension:  3\n",
        "Clique dictionary created.\n",
        "46\n",
        "Landmarks: "
       ]
      },
      {
       "output_type": "stream",
       "stream": "stdout",
       "text": [
        " [14, 24, 19, 22, 4, 34, 20, 26, 18, 13, 3, 15, 1, 2, 29, 38, 21, 25, 6, 12, 27, 33, 37, 0, 5, 7, 8, 9, 10, 11]\n",
        "Uv cut 47.0425339454\n",
        "Preliminary scan of edge weights to define filtration steps...\n",
        "Preliminary scan and sorting completed.\n",
        "Constructing filtration...\n",
        "Scanning cliques of dimension:  2\n",
        "Scanning cliques of dimension:  3\n",
        "Clique dictionary created.\n",
        "47\n",
        "Landmarks: "
       ]
      },
      {
       "output_type": "stream",
       "stream": "stdout",
       "text": [
        " [9, 17, 20, 7, 1, 5, 18, 8, 11, 12, 3, 4, 6, 19, 0, 2, 10, 13, 14, 15, 16, 21, 22, 23, 24]\n",
        "Uv cut 34.6698716467\n",
        "Preliminary scan of edge weights to define filtration steps...\n",
        "Preliminary scan and sorting completed.\n",
        "Constructing filtration...\n",
        "Scanning cliques of dimension:  2\n",
        "Scanning cliques of dimension:  3\n",
        "Clique dictionary created.\n",
        "44\n",
        "Landmarks: "
       ]
      },
      {
       "output_type": "stream",
       "stream": "stdout",
       "text": [
        " [15, 8, 14, 1, 20, 12, 9, 16, 18, 2, 5, 11, 7, 13, 0, 3, 4, 6, 10, 17, 19]\n",
        "Uv cut 32.2490309932\n",
        "Preliminary scan of edge weights to define filtration steps...\n",
        "Preliminary scan and sorting completed.\n",
        "Constructing filtration...\n",
        "Scanning cliques of dimension:  2\n",
        "Scanning cliques of dimension:  3\n",
        "Clique dictionary created.\n",
        "45\n",
        "Landmarks: "
       ]
      },
      {
       "output_type": "stream",
       "stream": "stdout",
       "text": [
        " [0, 14, 3, 30, 40, 28, 23, 22, 31, 37, 39, 18, 10, 6, 35, 36, 43, 13, 7, 8, 21, 27, 34, 1, 2, 4, 5, 9, 11, 12]\n",
        "Uv cut 75.9275970909\n",
        "Preliminary scan of edge weights to define filtration steps...\n",
        "Preliminary scan and sorting completed.\n",
        "Constructing filtration...\n",
        "Scanning cliques of dimension:  2\n",
        "Scanning cliques of dimension:  3\n",
        "Clique dictionary created.\n",
        "43\n",
        "Landmarks: "
       ]
      },
      {
       "output_type": "stream",
       "stream": "stdout",
       "text": [
        " [46, 4, 39, 28, 41, 25, 26, 55, 0, 5, 47, 53, 24, 35, 51, 6, 29, 13, 38, 9, 15, 49, 16, 20, 22, 30, 32, 33, 37, 40]\n",
        "Uv cut 39.2173431023\n",
        "Preliminary scan of edge weights to define filtration steps...\n",
        "Preliminary scan and sorting completed.\n",
        "Constructing filtration...\n",
        "Scanning cliques of dimension:  2\n",
        "Scanning cliques of dimension:  3\n",
        "Clique dictionary created.\n",
        "40\n",
        "Landmarks: "
       ]
      },
      {
       "output_type": "stream",
       "stream": "stdout",
       "text": [
        " [92, 187, 35, 273, 156, 3, 269, 95, 197, 306, 45, 21, 2, 49, 165, 214, 73, 174, 70, 231, 24, 207, 76, 116, 4, 249, 238, 267, 142, 108]\n",
        "Uv cut 80.6039701255\n",
        "Preliminary scan of edge weights to define filtration steps...\n",
        "Preliminary scan and sorting completed.\n",
        "Constructing filtration...\n",
        "Scanning cliques of dimension:  2\n",
        "Scanning cliques of dimension:  3\n",
        "Clique dictionary created.\n",
        "41\n",
        "Landmarks: "
       ]
      },
      {
       "output_type": "stream",
       "stream": "stdout",
       "text": [
        " [3, 24, 18, 5, 23, 4, 17, 15, 10, 7, 25, 19, 22, 2, 8, 11, 13, 14, 20, 30, 0, 1, 6, 9, 12, 16, 21, 26, 27, 28]\n",
        "Uv cut 32.6496554346\n",
        "Preliminary scan of edge weights to define filtration steps...\n",
        "Preliminary scan and sorting completed.\n",
        "Constructing filtration...\n",
        "Scanning cliques of dimension:  2\n",
        "Scanning cliques of dimension:  3\n",
        "Clique dictionary created.\n",
        "1807\n",
        "Landmarks:  [0, 1, 2]\n",
        "Uv cut 1.41421356237\n",
        "Preliminary scan of edge weights to define filtration steps...\n",
        "Preliminary scan and sorting completed.\n",
        "Constructing filtration...\n",
        "Scanning cliques of dimension:  2\n",
        "Scanning cliques of dimension:  3\n",
        "Clique dictionary created.\n",
        "1809\n",
        "Landmarks: "
       ]
      },
      {
       "output_type": "stream",
       "stream": "stdout",
       "text": [
        " [8, 7, 23, 18, 9, 3, 6, 5, 2, 20, 22, 1, 19, 15, 16, 21, 26, 0, 4, 10, 11, 12, 13, 14, 17, 24, 25, 27]\n",
        "Uv cut 68.6221538572\n",
        "Preliminary scan of edge weights to define filtration steps...\n",
        "Preliminary scan and sorting completed.\n",
        "Constructing filtration...\n",
        "Scanning cliques of dimension:  2\n",
        "Scanning cliques of dimension:  3\n",
        "Clique dictionary created.\n",
        "50937\n",
        "Landmarks:  [1, 0]\n",
        "Uv cut 1.0\n",
        "Preliminary scan of edge weights to define filtration steps...\n",
        "Preliminary scan and sorting completed.\n",
        "Constructing filtration...\n",
        "Scanning cliques of dimension:  2\n",
        "Scanning cliques of dimension:  3\n",
        "Clique dictionary created.\n"
       ]
      }
     ],
     "prompt_number": 9
    },
    {
     "cell_type": "code",
     "collapsed": false,
     "input": [
      "filtration_dir='../stores/phom/filtrations/'\n",
      "if not os.path.exists(filtration_dir):\n",
      "    os.makedirs(filtration_dir)\n",
      "\n",
      "for c in cd:\n",
      "    pickle.dump(cd[c],open('../stores/phom/filtrations/'+str(c)+'_fil.pck','w'))"
     ],
     "language": "python",
     "metadata": {},
     "outputs": [],
     "prompt_number": 10
    },
    {
     "cell_type": "code",
     "collapsed": false,
     "input": [
      "output_dir = '../stores/phom/output/'\n",
      "if not os.path.exists(output_dir):\n",
      "    os.makedirs(output_dir)"
     ],
     "language": "python",
     "metadata": {},
     "outputs": [],
     "prompt_number": 11
    },
    {
     "cell_type": "code",
     "collapsed": false,
     "input": [
      "li=os.listdir(filtration_dir);\n",
      "\n",
      "for f in li:\n",
      "    if f == '.gitignore':\n",
      "        continue\n",
      "    print f\n",
      "    ho.persistent_homology_calculation(filtration_dir+f,max_dimensions,f.split('_')[0],output_dir,m1=1000,m2=1000)"
     ],
     "language": "python",
     "metadata": {},
     "outputs": [
      {
       "output_type": "stream",
       "stream": "stdout",
       "text": [
        "216_fil.pck\n",
        "Calling: JAVA_OPTIONS=\"-Xms1000m -Xmx1000m\" jython  ../Holes/jython_utils/persistent_homology_calculation.py ../stores/phom/filtrations/216_fil.pck 1 ../stores/phom/output/ 216_ ../Holes/jython_utils/lib/ False\n",
        "1306_fil.pck"
       ]
      },
      {
       "output_type": "stream",
       "stream": "stderr",
       "text": [
        "Child returned 0\n",
        "Child returned"
       ]
      },
      {
       "output_type": "stream",
       "stream": "stdout",
       "text": [
        "\n",
        "Calling: JAVA_OPTIONS=\"-Xms1000m -Xmx1000m\" jython  ../Holes/jython_utils/persistent_homology_calculation.py ../stores/phom/filtrations/1306_fil.pck 1 ../stores/phom/output/ 1306_ ../Holes/jython_utils/lib/ False\n",
        "18098_fil.pck"
       ]
      },
      {
       "output_type": "stream",
       "stream": "stderr",
       "text": [
        " 0\n",
        "Child returned"
       ]
      },
      {
       "output_type": "stream",
       "stream": "stdout",
       "text": [
        "\n",
        "Calling: JAVA_OPTIONS=\"-Xms1000m -Xmx1000m\" jython  ../Holes/jython_utils/persistent_homology_calculation.py ../stores/phom/filtrations/18098_fil.pck 1 ../stores/phom/output/ 18098_ ../Holes/jython_utils/lib/ False\n",
        "212_fil.pck"
       ]
      },
      {
       "output_type": "stream",
       "stream": "stderr",
       "text": [
        " 0\n",
        "Child returned"
       ]
      },
      {
       "output_type": "stream",
       "stream": "stdout",
       "text": [
        "\n",
        "Calling: JAVA_OPTIONS=\"-Xms1000m -Xmx1000m\" jython  ../Holes/jython_utils/persistent_homology_calculation.py ../stores/phom/filtrations/212_fil.pck 1 ../stores/phom/output/ 212_ ../Holes/jython_utils/lib/ False\n",
        "213_fil.pck"
       ]
      },
      {
       "output_type": "stream",
       "stream": "stderr",
       "text": [
        " 0\n",
        "Child returned"
       ]
      },
      {
       "output_type": "stream",
       "stream": "stdout",
       "text": [
        "\n",
        "Calling: JAVA_OPTIONS=\"-Xms1000m -Xmx1000m\" jython  ../Holes/jython_utils/persistent_homology_calculation.py ../stores/phom/filtrations/213_fil.pck 1 ../stores/phom/output/ 213_ ../Holes/jython_utils/lib/ False\n",
        "211_fil.pck"
       ]
      },
      {
       "output_type": "stream",
       "stream": "stderr",
       "text": [
        " 0\n",
        "Child returned"
       ]
      },
      {
       "output_type": "stream",
       "stream": "stdout",
       "text": [
        "\n",
        "Calling: JAVA_OPTIONS=\"-Xms1000m -Xmx1000m\" jython  ../Holes/jython_utils/persistent_homology_calculation.py ../stores/phom/filtrations/211_fil.pck 1 ../stores/phom/output/ 211_ ../Holes/jython_utils/lib/ False\n",
        "18093_fil.pck"
       ]
      },
      {
       "output_type": "stream",
       "stream": "stderr",
       "text": [
        " 0\n",
        "Child returned"
       ]
      },
      {
       "output_type": "stream",
       "stream": "stdout",
       "text": [
        "\n",
        "Calling: JAVA_OPTIONS=\"-Xms1000m -Xmx1000m\" jython  ../Holes/jython_utils/persistent_homology_calculation.py ../stores/phom/filtrations/18093_fil.pck 1 ../stores/phom/output/ 18093_ ../Holes/jython_utils/lib/ False\n",
        "18092_fil.pck"
       ]
      },
      {
       "output_type": "stream",
       "stream": "stderr",
       "text": [
        " 0\n",
        "Child returned"
       ]
      },
      {
       "output_type": "stream",
       "stream": "stdout",
       "text": [
        "\n",
        "Calling: JAVA_OPTIONS=\"-Xms1000m -Xmx1000m\" jython  ../Holes/jython_utils/persistent_homology_calculation.py ../stores/phom/filtrations/18092_fil.pck 1 ../stores/phom/output/ 18092_ ../Holes/jython_utils/lib/ False\n",
        "18763_fil.pck"
       ]
      },
      {
       "output_type": "stream",
       "stream": "stderr",
       "text": [
        " 0\n",
        "Child returned"
       ]
      },
      {
       "output_type": "stream",
       "stream": "stdout",
       "text": [
        "\n",
        "Calling: JAVA_OPTIONS=\"-Xms1000m -Xmx1000m\" jython  ../Holes/jython_utils/persistent_homology_calculation.py ../stores/phom/filtrations/18763_fil.pck 1 ../stores/phom/output/ 18763_ ../Holes/jython_utils/lib/ False\n",
        "18762_fil.pck"
       ]
      },
      {
       "output_type": "stream",
       "stream": "stderr",
       "text": [
        " 0\n",
        "Child returned"
       ]
      },
      {
       "output_type": "stream",
       "stream": "stdout",
       "text": [
        "\n",
        "Calling: JAVA_OPTIONS=\"-Xms1000m -Xmx1000m\" jython  ../Holes/jython_utils/persistent_homology_calculation.py ../stores/phom/filtrations/18762_fil.pck 1 ../stores/phom/output/ 18762_ ../Holes/jython_utils/lib/ False\n",
        "18097_fil.pck"
       ]
      },
      {
       "output_type": "stream",
       "stream": "stderr",
       "text": [
        " 0\n",
        "Child returned"
       ]
      },
      {
       "output_type": "stream",
       "stream": "stdout",
       "text": [
        "\n",
        "Calling: JAVA_OPTIONS=\"-Xms1000m -Xmx1000m\" jython  ../Holes/jython_utils/persistent_homology_calculation.py ../stores/phom/filtrations/18097_fil.pck 1 ../stores/phom/output/ 18097_ ../Holes/jython_utils/lib/ False\n",
        "18764_fil.pck"
       ]
      },
      {
       "output_type": "stream",
       "stream": "stderr",
       "text": [
        " 0\n",
        "Child returned"
       ]
      },
      {
       "output_type": "stream",
       "stream": "stdout",
       "text": [
        "\n",
        "Calling: JAVA_OPTIONS=\"-Xms1000m -Xmx1000m\" jython  ../Holes/jython_utils/persistent_homology_calculation.py ../stores/phom/filtrations/18764_fil.pck 1 ../stores/phom/output/ 18764_ ../Holes/jython_utils/lib/ False\n",
        "218_fil.pck"
       ]
      },
      {
       "output_type": "stream",
       "stream": "stderr",
       "text": [
        " 0\n",
        "Child returned"
       ]
      },
      {
       "output_type": "stream",
       "stream": "stdout",
       "text": [
        "\n",
        "Calling: JAVA_OPTIONS=\"-Xms1000m -Xmx1000m\" jython  ../Holes/jython_utils/persistent_homology_calculation.py ../stores/phom/filtrations/218_fil.pck 1 ../stores/phom/output/ 218_ ../Holes/jython_utils/lib/ False\n",
        "1787_fil.pck"
       ]
      },
      {
       "output_type": "stream",
       "stream": "stderr",
       "text": [
        " 0\n",
        "Child returned"
       ]
      },
      {
       "output_type": "stream",
       "stream": "stdout",
       "text": [
        "\n",
        "Calling: JAVA_OPTIONS=\"-Xms1000m -Xmx1000m\" jython  ../Holes/jython_utils/persistent_homology_calculation.py ../stores/phom/filtrations/1787_fil.pck 1 ../stores/phom/output/ 1787_ ../Holes/jython_utils/lib/ False\n",
        "227_fil.pck"
       ]
      },
      {
       "output_type": "stream",
       "stream": "stderr",
       "text": [
        " 0\n",
        "Child returned"
       ]
      },
      {
       "output_type": "stream",
       "stream": "stdout",
       "text": [
        "\n",
        "Calling: JAVA_OPTIONS=\"-Xms1000m -Xmx1000m\" jython  ../Holes/jython_utils/persistent_homology_calculation.py ../stores/phom/filtrations/227_fil.pck 1 ../stores/phom/output/ 227_ ../Holes/jython_utils/lib/ False\n",
        "40_fil.pck"
       ]
      },
      {
       "output_type": "stream",
       "stream": "stderr",
       "text": [
        " 0\n",
        "Child returned"
       ]
      },
      {
       "output_type": "stream",
       "stream": "stdout",
       "text": [
        "\n",
        "Calling: JAVA_OPTIONS=\"-Xms1000m -Xmx1000m\" jython  ../Holes/jython_utils/persistent_homology_calculation.py ../stores/phom/filtrations/40_fil.pck 1 ../stores/phom/output/ 40_ ../Holes/jython_utils/lib/ False\n",
        "226_fil.pck"
       ]
      },
      {
       "output_type": "stream",
       "stream": "stderr",
       "text": [
        " 0\n",
        "Child returned"
       ]
      },
      {
       "output_type": "stream",
       "stream": "stdout",
       "text": [
        "\n",
        "Calling: JAVA_OPTIONS=\"-Xms1000m -Xmx1000m\" jython  ../Holes/jython_utils/persistent_homology_calculation.py ../stores/phom/filtrations/226_fil.pck 1 ../stores/phom/output/ 226_ ../Holes/jython_utils/lib/ False\n",
        "225_fil.pck"
       ]
      },
      {
       "output_type": "stream",
       "stream": "stderr",
       "text": [
        " 0\n",
        "Child returned"
       ]
      },
      {
       "output_type": "stream",
       "stream": "stdout",
       "text": [
        "\n",
        "Calling: JAVA_OPTIONS=\"-Xms1000m -Xmx1000m\" jython  ../Holes/jython_utils/persistent_homology_calculation.py ../stores/phom/filtrations/225_fil.pck 1 ../stores/phom/output/ 225_ ../Holes/jython_utils/lib/ False\n",
        "692_fil.pck"
       ]
      },
      {
       "output_type": "stream",
       "stream": "stderr",
       "text": [
        " 0\n",
        "Child returned"
       ]
      },
      {
       "output_type": "stream",
       "stream": "stdout",
       "text": [
        "\n",
        "Calling: JAVA_OPTIONS=\"-Xms1000m -Xmx1000m\" jython  ../Holes/jython_utils/persistent_homology_calculation.py ../stores/phom/filtrations/692_fil.pck 1 ../stores/phom/output/ 692_ ../Holes/jython_utils/lib/ False\n",
        "7777_fil.pck"
       ]
      },
      {
       "output_type": "stream",
       "stream": "stderr",
       "text": [
        " 0\n",
        "Child returned"
       ]
      },
      {
       "output_type": "stream",
       "stream": "stdout",
       "text": [
        "\n",
        "Calling: JAVA_OPTIONS=\"-Xms1000m -Xmx1000m\" jython  ../Holes/jython_utils/persistent_homology_calculation.py ../stores/phom/filtrations/7777_fil.pck 1 ../stores/phom/output/ 7777_ ../Holes/jython_utils/lib/ False\n",
        "690_fil.pck"
       ]
      },
      {
       "output_type": "stream",
       "stream": "stderr",
       "text": [
        " 0\n",
        "Child returned"
       ]
      },
      {
       "output_type": "stream",
       "stream": "stdout",
       "text": [
        "\n",
        "Calling: JAVA_OPTIONS=\"-Xms1000m -Xmx1000m\" jython  ../Holes/jython_utils/persistent_homology_calculation.py ../stores/phom/filtrations/690_fil.pck 1 ../stores/phom/output/ 690_ ../Holes/jython_utils/lib/ False\n",
        "27_fil.pck"
       ]
      },
      {
       "output_type": "stream",
       "stream": "stderr",
       "text": [
        " 0\n",
        "Child returned"
       ]
      },
      {
       "output_type": "stream",
       "stream": "stdout",
       "text": [
        "\n",
        "Calling: JAVA_OPTIONS=\"-Xms1000m -Xmx1000m\" jython  ../Holes/jython_utils/persistent_homology_calculation.py ../stores/phom/filtrations/27_fil.pck 1 ../stores/phom/output/ 27_ ../Holes/jython_utils/lib/ False\n",
        "20_fil.pck"
       ]
      },
      {
       "output_type": "stream",
       "stream": "stderr",
       "text": [
        " 0\n",
        "Child returned"
       ]
      },
      {
       "output_type": "stream",
       "stream": "stdout",
       "text": [
        "\n",
        "Calling: JAVA_OPTIONS=\"-Xms1000m -Xmx1000m\" jython  ../Holes/jython_utils/persistent_homology_calculation.py ../stores/phom/filtrations/20_fil.pck 1 ../stores/phom/output/ 20_ ../Holes/jython_utils/lib/ False\n",
        "97259_fil.pck"
       ]
      },
      {
       "output_type": "stream",
       "stream": "stderr",
       "text": [
        " 0\n",
        "Child returned"
       ]
      },
      {
       "output_type": "stream",
       "stream": "stdout",
       "text": [
        "\n",
        "Calling: JAVA_OPTIONS=\"-Xms1000m -Xmx1000m\" jython  ../Holes/jython_utils/persistent_homology_calculation.py ../stores/phom/filtrations/97259_fil.pck 1 ../stores/phom/output/ 97259_ ../Holes/jython_utils/lib/ False\n",
        "1778_fil.pck"
       ]
      },
      {
       "output_type": "stream",
       "stream": "stderr",
       "text": [
        " 0\n",
        "Child returned"
       ]
      },
      {
       "output_type": "stream",
       "stream": "stdout",
       "text": [
        "\n",
        "Calling: JAVA_OPTIONS=\"-Xms1000m -Xmx1000m\" jython  ../Holes/jython_utils/persistent_homology_calculation.py ../stores/phom/filtrations/1778_fil.pck 1 ../stores/phom/output/ 1778_ ../Holes/jython_utils/lib/ False\n",
        "222_fil.pck"
       ]
      },
      {
       "output_type": "stream",
       "stream": "stderr",
       "text": [
        " 0\n",
        "Child returned"
       ]
      },
      {
       "output_type": "stream",
       "stream": "stdout",
       "text": [
        "\n",
        "Calling: JAVA_OPTIONS=\"-Xms1000m -Xmx1000m\" jython  ../Holes/jython_utils/persistent_homology_calculation.py ../stores/phom/filtrations/222_fil.pck 1 ../stores/phom/output/ 222_ ../Holes/jython_utils/lib/ False\n",
        "45_fil.pck"
       ]
      },
      {
       "output_type": "stream",
       "stream": "stderr",
       "text": [
        " 0\n",
        "Child returned"
       ]
      },
      {
       "output_type": "stream",
       "stream": "stdout",
       "text": [
        "\n",
        "Calling: JAVA_OPTIONS=\"-Xms1000m -Xmx1000m\" jython  ../Holes/jython_utils/persistent_homology_calculation.py ../stores/phom/filtrations/45_fil.pck 1 ../stores/phom/output/ 45_ ../Holes/jython_utils/lib/ False\n",
        "1780_fil.pck"
       ]
      },
      {
       "output_type": "stream",
       "stream": "stderr",
       "text": [
        " 0\n",
        "Child returned"
       ]
      },
      {
       "output_type": "stream",
       "stream": "stdout",
       "text": [
        "\n",
        "Calling: JAVA_OPTIONS=\"-Xms1000m -Xmx1000m\" jython  ../Holes/jython_utils/persistent_homology_calculation.py ../stores/phom/filtrations/1780_fil.pck 1 ../stores/phom/output/ 1780_ ../Holes/jython_utils/lib/ False\n",
        "221_fil.pck"
       ]
      },
      {
       "output_type": "stream",
       "stream": "stderr",
       "text": [
        " 0\n",
        "Child returned"
       ]
      },
      {
       "output_type": "stream",
       "stream": "stdout",
       "text": [
        "\n",
        "Calling: JAVA_OPTIONS=\"-Xms1000m -Xmx1000m\" jython  ../Holes/jython_utils/persistent_homology_calculation.py ../stores/phom/filtrations/221_fil.pck 1 ../stores/phom/output/ 221_ ../Holes/jython_utils/lib/ False\n",
        "52_fil.pck"
       ]
      },
      {
       "output_type": "stream",
       "stream": "stderr",
       "text": [
        " 0\n",
        "Child returned"
       ]
      },
      {
       "output_type": "stream",
       "stream": "stdout",
       "text": [
        "\n",
        "Calling: JAVA_OPTIONS=\"-Xms1000m -Xmx1000m\" jython  ../Holes/jython_utils/persistent_homology_calculation.py ../stores/phom/filtrations/52_fil.pck 1 ../stores/phom/output/ 52_ ../Holes/jython_utils/lib/ False\n",
        "1670_fil.pck"
       ]
      },
      {
       "output_type": "stream",
       "stream": "stderr",
       "text": [
        " 0\n",
        "Child returned"
       ]
      },
      {
       "output_type": "stream",
       "stream": "stdout",
       "text": [
        "\n",
        "Calling: JAVA_OPTIONS=\"-Xms1000m -Xmx1000m\" jython  ../Holes/jython_utils/persistent_homology_calculation.py ../stores/phom/filtrations/1670_fil.pck 1 ../stores/phom/output/ 1670_ ../Holes/jython_utils/lib/ False\n",
        "995_fil.pck"
       ]
      },
      {
       "output_type": "stream",
       "stream": "stderr",
       "text": [
        " 0\n",
        "Child returned"
       ]
      },
      {
       "output_type": "stream",
       "stream": "stdout",
       "text": [
        "\n",
        "Calling: JAVA_OPTIONS=\"-Xms1000m -Xmx1000m\" jython  ../Holes/jython_utils/persistent_homology_calculation.py ../stores/phom/filtrations/995_fil.pck 1 ../stores/phom/output/ 995_ ../Holes/jython_utils/lib/ False\n",
        "994_fil.pck"
       ]
      },
      {
       "output_type": "stream",
       "stream": "stderr",
       "text": [
        " 0\n",
        "Child returned"
       ]
      },
      {
       "output_type": "stream",
       "stream": "stdout",
       "text": [
        "\n",
        "Calling: JAVA_OPTIONS=\"-Xms1000m -Xmx1000m\" jython  ../Holes/jython_utils/persistent_homology_calculation.py ../stores/phom/filtrations/994_fil.pck 1 ../stores/phom/output/ 994_ ../Holes/jython_utils/lib/ False\n",
        "996_fil.pck"
       ]
      },
      {
       "output_type": "stream",
       "stream": "stderr",
       "text": [
        " 0\n",
        "Child returned"
       ]
      },
      {
       "output_type": "stream",
       "stream": "stdout",
       "text": [
        "\n",
        "Calling: JAVA_OPTIONS=\"-Xms1000m -Xmx1000m\" jython  ../Holes/jython_utils/persistent_homology_calculation.py ../stores/phom/filtrations/996_fil.pck 1 ../stores/phom/output/ 996_ ../Holes/jython_utils/lib/ False\n",
        "678_fil.pck"
       ]
      },
      {
       "output_type": "stream",
       "stream": "stderr",
       "text": [
        " 0\n",
        "Child returned"
       ]
      },
      {
       "output_type": "stream",
       "stream": "stdout",
       "text": [
        "\n",
        "Calling: JAVA_OPTIONS=\"-Xms1000m -Xmx1000m\" jython  ../Holes/jython_utils/persistent_homology_calculation.py ../stores/phom/filtrations/678_fil.pck 1 ../stores/phom/output/ 678_ ../Holes/jython_utils/lib/ False\n",
        "679_fil.pck"
       ]
      },
      {
       "output_type": "stream",
       "stream": "stderr",
       "text": [
        " 0\n",
        "Child returned"
       ]
      },
      {
       "output_type": "stream",
       "stream": "stdout",
       "text": [
        "\n",
        "Calling: JAVA_OPTIONS=\"-Xms1000m -Xmx1000m\" jython  ../Holes/jython_utils/persistent_homology_calculation.py ../stores/phom/filtrations/679_fil.pck 1 ../stores/phom/output/ 679_ ../Holes/jython_utils/lib/ False\n",
        "993_fil.pck"
       ]
      },
      {
       "output_type": "stream",
       "stream": "stderr",
       "text": [
        " 0\n",
        "Child returned"
       ]
      },
      {
       "output_type": "stream",
       "stream": "stdout",
       "text": [
        "\n",
        "Calling: JAVA_OPTIONS=\"-Xms1000m -Xmx1000m\" jython  ../Holes/jython_utils/persistent_homology_calculation.py ../stores/phom/filtrations/993_fil.pck 1 ../stores/phom/output/ 993_ ../Holes/jython_utils/lib/ False\n",
        "992_fil.pck"
       ]
      },
      {
       "output_type": "stream",
       "stream": "stderr",
       "text": [
        " 0\n",
        "Child returned"
       ]
      },
      {
       "output_type": "stream",
       "stream": "stdout",
       "text": [
        "\n",
        "Calling: JAVA_OPTIONS=\"-Xms1000m -Xmx1000m\" jython  ../Holes/jython_utils/persistent_homology_calculation.py ../stores/phom/filtrations/992_fil.pck 1 ../stores/phom/output/ 992_ ../Holes/jython_utils/lib/ False\n",
        "675_fil.pck"
       ]
      },
      {
       "output_type": "stream",
       "stream": "stderr",
       "text": [
        " 0\n",
        "Child returned"
       ]
      },
      {
       "output_type": "stream",
       "stream": "stdout",
       "text": [
        "\n",
        "Calling: JAVA_OPTIONS=\"-Xms1000m -Xmx1000m\" jython  ../Holes/jython_utils/persistent_homology_calculation.py ../stores/phom/filtrations/675_fil.pck 1 ../stores/phom/output/ 675_ ../Holes/jython_utils/lib/ False\n",
        "676_fil.pck"
       ]
      },
      {
       "output_type": "stream",
       "stream": "stderr",
       "text": [
        " 0\n",
        "Child returned"
       ]
      },
      {
       "output_type": "stream",
       "stream": "stdout",
       "text": [
        "\n",
        "Calling: JAVA_OPTIONS=\"-Xms1000m -Xmx1000m\" jython  ../Holes/jython_utils/persistent_homology_calculation.py ../stores/phom/filtrations/676_fil.pck 1 ../stores/phom/output/ 676_ ../Holes/jython_utils/lib/ False\n",
        "677_fil.pck"
       ]
      },
      {
       "output_type": "stream",
       "stream": "stderr",
       "text": [
        " 0\n",
        "Child returned"
       ]
      },
      {
       "output_type": "stream",
       "stream": "stdout",
       "text": [
        "\n",
        "Calling: JAVA_OPTIONS=\"-Xms1000m -Xmx1000m\" jython  ../Holes/jython_utils/persistent_homology_calculation.py ../stores/phom/filtrations/677_fil.pck 1 ../stores/phom/output/ 677_ ../Holes/jython_utils/lib/ False\n",
        "670_fil.pck"
       ]
      },
      {
       "output_type": "stream",
       "stream": "stderr",
       "text": [
        " 0\n",
        "Child returned"
       ]
      },
      {
       "output_type": "stream",
       "stream": "stdout",
       "text": [
        "\n",
        "Calling: JAVA_OPTIONS=\"-Xms1000m -Xmx1000m\" jython  ../Holes/jython_utils/persistent_homology_calculation.py ../stores/phom/filtrations/670_fil.pck 1 ../stores/phom/output/ 670_ ../Holes/jython_utils/lib/ False\n",
        "998_fil.pck"
       ]
      },
      {
       "output_type": "stream",
       "stream": "stderr",
       "text": [
        " 0\n",
        "Child returned"
       ]
      },
      {
       "output_type": "stream",
       "stream": "stdout",
       "text": [
        "\n",
        "Calling: JAVA_OPTIONS=\"-Xms1000m -Xmx1000m\" jython  ../Holes/jython_utils/persistent_homology_calculation.py ../stores/phom/filtrations/998_fil.pck 1 ../stores/phom/output/ 998_ ../Holes/jython_utils/lib/ False\n",
        "672_fil.pck"
       ]
      },
      {
       "output_type": "stream",
       "stream": "stderr",
       "text": [
        " 0\n",
        "Child returned"
       ]
      },
      {
       "output_type": "stream",
       "stream": "stdout",
       "text": [
        "\n",
        "Calling: JAVA_OPTIONS=\"-Xms1000m -Xmx1000m\" jython  ../Holes/jython_utils/persistent_homology_calculation.py ../stores/phom/filtrations/672_fil.pck 1 ../stores/phom/output/ 672_ ../Holes/jython_utils/lib/ False\n",
        "18096_fil.pck"
       ]
      },
      {
       "output_type": "stream",
       "stream": "stderr",
       "text": [
        " 0\n",
        "Child returned"
       ]
      },
      {
       "output_type": "stream",
       "stream": "stdout",
       "text": [
        "\n",
        "Calling: JAVA_OPTIONS=\"-Xms1000m -Xmx1000m\" jython  ../Holes/jython_utils/persistent_homology_calculation.py ../stores/phom/filtrations/18096_fil.pck 1 ../stores/phom/output/ 18096_ ../Holes/jython_utils/lib/ False\n",
        "421_fil.pck"
       ]
      },
      {
       "output_type": "stream",
       "stream": "stderr",
       "text": [
        " 0\n",
        "Child returned"
       ]
      },
      {
       "output_type": "stream",
       "stream": "stdout",
       "text": [
        "\n",
        "Calling: JAVA_OPTIONS=\"-Xms1000m -Xmx1000m\" jython  ../Holes/jython_utils/persistent_homology_calculation.py ../stores/phom/filtrations/421_fil.pck 1 ../stores/phom/output/ 421_ ../Holes/jython_utils/lib/ False\n",
        "261_fil.pck"
       ]
      },
      {
       "output_type": "stream",
       "stream": "stderr",
       "text": [
        " 0\n",
        "Child returned"
       ]
      },
      {
       "output_type": "stream",
       "stream": "stdout",
       "text": [
        "\n",
        "Calling: JAVA_OPTIONS=\"-Xms1000m -Xmx1000m\" jython  ../Holes/jython_utils/persistent_homology_calculation.py ../stores/phom/filtrations/261_fil.pck 1 ../stores/phom/output/ 261_ ../Holes/jython_utils/lib/ False\n",
        "260_fil.pck"
       ]
      },
      {
       "output_type": "stream",
       "stream": "stderr",
       "text": [
        " 0\n",
        "Child returned"
       ]
      },
      {
       "output_type": "stream",
       "stream": "stdout",
       "text": [
        "\n",
        "Calling: JAVA_OPTIONS=\"-Xms1000m -Xmx1000m\" jython  ../Holes/jython_utils/persistent_homology_calculation.py ../stores/phom/filtrations/260_fil.pck 1 ../stores/phom/output/ 260_ ../Holes/jython_utils/lib/ False\n",
        "229_fil.pck"
       ]
      },
      {
       "output_type": "stream",
       "stream": "stderr",
       "text": [
        " 0\n",
        "Child returned"
       ]
      },
      {
       "output_type": "stream",
       "stream": "stdout",
       "text": [
        "\n",
        "Calling: JAVA_OPTIONS=\"-Xms1000m -Xmx1000m\" jython  ../Holes/jython_utils/persistent_homology_calculation.py ../stores/phom/filtrations/229_fil.pck 1 ../stores/phom/output/ 229_ ../Holes/jython_utils/lib/ False\n",
        "266_fil.pck"
       ]
      },
      {
       "output_type": "stream",
       "stream": "stderr",
       "text": [
        " 0\n",
        "Child returned"
       ]
      },
      {
       "output_type": "stream",
       "stream": "stdout",
       "text": [
        "\n",
        "Calling: JAVA_OPTIONS=\"-Xms1000m -Xmx1000m\" jython  ../Holes/jython_utils/persistent_homology_calculation.py ../stores/phom/filtrations/266_fil.pck 1 ../stores/phom/output/ 266_ ../Holes/jython_utils/lib/ False\n",
        "269_fil.pck"
       ]
      },
      {
       "output_type": "stream",
       "stream": "stderr",
       "text": [
        " 0\n",
        "Child returned"
       ]
      },
      {
       "output_type": "stream",
       "stream": "stdout",
       "text": [
        "\n",
        "Calling: JAVA_OPTIONS=\"-Xms1000m -Xmx1000m\" jython  ../Holes/jython_utils/persistent_homology_calculation.py ../stores/phom/filtrations/269_fil.pck 1 ../stores/phom/output/ 269_ ../Holes/jython_utils/lib/ False\n",
        "18094_fil.pck"
       ]
      },
      {
       "output_type": "stream",
       "stream": "stderr",
       "text": [
        " 0\n",
        "Child returned"
       ]
      },
      {
       "output_type": "stream",
       "stream": "stdout",
       "text": [
        "\n",
        "Calling: JAVA_OPTIONS=\"-Xms1000m -Xmx1000m\" jython  ../Holes/jython_utils/persistent_homology_calculation.py ../stores/phom/filtrations/18094_fil.pck 1 ../stores/phom/output/ 18094_ ../Holes/jython_utils/lib/ False\n",
        "961_fil.pck"
       ]
      },
      {
       "output_type": "stream",
       "stream": "stderr",
       "text": [
        " 0\n",
        "Child returned"
       ]
      },
      {
       "output_type": "stream",
       "stream": "stdout",
       "text": [
        "\n",
        "Calling: JAVA_OPTIONS=\"-Xms1000m -Xmx1000m\" jython  ../Holes/jython_utils/persistent_homology_calculation.py ../stores/phom/filtrations/961_fil.pck 1 ../stores/phom/output/ 961_ ../Holes/jython_utils/lib/ False\n",
        "50937_fil.pck"
       ]
      },
      {
       "output_type": "stream",
       "stream": "stderr",
       "text": [
        " 0\n",
        "Child returned"
       ]
      },
      {
       "output_type": "stream",
       "stream": "stdout",
       "text": [
        "\n",
        "Calling: JAVA_OPTIONS=\"-Xms1000m -Xmx1000m\" jython  ../Holes/jython_utils/persistent_homology_calculation.py ../stores/phom/filtrations/50937_fil.pck 1 ../stores/phom/output/ 50937_ ../Holes/jython_utils/lib/ False\n",
        "1829_fil.pck"
       ]
      },
      {
       "output_type": "stream",
       "stream": "stderr",
       "text": [
        " 0\n",
        "Child returned"
       ]
      },
      {
       "output_type": "stream",
       "stream": "stdout",
       "text": [
        "\n",
        "Calling: JAVA_OPTIONS=\"-Xms1000m -Xmx1000m\" jython  ../Holes/jython_utils/persistent_homology_calculation.py ../stores/phom/filtrations/1829_fil.pck 1 ../stores/phom/output/ 1829_ ../Holes/jython_utils/lib/ False\n",
        "1705_fil.pck"
       ]
      },
      {
       "output_type": "stream",
       "stream": "stderr",
       "text": [
        " 0\n",
        "Child returned"
       ]
      },
      {
       "output_type": "stream",
       "stream": "stdout",
       "text": [
        "\n",
        "Calling: JAVA_OPTIONS=\"-Xms1000m -Xmx1000m\" jython  ../Holes/jython_utils/persistent_homology_calculation.py ../stores/phom/filtrations/1705_fil.pck 1 ../stores/phom/output/ 1705_ ../Holes/jython_utils/lib/ False\n",
        "55_fil.pck"
       ]
      },
      {
       "output_type": "stream",
       "stream": "stderr",
       "text": [
        " 0\n",
        "Child returned"
       ]
      },
      {
       "output_type": "stream",
       "stream": "stdout",
       "text": [
        "\n",
        "Calling: JAVA_OPTIONS=\"-Xms1000m -Xmx1000m\" jython  ../Holes/jython_utils/persistent_homology_calculation.py ../stores/phom/filtrations/55_fil.pck 1 ../stores/phom/output/ 55_ ../Holes/jython_utils/lib/ False\n",
        "54_fil.pck"
       ]
      },
      {
       "output_type": "stream",
       "stream": "stderr",
       "text": [
        " 0\n",
        "Child returned"
       ]
      },
      {
       "output_type": "stream",
       "stream": "stdout",
       "text": [
        "\n",
        "Calling: JAVA_OPTIONS=\"-Xms1000m -Xmx1000m\" jython  ../Holes/jython_utils/persistent_homology_calculation.py ../stores/phom/filtrations/54_fil.pck 1 ../stores/phom/output/ 54_ ../Holes/jython_utils/lib/ False\n",
        "57_fil.pck"
       ]
      },
      {
       "output_type": "stream",
       "stream": "stderr",
       "text": [
        " 0\n",
        "Child returned"
       ]
      },
      {
       "output_type": "stream",
       "stream": "stdout",
       "text": [
        "\n",
        "Calling: JAVA_OPTIONS=\"-Xms1000m -Xmx1000m\" jython  ../Holes/jython_utils/persistent_homology_calculation.py ../stores/phom/filtrations/57_fil.pck 1 ../stores/phom/output/ 57_ ../Holes/jython_utils/lib/ False\n",
        "56_fil.pck"
       ]
      },
      {
       "output_type": "stream",
       "stream": "stderr",
       "text": [
        " 0\n",
        "Child returned"
       ]
      },
      {
       "output_type": "stream",
       "stream": "stdout",
       "text": [
        "\n",
        "Calling: JAVA_OPTIONS=\"-Xms1000m -Xmx1000m\" jython  ../Holes/jython_utils/persistent_homology_calculation.py ../stores/phom/filtrations/56_fil.pck 1 ../stores/phom/output/ 56_ ../Holes/jython_utils/lib/ False\n",
        "51_fil.pck"
       ]
      },
      {
       "output_type": "stream",
       "stream": "stderr",
       "text": [
        " 0\n",
        "Child returned"
       ]
      },
      {
       "output_type": "stream",
       "stream": "stdout",
       "text": [
        "\n",
        "Calling: JAVA_OPTIONS=\"-Xms1000m -Xmx1000m\" jython  ../Holes/jython_utils/persistent_homology_calculation.py ../stores/phom/filtrations/51_fil.pck 1 ../stores/phom/output/ 51_ ../Holes/jython_utils/lib/ False\n",
        "53_fil.pck"
       ]
      },
      {
       "output_type": "stream",
       "stream": "stderr",
       "text": [
        " 0\n",
        "Child returned"
       ]
      },
      {
       "output_type": "stream",
       "stream": "stdout",
       "text": [
        "\n",
        "Calling: JAVA_OPTIONS=\"-Xms1000m -Xmx1000m\" jython  ../Holes/jython_utils/persistent_homology_calculation.py ../stores/phom/filtrations/53_fil.pck 1 ../stores/phom/output/ 53_ ../Holes/jython_utils/lib/ False\n",
        "1721_fil.pck"
       ]
      },
      {
       "output_type": "stream",
       "stream": "stderr",
       "text": [
        " 0\n",
        "Child returned"
       ]
      },
      {
       "output_type": "stream",
       "stream": "stdout",
       "text": [
        "\n",
        "Calling: JAVA_OPTIONS=\"-Xms1000m -Xmx1000m\" jython  ../Holes/jython_utils/persistent_homology_calculation.py ../stores/phom/filtrations/1721_fil.pck 1 ../stores/phom/output/ 1721_ ../Holes/jython_utils/lib/ False\n",
        "1418_fil.pck"
       ]
      },
      {
       "output_type": "stream",
       "stream": "stderr",
       "text": [
        " 0\n",
        "Child returned"
       ]
      },
      {
       "output_type": "stream",
       "stream": "stdout",
       "text": [
        "\n",
        "Calling: JAVA_OPTIONS=\"-Xms1000m -Xmx1000m\" jython  ../Holes/jython_utils/persistent_homology_calculation.py ../stores/phom/filtrations/1418_fil.pck 1 ../stores/phom/output/ 1418_ ../Holes/jython_utils/lib/ False\n",
        "378_fil.pck"
       ]
      },
      {
       "output_type": "stream",
       "stream": "stderr",
       "text": [
        " 0\n",
        "Child returned"
       ]
      },
      {
       "output_type": "stream",
       "stream": "stdout",
       "text": [
        "\n",
        "Calling: JAVA_OPTIONS=\"-Xms1000m -Xmx1000m\" jython  ../Holes/jython_utils/persistent_homology_calculation.py ../stores/phom/filtrations/378_fil.pck 1 ../stores/phom/output/ 378_ ../Holes/jython_utils/lib/ False\n",
        "18099_fil.pck"
       ]
      },
      {
       "output_type": "stream",
       "stream": "stderr",
       "text": [
        " 0\n",
        "Child returned"
       ]
      },
      {
       "output_type": "stream",
       "stream": "stdout",
       "text": [
        "\n",
        "Calling: JAVA_OPTIONS=\"-Xms1000m -Xmx1000m\" jython  ../Holes/jython_utils/persistent_homology_calculation.py ../stores/phom/filtrations/18099_fil.pck 1 ../stores/phom/output/ 18099_ ../Holes/jython_utils/lib/ False\n",
        "371_fil.pck"
       ]
      },
      {
       "output_type": "stream",
       "stream": "stderr",
       "text": [
        " 0\n",
        "Child returned"
       ]
      },
      {
       "output_type": "stream",
       "stream": "stdout",
       "text": [
        "\n",
        "Calling: JAVA_OPTIONS=\"-Xms1000m -Xmx1000m\" jython  ../Holes/jython_utils/persistent_homology_calculation.py ../stores/phom/filtrations/371_fil.pck 1 ../stores/phom/output/ 371_ ../Holes/jython_utils/lib/ False\n",
        "370_fil.pck"
       ]
      },
      {
       "output_type": "stream",
       "stream": "stderr",
       "text": [
        " 0\n",
        "Child returned"
       ]
      },
      {
       "output_type": "stream",
       "stream": "stdout",
       "text": [
        "\n",
        "Calling: JAVA_OPTIONS=\"-Xms1000m -Xmx1000m\" jython  ../Holes/jython_utils/persistent_homology_calculation.py ../stores/phom/filtrations/370_fil.pck 1 ../stores/phom/output/ 370_ ../Holes/jython_utils/lib/ False\n",
        "373_fil.pck"
       ]
      },
      {
       "output_type": "stream",
       "stream": "stderr",
       "text": [
        " 0\n",
        "Child returned"
       ]
      },
      {
       "output_type": "stream",
       "stream": "stdout",
       "text": [
        "\n",
        "Calling: JAVA_OPTIONS=\"-Xms1000m -Xmx1000m\" jython  ../Holes/jython_utils/persistent_homology_calculation.py ../stores/phom/filtrations/373_fil.pck 1 ../stores/phom/output/ 373_ ../Holes/jython_utils/lib/ False\n",
        "372_fil.pck"
       ]
      },
      {
       "output_type": "stream",
       "stream": "stderr",
       "text": [
        " 0\n",
        "Child returned"
       ]
      },
      {
       "output_type": "stream",
       "stream": "stdout",
       "text": [
        "\n",
        "Calling: JAVA_OPTIONS=\"-Xms1000m -Xmx1000m\" jython  ../Holes/jython_utils/persistent_homology_calculation.py ../stores/phom/filtrations/372_fil.pck 1 ../stores/phom/output/ 372_ ../Holes/jython_utils/lib/ False\n",
        "375_fil.pck"
       ]
      },
      {
       "output_type": "stream",
       "stream": "stderr",
       "text": [
        " 0\n",
        "Child returned"
       ]
      },
      {
       "output_type": "stream",
       "stream": "stdout",
       "text": [
        "\n",
        "Calling: JAVA_OPTIONS=\"-Xms1000m -Xmx1000m\" jython  ../Holes/jython_utils/persistent_homology_calculation.py ../stores/phom/filtrations/375_fil.pck 1 ../stores/phom/output/ 375_ ../Holes/jython_utils/lib/ False\n",
        "374_fil.pck"
       ]
      },
      {
       "output_type": "stream",
       "stream": "stderr",
       "text": [
        " 0\n",
        "Child returned"
       ]
      },
      {
       "output_type": "stream",
       "stream": "stdout",
       "text": [
        "\n",
        "Calling: JAVA_OPTIONS=\"-Xms1000m -Xmx1000m\" jython  ../Holes/jython_utils/persistent_homology_calculation.py ../stores/phom/filtrations/374_fil.pck 1 ../stores/phom/output/ 374_ ../Holes/jython_utils/lib/ False\n",
        "377_fil.pck"
       ]
      },
      {
       "output_type": "stream",
       "stream": "stderr",
       "text": [
        " 0\n",
        "Child returned"
       ]
      },
      {
       "output_type": "stream",
       "stream": "stdout",
       "text": [
        "\n",
        "Calling: JAVA_OPTIONS=\"-Xms1000m -Xmx1000m\" jython  ../Holes/jython_utils/persistent_homology_calculation.py ../stores/phom/filtrations/377_fil.pck 1 ../stores/phom/output/ 377_ ../Holes/jython_utils/lib/ False\n",
        "376_fil.pck"
       ]
      },
      {
       "output_type": "stream",
       "stream": "stderr",
       "text": [
        " 0\n",
        "Child returned"
       ]
      },
      {
       "output_type": "stream",
       "stream": "stdout",
       "text": [
        "\n",
        "Calling: JAVA_OPTIONS=\"-Xms1000m -Xmx1000m\" jython  ../Holes/jython_utils/persistent_homology_calculation.py ../stores/phom/filtrations/376_fil.pck 1 ../stores/phom/output/ 376_ ../Holes/jython_utils/lib/ False\n",
        "591_fil.pck"
       ]
      },
      {
       "output_type": "stream",
       "stream": "stderr",
       "text": [
        " 0\n",
        "Child returned"
       ]
      },
      {
       "output_type": "stream",
       "stream": "stdout",
       "text": [
        "\n",
        "Calling: JAVA_OPTIONS=\"-Xms1000m -Xmx1000m\" jython  ../Holes/jython_utils/persistent_homology_calculation.py ../stores/phom/filtrations/591_fil.pck 1 ../stores/phom/output/ 591_ ../Holes/jython_utils/lib/ False\n",
        "590_fil.pck"
       ]
      },
      {
       "output_type": "stream",
       "stream": "stderr",
       "text": [
        " 0\n",
        "Child returned"
       ]
      },
      {
       "output_type": "stream",
       "stream": "stdout",
       "text": [
        "\n",
        "Calling: JAVA_OPTIONS=\"-Xms1000m -Xmx1000m\" jython  ../Holes/jython_utils/persistent_homology_calculation.py ../stores/phom/filtrations/590_fil.pck 1 ../stores/phom/output/ 590_ ../Holes/jython_utils/lib/ False\n",
        "593_fil.pck"
       ]
      },
      {
       "output_type": "stream",
       "stream": "stderr",
       "text": [
        " 0\n",
        "Child returned"
       ]
      },
      {
       "output_type": "stream",
       "stream": "stdout",
       "text": [
        "\n",
        "Calling: JAVA_OPTIONS=\"-Xms1000m -Xmx1000m\" jython  ../Holes/jython_utils/persistent_homology_calculation.py ../stores/phom/filtrations/593_fil.pck 1 ../stores/phom/output/ 593_ ../Holes/jython_utils/lib/ False\n",
        "592_fil.pck"
       ]
      },
      {
       "output_type": "stream",
       "stream": "stderr",
       "text": [
        " 0\n",
        "Child returned"
       ]
      },
      {
       "output_type": "stream",
       "stream": "stdout",
       "text": [
        "\n",
        "Calling: JAVA_OPTIONS=\"-Xms1000m -Xmx1000m\" jython  ../Holes/jython_utils/persistent_homology_calculation.py ../stores/phom/filtrations/592_fil.pck 1 ../stores/phom/output/ 592_ ../Holes/jython_utils/lib/ False\n",
        "595_fil.pck"
       ]
      },
      {
       "output_type": "stream",
       "stream": "stderr",
       "text": [
        " 0\n",
        "Child returned"
       ]
      },
      {
       "output_type": "stream",
       "stream": "stdout",
       "text": [
        "\n",
        "Calling: JAVA_OPTIONS=\"-Xms1000m -Xmx1000m\" jython  ../Holes/jython_utils/persistent_homology_calculation.py ../stores/phom/filtrations/595_fil.pck 1 ../stores/phom/output/ 595_ ../Holes/jython_utils/lib/ False\n",
        "594_fil.pck"
       ]
      },
      {
       "output_type": "stream",
       "stream": "stderr",
       "text": [
        " 0\n",
        "Child returned"
       ]
      },
      {
       "output_type": "stream",
       "stream": "stdout",
       "text": [
        "\n",
        "Calling: JAVA_OPTIONS=\"-Xms1000m -Xmx1000m\" jython  ../Holes/jython_utils/persistent_homology_calculation.py ../stores/phom/filtrations/594_fil.pck 1 ../stores/phom/output/ 594_ ../Holes/jython_utils/lib/ False\n",
        "597_fil.pck"
       ]
      },
      {
       "output_type": "stream",
       "stream": "stderr",
       "text": [
        " 0\n",
        "Child returned"
       ]
      },
      {
       "output_type": "stream",
       "stream": "stdout",
       "text": [
        "\n",
        "Calling: JAVA_OPTIONS=\"-Xms1000m -Xmx1000m\" jython  ../Holes/jython_utils/persistent_homology_calculation.py ../stores/phom/filtrations/597_fil.pck 1 ../stores/phom/output/ 597_ ../Holes/jython_utils/lib/ False\n",
        "596_fil.pck"
       ]
      },
      {
       "output_type": "stream",
       "stream": "stderr",
       "text": [
        " 0\n",
        "Child returned"
       ]
      },
      {
       "output_type": "stream",
       "stream": "stdout",
       "text": [
        "\n",
        "Calling: JAVA_OPTIONS=\"-Xms1000m -Xmx1000m\" jython  ../Holes/jython_utils/persistent_homology_calculation.py ../stores/phom/filtrations/596_fil.pck 1 ../stores/phom/output/ 596_ ../Holes/jython_utils/lib/ False\n",
        "599_fil.pck"
       ]
      },
      {
       "output_type": "stream",
       "stream": "stderr",
       "text": [
        " 0\n",
        "Child returned"
       ]
      },
      {
       "output_type": "stream",
       "stream": "stdout",
       "text": [
        "\n",
        "Calling: JAVA_OPTIONS=\"-Xms1000m -Xmx1000m\" jython  ../Holes/jython_utils/persistent_homology_calculation.py ../stores/phom/filtrations/599_fil.pck 1 ../stores/phom/output/ 599_ ../Holes/jython_utils/lib/ False\n",
        "598_fil.pck"
       ]
      },
      {
       "output_type": "stream",
       "stream": "stderr",
       "text": [
        " 0\n",
        "Child returned"
       ]
      },
      {
       "output_type": "stream",
       "stream": "stdout",
       "text": [
        "\n",
        "Calling: JAVA_OPTIONS=\"-Xms1000m -Xmx1000m\" jython  ../Holes/jython_utils/persistent_homology_calculation.py ../stores/phom/filtrations/598_fil.pck 1 ../stores/phom/output/ 598_ ../Holes/jython_utils/lib/ False\n",
        "380_fil.pck"
       ]
      },
      {
       "output_type": "stream",
       "stream": "stderr",
       "text": [
        " 0\n",
        "Child returned"
       ]
      },
      {
       "output_type": "stream",
       "stream": "stdout",
       "text": [
        "\n",
        "Calling: JAVA_OPTIONS=\"-Xms1000m -Xmx1000m\" jython  ../Holes/jython_utils/persistent_homology_calculation.py ../stores/phom/filtrations/380_fil.pck 1 ../stores/phom/output/ 380_ ../Holes/jython_utils/lib/ False\n",
        "1926_fil.pck"
       ]
      },
      {
       "output_type": "stream",
       "stream": "stderr",
       "text": [
        " 0\n",
        "Child returned"
       ]
      },
      {
       "output_type": "stream",
       "stream": "stdout",
       "text": [
        "\n",
        "Calling: JAVA_OPTIONS=\"-Xms1000m -Xmx1000m\" jython  ../Holes/jython_utils/persistent_homology_calculation.py ../stores/phom/filtrations/1926_fil.pck 1 ../stores/phom/output/ 1926_ ../Holes/jython_utils/lib/ False\n",
        "82_fil.pck"
       ]
      },
      {
       "output_type": "stream",
       "stream": "stderr",
       "text": [
        " 0\n",
        "Child returned"
       ]
      },
      {
       "output_type": "stream",
       "stream": "stdout",
       "text": [
        "\n",
        "Calling: JAVA_OPTIONS=\"-Xms1000m -Xmx1000m\" jython  ../Holes/jython_utils/persistent_homology_calculation.py ../stores/phom/filtrations/82_fil.pck 1 ../stores/phom/output/ 82_ ../Holes/jython_utils/lib/ False\n",
        "81_fil.pck"
       ]
      },
      {
       "output_type": "stream",
       "stream": "stderr",
       "text": [
        " 0\n",
        "Child returned"
       ]
      },
      {
       "output_type": "stream",
       "stream": "stdout",
       "text": [
        "\n",
        "Calling: JAVA_OPTIONS=\"-Xms1000m -Xmx1000m\" jython  ../Holes/jython_utils/persistent_homology_calculation.py ../stores/phom/filtrations/81_fil.pck 1 ../stores/phom/output/ 81_ ../Holes/jython_utils/lib/ False\n",
        "86_fil.pck"
       ]
      },
      {
       "output_type": "stream",
       "stream": "stderr",
       "text": [
        " 0\n",
        "Child returned"
       ]
      },
      {
       "output_type": "stream",
       "stream": "stdout",
       "text": [
        "\n",
        "Calling: JAVA_OPTIONS=\"-Xms1000m -Xmx1000m\" jython  ../Holes/jython_utils/persistent_homology_calculation.py ../stores/phom/filtrations/86_fil.pck 1 ../stores/phom/output/ 86_ ../Holes/jython_utils/lib/ False\n",
        "84_fil.pck"
       ]
      },
      {
       "output_type": "stream",
       "stream": "stderr",
       "text": [
        " 0\n",
        "Child returned"
       ]
      },
      {
       "output_type": "stream",
       "stream": "stdout",
       "text": [
        "\n",
        "Calling: JAVA_OPTIONS=\"-Xms1000m -Xmx1000m\" jython  ../Holes/jython_utils/persistent_homology_calculation.py ../stores/phom/filtrations/84_fil.pck 1 ../stores/phom/output/ 84_ ../Holes/jython_utils/lib/ False\n",
        "5098_fil.pck"
       ]
      },
      {
       "output_type": "stream",
       "stream": "stderr",
       "text": [
        " 0\n",
        "Child returned"
       ]
      },
      {
       "output_type": "stream",
       "stream": "stdout",
       "text": [
        "\n",
        "Calling: JAVA_OPTIONS=\"-Xms1000m -Xmx1000m\" jython  ../Holes/jython_utils/persistent_homology_calculation.py ../stores/phom/filtrations/5098_fil.pck 1 ../stores/phom/output/ 5098_ ../Holes/jython_utils/lib/ False\n",
        "268_fil.pck"
       ]
      },
      {
       "output_type": "stream",
       "stream": "stderr",
       "text": [
        " 0\n",
        "Child returned"
       ]
      },
      {
       "output_type": "stream",
       "stream": "stdout",
       "text": [
        "\n",
        "Calling: JAVA_OPTIONS=\"-Xms1000m -Xmx1000m\" jython  ../Holes/jython_utils/persistent_homology_calculation.py ../stores/phom/filtrations/268_fil.pck 1 ../stores/phom/output/ 268_ ../Holes/jython_utils/lib/ False\n",
        "251_fil.pck"
       ]
      },
      {
       "output_type": "stream",
       "stream": "stderr",
       "text": [
        " 0\n",
        "Child returned"
       ]
      },
      {
       "output_type": "stream",
       "stream": "stdout",
       "text": [
        "\n",
        "Calling: JAVA_OPTIONS=\"-Xms1000m -Xmx1000m\" jython  ../Holes/jython_utils/persistent_homology_calculation.py ../stores/phom/filtrations/251_fil.pck 1 ../stores/phom/output/ 251_ ../Holes/jython_utils/lib/ False\n",
        "7729_fil.pck"
       ]
      },
      {
       "output_type": "stream",
       "stream": "stderr",
       "text": [
        " 0\n",
        "Child returned"
       ]
      },
      {
       "output_type": "stream",
       "stream": "stdout",
       "text": [
        "\n",
        "Calling: JAVA_OPTIONS=\"-Xms1000m -Xmx1000m\" jython  ../Holes/jython_utils/persistent_homology_calculation.py ../stores/phom/filtrations/7729_fil.pck 1 ../stores/phom/output/ 7729_ ../Holes/jython_utils/lib/ False\n",
        "381_fil.pck"
       ]
      },
      {
       "output_type": "stream",
       "stream": "stderr",
       "text": [
        " 0\n",
        "Child returned"
       ]
      },
      {
       "output_type": "stream",
       "stream": "stdout",
       "text": [
        "\n",
        "Calling: JAVA_OPTIONS=\"-Xms1000m -Xmx1000m\" jython  ../Holes/jython_utils/persistent_homology_calculation.py ../stores/phom/filtrations/381_fil.pck 1 ../stores/phom/output/ 381_ ../Holes/jython_utils/lib/ False\n",
        "7_fil.pck"
       ]
      },
      {
       "output_type": "stream",
       "stream": "stderr",
       "text": [
        " 0\n",
        "Child returned"
       ]
      },
      {
       "output_type": "stream",
       "stream": "stdout",
       "text": [
        "\n",
        "Calling: JAVA_OPTIONS=\"-Xms1000m -Xmx1000m\" jython  ../Holes/jython_utils/persistent_homology_calculation.py ../stores/phom/filtrations/7_fil.pck 1 ../stores/phom/output/ 7_ ../Holes/jython_utils/lib/ False\n",
        "1403_fil.pck"
       ]
      },
      {
       "output_type": "stream",
       "stream": "stderr",
       "text": [
        " 0\n",
        "Child returned"
       ]
      },
      {
       "output_type": "stream",
       "stream": "stdout",
       "text": [
        "\n",
        "Calling: JAVA_OPTIONS=\"-Xms1000m -Xmx1000m\" jython  ../Holes/jython_utils/persistent_homology_calculation.py ../stores/phom/filtrations/1403_fil.pck 1 ../stores/phom/output/ 1403_ ../Holes/jython_utils/lib/ False\n",
        "420_fil.pck"
       ]
      },
      {
       "output_type": "stream",
       "stream": "stderr",
       "text": [
        " 0\n",
        "Child returned"
       ]
      },
      {
       "output_type": "stream",
       "stream": "stdout",
       "text": [
        "\n",
        "Calling: JAVA_OPTIONS=\"-Xms1000m -Xmx1000m\" jython  ../Holes/jython_utils/persistent_homology_calculation.py ../stores/phom/filtrations/420_fil.pck 1 ../stores/phom/output/ 420_ ../Holes/jython_utils/lib/ False\n",
        "423_fil.pck"
       ]
      },
      {
       "output_type": "stream",
       "stream": "stderr",
       "text": [
        " 0\n",
        "Child returned"
       ]
      },
      {
       "output_type": "stream",
       "stream": "stdout",
       "text": [
        "\n",
        "Calling: JAVA_OPTIONS=\"-Xms1000m -Xmx1000m\" jython  ../Holes/jython_utils/persistent_homology_calculation.py ../stores/phom/filtrations/423_fil.pck 1 ../stores/phom/output/ 423_ ../Holes/jython_utils/lib/ False\n",
        "976_fil.pck"
       ]
      },
      {
       "output_type": "stream",
       "stream": "stderr",
       "text": [
        " 0\n",
        "Child returned"
       ]
      },
      {
       "output_type": "stream",
       "stream": "stdout",
       "text": [
        "\n",
        "Calling: JAVA_OPTIONS=\"-Xms1000m -Xmx1000m\" jython  ../Holes/jython_utils/persistent_homology_calculation.py ../stores/phom/filtrations/976_fil.pck 1 ../stores/phom/output/ 976_ ../Holes/jython_utils/lib/ False\n",
        "975_fil.pck"
       ]
      },
      {
       "output_type": "stream",
       "stream": "stderr",
       "text": [
        " 0\n",
        "Child returned"
       ]
      },
      {
       "output_type": "stream",
       "stream": "stdout",
       "text": [
        "\n",
        "Calling: JAVA_OPTIONS=\"-Xms1000m -Xmx1000m\" jython  ../Holes/jython_utils/persistent_homology_calculation.py ../stores/phom/filtrations/975_fil.pck 1 ../stores/phom/output/ 975_ ../Holes/jython_utils/lib/ False\n",
        "245_fil.pck"
       ]
      },
      {
       "output_type": "stream",
       "stream": "stderr",
       "text": [
        " 0\n",
        "Child returned"
       ]
      },
      {
       "output_type": "stream",
       "stream": "stdout",
       "text": [
        "\n",
        "Calling: JAVA_OPTIONS=\"-Xms1000m -Xmx1000m\" jython  ../Holes/jython_utils/persistent_homology_calculation.py ../stores/phom/filtrations/245_fil.pck 1 ../stores/phom/output/ 245_ ../Holes/jython_utils/lib/ False\n",
        "244_fil.pck"
       ]
      },
      {
       "output_type": "stream",
       "stream": "stderr",
       "text": [
        " 0\n",
        "Child returned"
       ]
      },
      {
       "output_type": "stream",
       "stream": "stdout",
       "text": [
        "\n",
        "Calling: JAVA_OPTIONS=\"-Xms1000m -Xmx1000m\" jython  ../Holes/jython_utils/persistent_homology_calculation.py ../stores/phom/filtrations/244_fil.pck 1 ../stores/phom/output/ 244_ ../Holes/jython_utils/lib/ False\n",
        "382_fil.pck"
       ]
      },
      {
       "output_type": "stream",
       "stream": "stderr",
       "text": [
        " 0\n",
        "Child returned"
       ]
      },
      {
       "output_type": "stream",
       "stream": "stdout",
       "text": [
        "\n",
        "Calling: JAVA_OPTIONS=\"-Xms1000m -Xmx1000m\" jython  ../Holes/jython_utils/persistent_homology_calculation.py ../stores/phom/filtrations/382_fil.pck 1 ../stores/phom/output/ 382_ ../Holes/jython_utils/lib/ False\n",
        "7712_fil.pck"
       ]
      },
      {
       "output_type": "stream",
       "stream": "stderr",
       "text": [
        " 0\n",
        "Child returned"
       ]
      },
      {
       "output_type": "stream",
       "stream": "stdout",
       "text": [
        "\n",
        "Calling: JAVA_OPTIONS=\"-Xms1000m -Xmx1000m\" jython  ../Holes/jython_utils/persistent_homology_calculation.py ../stores/phom/filtrations/7712_fil.pck 1 ../stores/phom/output/ 7712_ ../Holes/jython_utils/lib/ False\n",
        "241_fil.pck"
       ]
      },
      {
       "output_type": "stream",
       "stream": "stderr",
       "text": [
        " 0\n",
        "Child returned"
       ]
      },
      {
       "output_type": "stream",
       "stream": "stdout",
       "text": [
        "\n",
        "Calling: JAVA_OPTIONS=\"-Xms1000m -Xmx1000m\" jython  ../Holes/jython_utils/persistent_homology_calculation.py ../stores/phom/filtrations/241_fil.pck 1 ../stores/phom/output/ 241_ ../Holes/jython_utils/lib/ False\n",
        "240_fil.pck"
       ]
      },
      {
       "output_type": "stream",
       "stream": "stderr",
       "text": [
        " 0\n",
        "Child returned"
       ]
      },
      {
       "output_type": "stream",
       "stream": "stdout",
       "text": [
        "\n",
        "Calling: JAVA_OPTIONS=\"-Xms1000m -Xmx1000m\" jython  ../Holes/jython_utils/persistent_homology_calculation.py ../stores/phom/filtrations/240_fil.pck 1 ../stores/phom/output/ 240_ ../Holes/jython_utils/lib/ False\n",
        "243_fil.pck"
       ]
      },
      {
       "output_type": "stream",
       "stream": "stderr",
       "text": [
        " 0\n",
        "Child returned"
       ]
      },
      {
       "output_type": "stream",
       "stream": "stdout",
       "text": [
        "\n",
        "Calling: JAVA_OPTIONS=\"-Xms1000m -Xmx1000m\" jython  ../Holes/jython_utils/persistent_homology_calculation.py ../stores/phom/filtrations/243_fil.pck 1 ../stores/phom/output/ 243_ ../Holes/jython_utils/lib/ False\n",
        "242_fil.pck"
       ]
      },
      {
       "output_type": "stream",
       "stream": "stderr",
       "text": [
        " 0\n",
        "Child returned"
       ]
      },
      {
       "output_type": "stream",
       "stream": "stdout",
       "text": [
        "\n",
        "Calling: JAVA_OPTIONS=\"-Xms1000m -Xmx1000m\" jython  ../Holes/jython_utils/persistent_homology_calculation.py ../stores/phom/filtrations/242_fil.pck 1 ../stores/phom/output/ 242_ ../Holes/jython_utils/lib/ False\n",
        "850_fil.pck"
       ]
      },
      {
       "output_type": "stream",
       "stream": "stderr",
       "text": [
        " 0\n",
        "Child returned"
       ]
      },
      {
       "output_type": "stream",
       "stream": "stdout",
       "text": [
        "\n",
        "Calling: JAVA_OPTIONS=\"-Xms1000m -Xmx1000m\" jython  ../Holes/jython_utils/persistent_homology_calculation.py ../stores/phom/filtrations/850_fil.pck 1 ../stores/phom/output/ 850_ ../Holes/jython_utils/lib/ False\n",
        "249_fil.pck"
       ]
      },
      {
       "output_type": "stream",
       "stream": "stderr",
       "text": [
        " 0\n",
        "Child returned"
       ]
      },
      {
       "output_type": "stream",
       "stream": "stdout",
       "text": [
        "\n",
        "Calling: JAVA_OPTIONS=\"-Xms1000m -Xmx1000m\" jython  ../Holes/jython_utils/persistent_homology_calculation.py ../stores/phom/filtrations/249_fil.pck 1 ../stores/phom/output/ 249_ ../Holes/jython_utils/lib/ False\n",
        "248_fil.pck"
       ]
      },
      {
       "output_type": "stream",
       "stream": "stderr",
       "text": [
        " 0\n",
        "Child returned"
       ]
      },
      {
       "output_type": "stream",
       "stream": "stdout",
       "text": [
        "\n",
        "Calling: JAVA_OPTIONS=\"-Xms1000m -Xmx1000m\" jython  ../Holes/jython_utils/persistent_homology_calculation.py ../stores/phom/filtrations/248_fil.pck 1 ../stores/phom/output/ 248_ ../Holes/jython_utils/lib/ False\n",
        "7707_fil.pck"
       ]
      },
      {
       "output_type": "stream",
       "stream": "stderr",
       "text": [
        " 0\n",
        "Child returned"
       ]
      },
      {
       "output_type": "stream",
       "stream": "stdout",
       "text": [
        "\n",
        "Calling: JAVA_OPTIONS=\"-Xms1000m -Xmx1000m\" jython  ../Holes/jython_utils/persistent_homology_calculation.py ../stores/phom/filtrations/7707_fil.pck 1 ../stores/phom/output/ 7707_ ../Holes/jython_utils/lib/ False\n",
        "1849_fil.pck"
       ]
      },
      {
       "output_type": "stream",
       "stream": "stderr",
       "text": [
        " 0\n",
        "Child returned"
       ]
      },
      {
       "output_type": "stream",
       "stream": "stdout",
       "text": [
        "\n",
        "Calling: JAVA_OPTIONS=\"-Xms1000m -Xmx1000m\" jython  ../Holes/jython_utils/persistent_homology_calculation.py ../stores/phom/filtrations/1849_fil.pck 1 ../stores/phom/output/ 1849_ ../Holes/jython_utils/lib/ False\n",
        "7705_fil.pck"
       ]
      },
      {
       "output_type": "stream",
       "stream": "stderr",
       "text": [
        " 0\n",
        "Child returned"
       ]
      },
      {
       "output_type": "stream",
       "stream": "stdout",
       "text": [
        "\n",
        "Calling: JAVA_OPTIONS=\"-Xms1000m -Xmx1000m\" jython  ../Holes/jython_utils/persistent_homology_calculation.py ../stores/phom/filtrations/7705_fil.pck 1 ../stores/phom/output/ 7705_ ../Holes/jython_utils/lib/ False\n",
        "7702_fil.pck"
       ]
      },
      {
       "output_type": "stream",
       "stream": "stderr",
       "text": [
        " 0\n",
        "Child returned"
       ]
      },
      {
       "output_type": "stream",
       "stream": "stdout",
       "text": [
        "\n",
        "Calling: JAVA_OPTIONS=\"-Xms1000m -Xmx1000m\" jython  ../Holes/jython_utils/persistent_homology_calculation.py ../stores/phom/filtrations/7702_fil.pck 1 ../stores/phom/output/ 7702_ ../Holes/jython_utils/lib/ False\n",
        "852_fil.pck"
       ]
      },
      {
       "output_type": "stream",
       "stream": "stderr",
       "text": [
        " 0\n",
        "Child returned"
       ]
      },
      {
       "output_type": "stream",
       "stream": "stdout",
       "text": [
        "\n",
        "Calling: JAVA_OPTIONS=\"-Xms1000m -Xmx1000m\" jython  ../Holes/jython_utils/persistent_homology_calculation.py ../stores/phom/filtrations/852_fil.pck 1 ../stores/phom/output/ 852_ ../Holes/jython_utils/lib/ False\n",
        "7700_fil.pck"
       ]
      },
      {
       "output_type": "stream",
       "stream": "stderr",
       "text": [
        " 0\n",
        "Child returned"
       ]
      },
      {
       "output_type": "stream",
       "stream": "stdout",
       "text": [
        "\n",
        "Calling: JAVA_OPTIONS=\"-Xms1000m -Xmx1000m\" jython  ../Holes/jython_utils/persistent_homology_calculation.py ../stores/phom/filtrations/7700_fil.pck 1 ../stores/phom/output/ 7700_ ../Holes/jython_utils/lib/ False\n",
        "7701_fil.pck"
       ]
      },
      {
       "output_type": "stream",
       "stream": "stderr",
       "text": [
        " 0\n",
        "Child returned"
       ]
      },
      {
       "output_type": "stream",
       "stream": "stdout",
       "text": [
        "\n",
        "Calling: JAVA_OPTIONS=\"-Xms1000m -Xmx1000m\" jython  ../Holes/jython_utils/persistent_homology_calculation.py ../stores/phom/filtrations/7701_fil.pck 1 ../stores/phom/output/ 7701_ ../Holes/jython_utils/lib/ False\n",
        "33_fil.pck"
       ]
      },
      {
       "output_type": "stream",
       "stream": "stderr",
       "text": [
        " 0\n",
        "Child returned"
       ]
      },
      {
       "output_type": "stream",
       "stream": "stdout",
       "text": [
        "\n",
        "Calling: JAVA_OPTIONS=\"-Xms1000m -Xmx1000m\" jython  ../Holes/jython_utils/persistent_homology_calculation.py ../stores/phom/filtrations/33_fil.pck 1 ../stores/phom/output/ 33_ ../Holes/jython_utils/lib/ False\n",
        "32_fil.pck"
       ]
      },
      {
       "output_type": "stream",
       "stream": "stderr",
       "text": [
        " 0\n",
        "Child returned"
       ]
      },
      {
       "output_type": "stream",
       "stream": "stdout",
       "text": [
        "\n",
        "Calling: JAVA_OPTIONS=\"-Xms1000m -Xmx1000m\" jython  ../Holes/jython_utils/persistent_homology_calculation.py ../stores/phom/filtrations/32_fil.pck 1 ../stores/phom/output/ 32_ ../Holes/jython_utils/lib/ False\n",
        "31_fil.pck"
       ]
      },
      {
       "output_type": "stream",
       "stream": "stderr",
       "text": [
        " 0\n",
        "Child returned"
       ]
      },
      {
       "output_type": "stream",
       "stream": "stdout",
       "text": [
        "\n",
        "Calling: JAVA_OPTIONS=\"-Xms1000m -Xmx1000m\" jython  ../Holes/jython_utils/persistent_homology_calculation.py ../stores/phom/filtrations/31_fil.pck 1 ../stores/phom/output/ 31_ ../Holes/jython_utils/lib/ False\n",
        "30_fil.pck"
       ]
      },
      {
       "output_type": "stream",
       "stream": "stderr",
       "text": [
        " 0\n",
        "Child returned"
       ]
      },
      {
       "output_type": "stream",
       "stream": "stdout",
       "text": [
        "\n",
        "Calling: JAVA_OPTIONS=\"-Xms1000m -Xmx1000m\" jython  ../Holes/jython_utils/persistent_homology_calculation.py ../stores/phom/filtrations/30_fil.pck 1 ../stores/phom/output/ 30_ ../Holes/jython_utils/lib/ False\n",
        "36_fil.pck"
       ]
      },
      {
       "output_type": "stream",
       "stream": "stderr",
       "text": [
        " 0\n",
        "Child returned"
       ]
      },
      {
       "output_type": "stream",
       "stream": "stdout",
       "text": [
        "\n",
        "Calling: JAVA_OPTIONS=\"-Xms1000m -Xmx1000m\" jython  ../Holes/jython_utils/persistent_homology_calculation.py ../stores/phom/filtrations/36_fil.pck 1 ../stores/phom/output/ 36_ ../Holes/jython_utils/lib/ False\n",
        "1438_fil.pck"
       ]
      },
      {
       "output_type": "stream",
       "stream": "stderr",
       "text": [
        " 0\n",
        "Child returned"
       ]
      },
      {
       "output_type": "stream",
       "stream": "stdout",
       "text": [
        "\n",
        "Calling: JAVA_OPTIONS=\"-Xms1000m -Xmx1000m\" jython  ../Holes/jython_utils/persistent_homology_calculation.py ../stores/phom/filtrations/1438_fil.pck 1 ../stores/phom/output/ 1438_ ../Holes/jython_utils/lib/ False\n",
        "34_fil.pck"
       ]
      },
      {
       "output_type": "stream",
       "stream": "stderr",
       "text": [
        " 0\n",
        "Child returned"
       ]
      },
      {
       "output_type": "stream",
       "stream": "stdout",
       "text": [
        "\n",
        "Calling: JAVA_OPTIONS=\"-Xms1000m -Xmx1000m\" jython  ../Holes/jython_utils/persistent_homology_calculation.py ../stores/phom/filtrations/34_fil.pck 1 ../stores/phom/output/ 34_ ../Holes/jython_utils/lib/ False\n",
        "8817_fil.pck"
       ]
      },
      {
       "output_type": "stream",
       "stream": "stderr",
       "text": [
        " 0\n",
        "Child returned"
       ]
      },
      {
       "output_type": "stream",
       "stream": "stdout",
       "text": [
        "\n",
        "Calling: JAVA_OPTIONS=\"-Xms1000m -Xmx1000m\" jython  ../Holes/jython_utils/persistent_homology_calculation.py ../stores/phom/filtrations/8817_fil.pck 1 ../stores/phom/output/ 8817_ ../Holes/jython_utils/lib/ False\n",
        "1250_fil.pck"
       ]
      },
      {
       "output_type": "stream",
       "stream": "stderr",
       "text": [
        " 0\n",
        "Child returned"
       ]
      },
      {
       "output_type": "stream",
       "stream": "stdout",
       "text": [
        "\n",
        "Calling: JAVA_OPTIONS=\"-Xms1000m -Xmx1000m\" jython  ../Holes/jython_utils/persistent_homology_calculation.py ../stores/phom/filtrations/1250_fil.pck 1 ../stores/phom/output/ 1250_ ../Holes/jython_utils/lib/ False\n",
        "1416_fil.pck"
       ]
      },
      {
       "output_type": "stream",
       "stream": "stderr",
       "text": [
        " 0\n",
        "Child returned"
       ]
      },
      {
       "output_type": "stream",
       "stream": "stdout",
       "text": [
        "\n",
        "Calling: JAVA_OPTIONS=\"-Xms1000m -Xmx1000m\" jython  ../Holes/jython_utils/persistent_homology_calculation.py ../stores/phom/filtrations/1416_fil.pck 1 ../stores/phom/output/ 1416_ ../Holes/jython_utils/lib/ False\n",
        "291_fil.pck"
       ]
      },
      {
       "output_type": "stream",
       "stream": "stderr",
       "text": [
        " 0\n",
        "Child returned"
       ]
      },
      {
       "output_type": "stream",
       "stream": "stdout",
       "text": [
        "\n",
        "Calling: JAVA_OPTIONS=\"-Xms1000m -Xmx1000m\" jython  ../Holes/jython_utils/persistent_homology_calculation.py ../stores/phom/filtrations/291_fil.pck 1 ../stores/phom/output/ 291_ ../Holes/jython_utils/lib/ False\n",
        "385_fil.pck"
       ]
      },
      {
       "output_type": "stream",
       "stream": "stderr",
       "text": [
        " 0\n",
        "Child returned"
       ]
      },
      {
       "output_type": "stream",
       "stream": "stdout",
       "text": [
        "\n",
        "Calling: JAVA_OPTIONS=\"-Xms1000m -Xmx1000m\" jython  ../Holes/jython_utils/persistent_homology_calculation.py ../stores/phom/filtrations/385_fil.pck 1 ../stores/phom/output/ 385_ ../Holes/jython_utils/lib/ False\n",
        "386_fil.pck"
       ]
      },
      {
       "output_type": "stream",
       "stream": "stderr",
       "text": [
        " 0\n",
        "Child returned"
       ]
      },
      {
       "output_type": "stream",
       "stream": "stdout",
       "text": [
        "\n",
        "Calling: JAVA_OPTIONS=\"-Xms1000m -Xmx1000m\" jython  ../Holes/jython_utils/persistent_homology_calculation.py ../stores/phom/filtrations/386_fil.pck 1 ../stores/phom/output/ 386_ ../Holes/jython_utils/lib/ False\n",
        "223_fil.pck"
       ]
      },
      {
       "output_type": "stream",
       "stream": "stderr",
       "text": [
        " 0\n",
        "Child returned"
       ]
      },
      {
       "output_type": "stream",
       "stream": "stdout",
       "text": [
        "\n",
        "Calling: JAVA_OPTIONS=\"-Xms1000m -Xmx1000m\" jython  ../Holes/jython_utils/persistent_homology_calculation.py ../stores/phom/filtrations/223_fil.pck 1 ../stores/phom/output/ 223_ ../Holes/jython_utils/lib/ False\n",
        "1343_fil.pck"
       ]
      },
      {
       "output_type": "stream",
       "stream": "stderr",
       "text": [
        " 0\n",
        "Child returned"
       ]
      },
      {
       "output_type": "stream",
       "stream": "stdout",
       "text": [
        "\n",
        "Calling: JAVA_OPTIONS=\"-Xms1000m -Xmx1000m\" jython  ../Holes/jython_utils/persistent_homology_calculation.py ../stores/phom/filtrations/1343_fil.pck 1 ../stores/phom/output/ 1343_ ../Holes/jython_utils/lib/ False\n",
        "1345_fil.pck"
       ]
      },
      {
       "output_type": "stream",
       "stream": "stderr",
       "text": [
        " 0\n",
        "Child returned"
       ]
      },
      {
       "output_type": "stream",
       "stream": "stdout",
       "text": [
        "\n",
        "Calling: JAVA_OPTIONS=\"-Xms1000m -Xmx1000m\" jython  ../Holes/jython_utils/persistent_homology_calculation.py ../stores/phom/filtrations/1345_fil.pck 1 ../stores/phom/output/ 1345_ ../Holes/jython_utils/lib/ False\n",
        "58_fil.pck"
       ]
      },
      {
       "output_type": "stream",
       "stream": "stderr",
       "text": [
        " 0\n",
        "Child returned"
       ]
      },
      {
       "output_type": "stream",
       "stream": "stdout",
       "text": [
        "\n",
        "Calling: JAVA_OPTIONS=\"-Xms1000m -Xmx1000m\" jython  ../Holes/jython_utils/persistent_homology_calculation.py ../stores/phom/filtrations/58_fil.pck 1 ../stores/phom/output/ 58_ ../Holes/jython_utils/lib/ False\n",
        "60_fil.pck"
       ]
      },
      {
       "output_type": "stream",
       "stream": "stderr",
       "text": [
        " 0\n",
        "Child returned"
       ]
      },
      {
       "output_type": "stream",
       "stream": "stdout",
       "text": [
        "\n",
        "Calling: JAVA_OPTIONS=\"-Xms1000m -Xmx1000m\" jython  ../Holes/jython_utils/persistent_homology_calculation.py ../stores/phom/filtrations/60_fil.pck 1 ../stores/phom/output/ 60_ ../Holes/jython_utils/lib/ False\n",
        "61_fil.pck"
       ]
      },
      {
       "output_type": "stream",
       "stream": "stderr",
       "text": [
        " 0\n",
        "Child returned"
       ]
      },
      {
       "output_type": "stream",
       "stream": "stdout",
       "text": [
        "\n",
        "Calling: JAVA_OPTIONS=\"-Xms1000m -Xmx1000m\" jython  ../Holes/jython_utils/persistent_homology_calculation.py ../stores/phom/filtrations/61_fil.pck 1 ../stores/phom/output/ 61_ ../Holes/jython_utils/lib/ False\n",
        "62_fil.pck"
       ]
      },
      {
       "output_type": "stream",
       "stream": "stderr",
       "text": [
        " 0\n",
        "Child returned"
       ]
      },
      {
       "output_type": "stream",
       "stream": "stdout",
       "text": [
        "\n",
        "Calling: JAVA_OPTIONS=\"-Xms1000m -Xmx1000m\" jython  ../Holes/jython_utils/persistent_homology_calculation.py ../stores/phom/filtrations/62_fil.pck 1 ../stores/phom/output/ 62_ ../Holes/jython_utils/lib/ False\n",
        "63_fil.pck"
       ]
      },
      {
       "output_type": "stream",
       "stream": "stderr",
       "text": [
        " 0\n",
        "Child returned"
       ]
      },
      {
       "output_type": "stream",
       "stream": "stdout",
       "text": [
        "\n",
        "Calling: JAVA_OPTIONS=\"-Xms1000m -Xmx1000m\" jython  ../Holes/jython_utils/persistent_homology_calculation.py ../stores/phom/filtrations/63_fil.pck 1 ../stores/phom/output/ 63_ ../Holes/jython_utils/lib/ False\n",
        "64_fil.pck"
       ]
      },
      {
       "output_type": "stream",
       "stream": "stderr",
       "text": [
        " 0\n",
        "Child returned"
       ]
      },
      {
       "output_type": "stream",
       "stream": "stdout",
       "text": [
        "\n",
        "Calling: JAVA_OPTIONS=\"-Xms1000m -Xmx1000m\" jython  ../Holes/jython_utils/persistent_homology_calculation.py ../stores/phom/filtrations/64_fil.pck 1 ../stores/phom/output/ 64_ ../Holes/jython_utils/lib/ False\n",
        "65_fil.pck"
       ]
      },
      {
       "output_type": "stream",
       "stream": "stderr",
       "text": [
        " 0\n",
        "Child returned"
       ]
      },
      {
       "output_type": "stream",
       "stream": "stdout",
       "text": [
        "\n",
        "Calling: JAVA_OPTIONS=\"-Xms1000m -Xmx1000m\" jython  ../Holes/jython_utils/persistent_homology_calculation.py ../stores/phom/filtrations/65_fil.pck 1 ../stores/phom/output/ 65_ ../Holes/jython_utils/lib/ False\n",
        "66_fil.pck"
       ]
      },
      {
       "output_type": "stream",
       "stream": "stderr",
       "text": [
        " 0\n",
        "Child returned"
       ]
      },
      {
       "output_type": "stream",
       "stream": "stdout",
       "text": [
        "\n",
        "Calling: JAVA_OPTIONS=\"-Xms1000m -Xmx1000m\" jython  ../Holes/jython_utils/persistent_homology_calculation.py ../stores/phom/filtrations/66_fil.pck 1 ../stores/phom/output/ 66_ ../Holes/jython_utils/lib/ False\n",
        "389_fil.pck"
       ]
      },
      {
       "output_type": "stream",
       "stream": "stderr",
       "text": [
        " 0\n",
        "Child returned"
       ]
      },
      {
       "output_type": "stream",
       "stream": "stdout",
       "text": [
        "\n",
        "Calling: JAVA_OPTIONS=\"-Xms1000m -Xmx1000m\" jython  ../Holes/jython_utils/persistent_homology_calculation.py ../stores/phom/filtrations/389_fil.pck 1 ../stores/phom/output/ 389_ ../Holes/jython_utils/lib/ False\n",
        "252_fil.pck"
       ]
      },
      {
       "output_type": "stream",
       "stream": "stderr",
       "text": [
        " 0\n",
        "Child returned"
       ]
      },
      {
       "output_type": "stream",
       "stream": "stdout",
       "text": [
        "\n",
        "Calling: JAVA_OPTIONS=\"-Xms1000m -Xmx1000m\" jython  ../Holes/jython_utils/persistent_homology_calculation.py ../stores/phom/filtrations/252_fil.pck 1 ../stores/phom/output/ 252_ ../Holes/jython_utils/lib/ False\n",
        "253_fil.pck"
       ]
      },
      {
       "output_type": "stream",
       "stream": "stderr",
       "text": [
        " 0\n",
        "Child returned"
       ]
      },
      {
       "output_type": "stream",
       "stream": "stdout",
       "text": [
        "\n",
        "Calling: JAVA_OPTIONS=\"-Xms1000m -Xmx1000m\" jython  ../Holes/jython_utils/persistent_homology_calculation.py ../stores/phom/filtrations/253_fil.pck 1 ../stores/phom/output/ 253_ ../Holes/jython_utils/lib/ False\n",
        "250_fil.pck"
       ]
      },
      {
       "output_type": "stream",
       "stream": "stderr",
       "text": [
        " 0\n",
        "Child returned"
       ]
      },
      {
       "output_type": "stream",
       "stream": "stdout",
       "text": [
        "\n",
        "Calling: JAVA_OPTIONS=\"-Xms1000m -Xmx1000m\" jython  ../Holes/jython_utils/persistent_homology_calculation.py ../stores/phom/filtrations/250_fil.pck 1 ../stores/phom/output/ 250_ ../Holes/jython_utils/lib/ False\n",
        "1905_fil.pck"
       ]
      },
      {
       "output_type": "stream",
       "stream": "stderr",
       "text": [
        " 0\n",
        "Child returned"
       ]
      },
      {
       "output_type": "stream",
       "stream": "stdout",
       "text": [
        "\n",
        "Calling: JAVA_OPTIONS=\"-Xms1000m -Xmx1000m\" jython  ../Holes/jython_utils/persistent_homology_calculation.py ../stores/phom/filtrations/1905_fil.pck 1 ../stores/phom/output/ 1905_ ../Holes/jython_utils/lib/ False\n",
        "256_fil.pck"
       ]
      },
      {
       "output_type": "stream",
       "stream": "stderr",
       "text": [
        " 0\n",
        "Child returned"
       ]
      },
      {
       "output_type": "stream",
       "stream": "stdout",
       "text": [
        "\n",
        "Calling: JAVA_OPTIONS=\"-Xms1000m -Xmx1000m\" jython  ../Holes/jython_utils/persistent_homology_calculation.py ../stores/phom/filtrations/256_fil.pck 1 ../stores/phom/output/ 256_ ../Holes/jython_utils/lib/ False\n",
        "257_fil.pck"
       ]
      },
      {
       "output_type": "stream",
       "stream": "stderr",
       "text": [
        " 0\n",
        "Child returned"
       ]
      },
      {
       "output_type": "stream",
       "stream": "stdout",
       "text": [
        "\n",
        "Calling: JAVA_OPTIONS=\"-Xms1000m -Xmx1000m\" jython  ../Holes/jython_utils/persistent_homology_calculation.py ../stores/phom/filtrations/257_fil.pck 1 ../stores/phom/output/ 257_ ../Holes/jython_utils/lib/ False\n",
        "254_fil.pck"
       ]
      },
      {
       "output_type": "stream",
       "stream": "stderr",
       "text": [
        " 0\n",
        "Child returned"
       ]
      },
      {
       "output_type": "stream",
       "stream": "stdout",
       "text": [
        "\n",
        "Calling: JAVA_OPTIONS=\"-Xms1000m -Xmx1000m\" jython  ../Holes/jython_utils/persistent_homology_calculation.py ../stores/phom/filtrations/254_fil.pck 1 ../stores/phom/output/ 254_ ../Holes/jython_utils/lib/ False\n",
        "255_fil.pck"
       ]
      },
      {
       "output_type": "stream",
       "stream": "stderr",
       "text": [
        " 0\n",
        "Child returned"
       ]
      },
      {
       "output_type": "stream",
       "stream": "stdout",
       "text": [
        "\n",
        "Calling: JAVA_OPTIONS=\"-Xms1000m -Xmx1000m\" jython  ../Holes/jython_utils/persistent_homology_calculation.py ../stores/phom/filtrations/255_fil.pck 1 ../stores/phom/output/ 255_ ../Holes/jython_utils/lib/ False\n",
        "977_fil.pck"
       ]
      },
      {
       "output_type": "stream",
       "stream": "stderr",
       "text": [
        " 0\n",
        "Child returned"
       ]
      },
      {
       "output_type": "stream",
       "stream": "stdout",
       "text": [
        "\n",
        "Calling: JAVA_OPTIONS=\"-Xms1000m -Xmx1000m\" jython  ../Holes/jython_utils/persistent_homology_calculation.py ../stores/phom/filtrations/977_fil.pck 1 ../stores/phom/output/ 977_ ../Holes/jython_utils/lib/ False\n",
        "855_fil.pck"
       ]
      },
      {
       "output_type": "stream",
       "stream": "stderr",
       "text": [
        " 0\n",
        "Child returned"
       ]
      },
      {
       "output_type": "stream",
       "stream": "stdout",
       "text": [
        "\n",
        "Calling: JAVA_OPTIONS=\"-Xms1000m -Xmx1000m\" jython  ../Holes/jython_utils/persistent_homology_calculation.py ../stores/phom/filtrations/855_fil.pck 1 ../stores/phom/output/ 855_ ../Holes/jython_utils/lib/ False\n",
        "856_fil.pck"
       ]
      },
      {
       "output_type": "stream",
       "stream": "stderr",
       "text": [
        " 0\n",
        "Child returned"
       ]
      },
      {
       "output_type": "stream",
       "stream": "stdout",
       "text": [
        "\n",
        "Calling: JAVA_OPTIONS=\"-Xms1000m -Xmx1000m\" jython  ../Holes/jython_utils/persistent_homology_calculation.py ../stores/phom/filtrations/856_fil.pck 1 ../stores/phom/output/ 856_ ../Holes/jython_utils/lib/ False\n",
        "974_fil.pck"
       ]
      },
      {
       "output_type": "stream",
       "stream": "stderr",
       "text": [
        " 0\n",
        "Child returned"
       ]
      },
      {
       "output_type": "stream",
       "stream": "stdout",
       "text": [
        "\n",
        "Calling: JAVA_OPTIONS=\"-Xms1000m -Xmx1000m\" jython  ../Holes/jython_utils/persistent_homology_calculation.py ../stores/phom/filtrations/974_fil.pck 1 ../stores/phom/output/ 974_ ../Holes/jython_utils/lib/ False\n",
        "973_fil.pck"
       ]
      },
      {
       "output_type": "stream",
       "stream": "stderr",
       "text": [
        " 0\n",
        "Child returned"
       ]
      },
      {
       "output_type": "stream",
       "stream": "stdout",
       "text": [
        "\n",
        "Calling: JAVA_OPTIONS=\"-Xms1000m -Xmx1000m\" jython  ../Holes/jython_utils/persistent_homology_calculation.py ../stores/phom/filtrations/973_fil.pck 1 ../stores/phom/output/ 973_ ../Holes/jython_utils/lib/ False\n",
        "972_fil.pck"
       ]
      },
      {
       "output_type": "stream",
       "stream": "stderr",
       "text": [
        " 0\n",
        "Child returned"
       ]
      },
      {
       "output_type": "stream",
       "stream": "stdout",
       "text": [
        "\n",
        "Calling: JAVA_OPTIONS=\"-Xms1000m -Xmx1000m\" jython  ../Holes/jython_utils/persistent_homology_calculation.py ../stores/phom/filtrations/972_fil.pck 1 ../stores/phom/output/ 972_ ../Holes/jython_utils/lib/ False\n",
        "971_fil.pck"
       ]
      },
      {
       "output_type": "stream",
       "stream": "stderr",
       "text": [
        " 0\n",
        "Child returned"
       ]
      },
      {
       "output_type": "stream",
       "stream": "stdout",
       "text": [
        "\n",
        "Calling: JAVA_OPTIONS=\"-Xms1000m -Xmx1000m\" jython  ../Holes/jython_utils/persistent_homology_calculation.py ../stores/phom/filtrations/971_fil.pck 1 ../stores/phom/output/ 971_ ../Holes/jython_utils/lib/ False\n",
        "853_fil.pck"
       ]
      },
      {
       "output_type": "stream",
       "stream": "stderr",
       "text": [
        " 0\n",
        "Child returned"
       ]
      },
      {
       "output_type": "stream",
       "stream": "stdout",
       "text": [
        "\n",
        "Calling: JAVA_OPTIONS=\"-Xms1000m -Xmx1000m\" jython  ../Holes/jython_utils/persistent_homology_calculation.py ../stores/phom/filtrations/853_fil.pck 1 ../stores/phom/output/ 853_ ../Holes/jython_utils/lib/ False\n",
        "1587_fil.pck"
       ]
      },
      {
       "output_type": "stream",
       "stream": "stderr",
       "text": [
        " 0\n",
        "Child returned"
       ]
      },
      {
       "output_type": "stream",
       "stream": "stdout",
       "text": [
        "\n",
        "Calling: JAVA_OPTIONS=\"-Xms1000m -Xmx1000m\" jython  ../Holes/jython_utils/persistent_homology_calculation.py ../stores/phom/filtrations/1587_fil.pck 1 ../stores/phom/output/ 1587_ ../Holes/jython_utils/lib/ False\n",
        "970_fil.pck"
       ]
      },
      {
       "output_type": "stream",
       "stream": "stderr",
       "text": [
        " 0\n",
        "Child returned"
       ]
      },
      {
       "output_type": "stream",
       "stream": "stdout",
       "text": [
        "\n",
        "Calling: JAVA_OPTIONS=\"-Xms1000m -Xmx1000m\" jython  ../Holes/jython_utils/persistent_homology_calculation.py ../stores/phom/filtrations/970_fil.pck 1 ../stores/phom/output/ 970_ ../Holes/jython_utils/lib/ False\n",
        "508_fil.pck"
       ]
      },
      {
       "output_type": "stream",
       "stream": "stderr",
       "text": [
        " 0\n",
        "Child returned"
       ]
      },
      {
       "output_type": "stream",
       "stream": "stdout",
       "text": [
        "\n",
        "Calling: JAVA_OPTIONS=\"-Xms1000m -Xmx1000m\" jython  ../Holes/jython_utils/persistent_homology_calculation.py ../stores/phom/filtrations/508_fil.pck 1 ../stores/phom/output/ 508_ ../Holes/jython_utils/lib/ False\n",
        "509_fil.pck"
       ]
      },
      {
       "output_type": "stream",
       "stream": "stderr",
       "text": [
        " 0\n",
        "Child returned"
       ]
      },
      {
       "output_type": "stream",
       "stream": "stdout",
       "text": [
        "\n",
        "Calling: JAVA_OPTIONS=\"-Xms1000m -Xmx1000m\" jython  ../Holes/jython_utils/persistent_homology_calculation.py ../stores/phom/filtrations/509_fil.pck 1 ../stores/phom/output/ 509_ ../Holes/jython_utils/lib/ False\n",
        "506_fil.pck"
       ]
      },
      {
       "output_type": "stream",
       "stream": "stderr",
       "text": [
        " 0\n",
        "Child returned"
       ]
      },
      {
       "output_type": "stream",
       "stream": "stdout",
       "text": [
        "\n",
        "Calling: JAVA_OPTIONS=\"-Xms1000m -Xmx1000m\" jython  ../Holes/jython_utils/persistent_homology_calculation.py ../stores/phom/filtrations/506_fil.pck 1 ../stores/phom/output/ 506_ ../Holes/jython_utils/lib/ False\n",
        "507_fil.pck"
       ]
      },
      {
       "output_type": "stream",
       "stream": "stderr",
       "text": [
        " 0\n",
        "Child returned"
       ]
      },
      {
       "output_type": "stream",
       "stream": "stdout",
       "text": [
        "\n",
        "Calling: JAVA_OPTIONS=\"-Xms1000m -Xmx1000m\" jython  ../Holes/jython_utils/persistent_homology_calculation.py ../stores/phom/filtrations/507_fil.pck 1 ../stores/phom/output/ 507_ ../Holes/jython_utils/lib/ False\n",
        "504_fil.pck"
       ]
      },
      {
       "output_type": "stream",
       "stream": "stderr",
       "text": [
        " 0\n",
        "Child returned"
       ]
      },
      {
       "output_type": "stream",
       "stream": "stdout",
       "text": [
        "\n",
        "Calling: JAVA_OPTIONS=\"-Xms1000m -Xmx1000m\" jython  ../Holes/jython_utils/persistent_homology_calculation.py ../stores/phom/filtrations/504_fil.pck 1 ../stores/phom/output/ 504_ ../Holes/jython_utils/lib/ False\n",
        "505_fil.pck"
       ]
      },
      {
       "output_type": "stream",
       "stream": "stderr",
       "text": [
        " 0\n",
        "Child returned"
       ]
      },
      {
       "output_type": "stream",
       "stream": "stdout",
       "text": [
        "\n",
        "Calling: JAVA_OPTIONS=\"-Xms1000m -Xmx1000m\" jython  ../Holes/jython_utils/persistent_homology_calculation.py ../stores/phom/filtrations/505_fil.pck 1 ../stores/phom/output/ 505_ ../Holes/jython_utils/lib/ False\n",
        "90_fil.pck"
       ]
      },
      {
       "output_type": "stream",
       "stream": "stderr",
       "text": [
        " 0\n",
        "Child returned"
       ]
      },
      {
       "output_type": "stream",
       "stream": "stdout",
       "text": [
        "\n",
        "Calling: JAVA_OPTIONS=\"-Xms1000m -Xmx1000m\" jython  ../Holes/jython_utils/persistent_homology_calculation.py ../stores/phom/filtrations/90_fil.pck 1 ../stores/phom/output/ 90_ ../Holes/jython_utils/lib/ False\n",
        "92_fil.pck"
       ]
      },
      {
       "output_type": "stream",
       "stream": "stderr",
       "text": [
        " 0\n",
        "Child returned"
       ]
      },
      {
       "output_type": "stream",
       "stream": "stdout",
       "text": [
        "\n",
        "Calling: JAVA_OPTIONS=\"-Xms1000m -Xmx1000m\" jython  ../Holes/jython_utils/persistent_homology_calculation.py ../stores/phom/filtrations/92_fil.pck 1 ../stores/phom/output/ 92_ ../Holes/jython_utils/lib/ False\n",
        "94_fil.pck"
       ]
      },
      {
       "output_type": "stream",
       "stream": "stderr",
       "text": [
        " 0\n",
        "Child returned"
       ]
      },
      {
       "output_type": "stream",
       "stream": "stdout",
       "text": [
        "\n",
        "Calling: JAVA_OPTIONS=\"-Xms1000m -Xmx1000m\" jython  ../Holes/jython_utils/persistent_homology_calculation.py ../stores/phom/filtrations/94_fil.pck 1 ../stores/phom/output/ 94_ ../Holes/jython_utils/lib/ False\n",
        "220_fil.pck"
       ]
      },
      {
       "output_type": "stream",
       "stream": "stderr",
       "text": [
        " 0\n",
        "Child returned"
       ]
      },
      {
       "output_type": "stream",
       "stream": "stdout",
       "text": [
        "\n",
        "Calling: JAVA_OPTIONS=\"-Xms1000m -Xmx1000m\" jython  ../Holes/jython_utils/persistent_homology_calculation.py ../stores/phom/filtrations/220_fil.pck 1 ../stores/phom/output/ 220_ ../Holes/jython_utils/lib/ False\n",
        "965_fil.pck"
       ]
      },
      {
       "output_type": "stream",
       "stream": "stderr",
       "text": [
        " 0\n",
        "Child returned"
       ]
      },
      {
       "output_type": "stream",
       "stream": "stdout",
       "text": [
        "\n",
        "Calling: JAVA_OPTIONS=\"-Xms1000m -Xmx1000m\" jython  ../Holes/jython_utils/persistent_homology_calculation.py ../stores/phom/filtrations/965_fil.pck 1 ../stores/phom/output/ 965_ ../Holes/jython_utils/lib/ False\n",
        "967_fil.pck"
       ]
      },
      {
       "output_type": "stream",
       "stream": "stderr",
       "text": [
        " 0\n",
        "Child returned"
       ]
      },
      {
       "output_type": "stream",
       "stream": "stdout",
       "text": [
        "\n",
        "Calling: JAVA_OPTIONS=\"-Xms1000m -Xmx1000m\" jython  ../Holes/jython_utils/persistent_homology_calculation.py ../stores/phom/filtrations/967_fil.pck 1 ../stores/phom/output/ 967_ ../Holes/jython_utils/lib/ False\n",
        "18687_fil.pck"
       ]
      },
      {
       "output_type": "stream",
       "stream": "stderr",
       "text": [
        " 0\n",
        "Child returned"
       ]
      },
      {
       "output_type": "stream",
       "stream": "stdout",
       "text": [
        "\n",
        "Calling: JAVA_OPTIONS=\"-Xms1000m -Xmx1000m\" jython  ../Holes/jython_utils/persistent_homology_calculation.py ../stores/phom/filtrations/18687_fil.pck 1 ../stores/phom/output/ 18687_ ../Holes/jython_utils/lib/ False\n",
        "963_fil.pck"
       ]
      },
      {
       "output_type": "stream",
       "stream": "stderr",
       "text": [
        " 0\n",
        "Child returned"
       ]
      },
      {
       "output_type": "stream",
       "stream": "stdout",
       "text": [
        "\n",
        "Calling: JAVA_OPTIONS=\"-Xms1000m -Xmx1000m\" jython  ../Holes/jython_utils/persistent_homology_calculation.py ../stores/phom/filtrations/963_fil.pck 1 ../stores/phom/output/ 963_ ../Holes/jython_utils/lib/ False\n",
        "88232_fil.pck"
       ]
      },
      {
       "output_type": "stream",
       "stream": "stderr",
       "text": [
        " 0\n",
        "Child returned"
       ]
      },
      {
       "output_type": "stream",
       "stream": "stdout",
       "text": [
        "\n",
        "Calling: JAVA_OPTIONS=\"-Xms1000m -Xmx1000m\" jython  ../Holes/jython_utils/persistent_homology_calculation.py ../stores/phom/filtrations/88232_fil.pck 1 ../stores/phom/output/ 88232_ ../Holes/jython_utils/lib/ False\n",
        "97282_fil.pck"
       ]
      },
      {
       "output_type": "stream",
       "stream": "stderr",
       "text": [
        " 0\n",
        "Child returned"
       ]
      },
      {
       "output_type": "stream",
       "stream": "stdout",
       "text": [
        "\n",
        "Calling: JAVA_OPTIONS=\"-Xms1000m -Xmx1000m\" jython  ../Holes/jython_utils/persistent_homology_calculation.py ../stores/phom/filtrations/97282_fil.pck 1 ../stores/phom/output/ 97282_ ../Holes/jython_utils/lib/ False\n",
        "224_fil.pck"
       ]
      },
      {
       "output_type": "stream",
       "stream": "stderr",
       "text": [
        " 0\n",
        "Child returned"
       ]
      },
      {
       "output_type": "stream",
       "stream": "stdout",
       "text": [
        "\n",
        "Calling: JAVA_OPTIONS=\"-Xms1000m -Xmx1000m\" jython  ../Holes/jython_utils/persistent_homology_calculation.py ../stores/phom/filtrations/224_fil.pck 1 ../stores/phom/output/ 224_ ../Holes/jython_utils/lib/ False\n",
        "880_fil.pck"
       ]
      },
      {
       "output_type": "stream",
       "stream": "stderr",
       "text": [
        " 0\n",
        "Child returned"
       ]
      },
      {
       "output_type": "stream",
       "stream": "stdout",
       "text": [
        "\n",
        "Calling: JAVA_OPTIONS=\"-Xms1000m -Xmx1000m\" jython  ../Holes/jython_utils/persistent_homology_calculation.py ../stores/phom/filtrations/880_fil.pck 1 ../stores/phom/output/ 880_ ../Holes/jython_utils/lib/ False\n",
        "1204_fil.pck"
       ]
      },
      {
       "output_type": "stream",
       "stream": "stderr",
       "text": [
        " 0\n",
        "Child returned"
       ]
      },
      {
       "output_type": "stream",
       "stream": "stdout",
       "text": [
        "\n",
        "Calling: JAVA_OPTIONS=\"-Xms1000m -Xmx1000m\" jython  ../Holes/jython_utils/persistent_homology_calculation.py ../stores/phom/filtrations/1204_fil.pck 1 ../stores/phom/output/ 1204_ ../Holes/jython_utils/lib/ False\n",
        "238_fil.pck"
       ]
      },
      {
       "output_type": "stream",
       "stream": "stderr",
       "text": [
        " 0\n",
        "Child returned"
       ]
      },
      {
       "output_type": "stream",
       "stream": "stdout",
       "text": [
        "\n",
        "Calling: JAVA_OPTIONS=\"-Xms1000m -Xmx1000m\" jython  ../Holes/jython_utils/persistent_homology_calculation.py ../stores/phom/filtrations/238_fil.pck 1 ../stores/phom/output/ 238_ ../Holes/jython_utils/lib/ False\n",
        "234_fil.pck"
       ]
      },
      {
       "output_type": "stream",
       "stream": "stderr",
       "text": [
        " 0\n",
        "Child returned"
       ]
      },
      {
       "output_type": "stream",
       "stream": "stdout",
       "text": [
        "\n",
        "Calling: JAVA_OPTIONS=\"-Xms1000m -Xmx1000m\" jython  ../Holes/jython_utils/persistent_homology_calculation.py ../stores/phom/filtrations/234_fil.pck 1 ../stores/phom/output/ 234_ ../Holes/jython_utils/lib/ False\n",
        "236_fil.pck"
       ]
      },
      {
       "output_type": "stream",
       "stream": "stderr",
       "text": [
        " 0\n",
        "Child returned"
       ]
      },
      {
       "output_type": "stream",
       "stream": "stdout",
       "text": [
        "\n",
        "Calling: JAVA_OPTIONS=\"-Xms1000m -Xmx1000m\" jython  ../Holes/jython_utils/persistent_homology_calculation.py ../stores/phom/filtrations/236_fil.pck 1 ../stores/phom/output/ 236_ ../Holes/jython_utils/lib/ False\n",
        "230_fil.pck"
       ]
      },
      {
       "output_type": "stream",
       "stream": "stderr",
       "text": [
        " 0\n",
        "Child returned"
       ]
      },
      {
       "output_type": "stream",
       "stream": "stdout",
       "text": [
        "\n",
        "Calling: JAVA_OPTIONS=\"-Xms1000m -Xmx1000m\" jython  ../Holes/jython_utils/persistent_homology_calculation.py ../stores/phom/filtrations/230_fil.pck 1 ../stores/phom/output/ 230_ ../Holes/jython_utils/lib/ False\n",
        "232_fil.pck"
       ]
      },
      {
       "output_type": "stream",
       "stream": "stderr",
       "text": [
        " 0\n",
        "Child returned"
       ]
      },
      {
       "output_type": "stream",
       "stream": "stdout",
       "text": [
        "\n",
        "Calling: JAVA_OPTIONS=\"-Xms1000m -Xmx1000m\" jython  ../Holes/jython_utils/persistent_homology_calculation.py ../stores/phom/filtrations/232_fil.pck 1 ../stores/phom/output/ 232_ ../Holes/jython_utils/lib/ False\n",
        "48_fil.pck"
       ]
      },
      {
       "output_type": "stream",
       "stream": "stderr",
       "text": [
        " 0\n",
        "Child returned"
       ]
      },
      {
       "output_type": "stream",
       "stream": "stdout",
       "text": [
        "\n",
        "Calling: JAVA_OPTIONS=\"-Xms1000m -Xmx1000m\" jython  ../Holes/jython_utils/persistent_homology_calculation.py ../stores/phom/filtrations/48_fil.pck 1 ../stores/phom/output/ 48_ ../Holes/jython_utils/lib/ False\n",
        "46_fil.pck"
       ]
      },
      {
       "output_type": "stream",
       "stream": "stderr",
       "text": [
        " 0\n",
        "Child returned"
       ]
      },
      {
       "output_type": "stream",
       "stream": "stdout",
       "text": [
        "\n",
        "Calling: JAVA_OPTIONS=\"-Xms1000m -Xmx1000m\" jython  ../Holes/jython_utils/persistent_homology_calculation.py ../stores/phom/filtrations/46_fil.pck 1 ../stores/phom/output/ 46_ ../Holes/jython_utils/lib/ False\n",
        "44_fil.pck"
       ]
      },
      {
       "output_type": "stream",
       "stream": "stderr",
       "text": [
        " 0\n",
        "Child returned"
       ]
      },
      {
       "output_type": "stream",
       "stream": "stdout",
       "text": [
        "\n",
        "Calling: JAVA_OPTIONS=\"-Xms1000m -Xmx1000m\" jython  ../Holes/jython_utils/persistent_homology_calculation.py ../stores/phom/filtrations/44_fil.pck 1 ../stores/phom/output/ 44_ ../Holes/jython_utils/lib/ False\n",
        "1613_fil.pck"
       ]
      },
      {
       "output_type": "stream",
       "stream": "stderr",
       "text": [
        " 0\n",
        "Child returned"
       ]
      },
      {
       "output_type": "stream",
       "stream": "stdout",
       "text": [
        "\n",
        "Calling: JAVA_OPTIONS=\"-Xms1000m -Xmx1000m\" jython  ../Holes/jython_utils/persistent_homology_calculation.py ../stores/phom/filtrations/1613_fil.pck 1 ../stores/phom/output/ 1613_ ../Holes/jython_utils/lib/ False\n",
        "41_fil.pck"
       ]
      },
      {
       "output_type": "stream",
       "stream": "stderr",
       "text": [
        " 0\n",
        "Child returned"
       ]
      },
      {
       "output_type": "stream",
       "stream": "stdout",
       "text": [
        "\n",
        "Calling: JAVA_OPTIONS=\"-Xms1000m -Xmx1000m\" jython  ../Holes/jython_utils/persistent_homology_calculation.py ../stores/phom/filtrations/41_fil.pck 1 ../stores/phom/output/ 41_ ../Holes/jython_utils/lib/ False\n",
        "7771_fil.pck"
       ]
      },
      {
       "output_type": "stream",
       "stream": "stderr",
       "text": [
        " 0\n",
        "Child returned"
       ]
      },
      {
       "output_type": "stream",
       "stream": "stdout",
       "text": [
        "\n",
        "Calling: JAVA_OPTIONS=\"-Xms1000m -Xmx1000m\" jython  ../Holes/jython_utils/persistent_homology_calculation.py ../stores/phom/filtrations/7771_fil.pck 1 ../stores/phom/output/ 7771_ ../Holes/jython_utils/lib/ False\n",
        "673_fil.pck"
       ]
      },
      {
       "output_type": "stream",
       "stream": "stderr",
       "text": [
        " 0\n",
        "Child returned"
       ]
      },
      {
       "output_type": "stream",
       "stream": "stdout",
       "text": [
        "\n",
        "Calling: JAVA_OPTIONS=\"-Xms1000m -Xmx1000m\" jython  ../Holes/jython_utils/persistent_homology_calculation.py ../stores/phom/filtrations/673_fil.pck 1 ../stores/phom/output/ 673_ ../Holes/jython_utils/lib/ False\n",
        "12687_fil.pck"
       ]
      },
      {
       "output_type": "stream",
       "stream": "stderr",
       "text": [
        " 0\n",
        "Child returned"
       ]
      },
      {
       "output_type": "stream",
       "stream": "stdout",
       "text": [
        "\n",
        "Calling: JAVA_OPTIONS=\"-Xms1000m -Xmx1000m\" jython  ../Holes/jython_utils/persistent_homology_calculation.py ../stores/phom/filtrations/12687_fil.pck 1 ../stores/phom/output/ 12687_ ../Holes/jython_utils/lib/ False\n",
        "1289_fil.pck"
       ]
      },
      {
       "output_type": "stream",
       "stream": "stderr",
       "text": [
        " 0\n",
        "Child returned"
       ]
      },
      {
       "output_type": "stream",
       "stream": "stdout",
       "text": [
        "\n",
        "Calling: JAVA_OPTIONS=\"-Xms1000m -Xmx1000m\" jython  ../Holes/jython_utils/persistent_homology_calculation.py ../stores/phom/filtrations/1289_fil.pck 1 ../stores/phom/output/ 1289_ ../Holes/jython_utils/lib/ False\n",
        "1809_fil.pck"
       ]
      },
      {
       "output_type": "stream",
       "stream": "stderr",
       "text": [
        " 0\n",
        "Child returned"
       ]
      },
      {
       "output_type": "stream",
       "stream": "stdout",
       "text": [
        "\n",
        "Calling: JAVA_OPTIONS=\"-Xms1000m -Xmx1000m\" jython  ../Holes/jython_utils/persistent_homology_calculation.py ../stores/phom/filtrations/1809_fil.pck 1 ../stores/phom/output/ 1809_ ../Holes/jython_utils/lib/ False\n",
        "357_fil.pck"
       ]
      },
      {
       "output_type": "stream",
       "stream": "stderr",
       "text": [
        " 0\n",
        "Child returned"
       ]
      },
      {
       "output_type": "stream",
       "stream": "stdout",
       "text": [
        "\n",
        "Calling: JAVA_OPTIONS=\"-Xms1000m -Xmx1000m\" jython  ../Holes/jython_utils/persistent_homology_calculation.py ../stores/phom/filtrations/357_fil.pck 1 ../stores/phom/output/ 357_ ../Holes/jython_utils/lib/ False\n",
        "355_fil.pck"
       ]
      },
      {
       "output_type": "stream",
       "stream": "stderr",
       "text": [
        " 0\n",
        "Child returned"
       ]
      },
      {
       "output_type": "stream",
       "stream": "stdout",
       "text": [
        "\n",
        "Calling: JAVA_OPTIONS=\"-Xms1000m -Xmx1000m\" jython  ../Holes/jython_utils/persistent_homology_calculation.py ../stores/phom/filtrations/355_fil.pck 1 ../stores/phom/output/ 355_ ../Holes/jython_utils/lib/ False\n",
        "353_fil.pck"
       ]
      },
      {
       "output_type": "stream",
       "stream": "stderr",
       "text": [
        " 0\n",
        "Child returned"
       ]
      },
      {
       "output_type": "stream",
       "stream": "stdout",
       "text": [
        "\n",
        "Calling: JAVA_OPTIONS=\"-Xms1000m -Xmx1000m\" jython  ../Holes/jython_utils/persistent_homology_calculation.py ../stores/phom/filtrations/353_fil.pck 1 ../stores/phom/output/ 353_ ../Holes/jython_utils/lib/ False\n",
        "351_fil.pck"
       ]
      },
      {
       "output_type": "stream",
       "stream": "stderr",
       "text": [
        " 0\n",
        "Child returned"
       ]
      },
      {
       "output_type": "stream",
       "stream": "stdout",
       "text": [
        "\n",
        "Calling: JAVA_OPTIONS=\"-Xms1000m -Xmx1000m\" jython  ../Holes/jython_utils/persistent_homology_calculation.py ../stores/phom/filtrations/351_fil.pck 1 ../stores/phom/output/ 351_ ../Holes/jython_utils/lib/ False\n",
        "686_fil.pck"
       ]
      },
      {
       "output_type": "stream",
       "stream": "stderr",
       "text": [
        " 0\n",
        "Child returned"
       ]
      },
      {
       "output_type": "stream",
       "stream": "stdout",
       "text": [
        "\n",
        "Calling: JAVA_OPTIONS=\"-Xms1000m -Xmx1000m\" jython  ../Holes/jython_utils/persistent_homology_calculation.py ../stores/phom/filtrations/686_fil.pck 1 ../stores/phom/output/ 686_ ../Holes/jython_utils/lib/ False\n",
        "359_fil.pck"
       ]
      },
      {
       "output_type": "stream",
       "stream": "stderr",
       "text": [
        " 0\n",
        "Child returned"
       ]
      },
      {
       "output_type": "stream",
       "stream": "stdout",
       "text": [
        "\n",
        "Calling: JAVA_OPTIONS=\"-Xms1000m -Xmx1000m\" jython  ../Holes/jython_utils/persistent_homology_calculation.py ../stores/phom/filtrations/359_fil.pck 1 ../stores/phom/output/ 359_ ../Holes/jython_utils/lib/ False\n",
        "502_fil.pck"
       ]
      },
      {
       "output_type": "stream",
       "stream": "stderr",
       "text": [
        " 0\n",
        "Child returned"
       ]
      },
      {
       "output_type": "stream",
       "stream": "stdout",
       "text": [
        "\n",
        "Calling: JAVA_OPTIONS=\"-Xms1000m -Xmx1000m\" jython  ../Holes/jython_utils/persistent_homology_calculation.py ../stores/phom/filtrations/502_fil.pck 1 ../stores/phom/output/ 502_ ../Holes/jython_utils/lib/ False\n",
        "503_fil.pck"
       ]
      },
      {
       "output_type": "stream",
       "stream": "stderr",
       "text": [
        " 0\n",
        "Child returned"
       ]
      },
      {
       "output_type": "stream",
       "stream": "stdout",
       "text": [
        "\n",
        "Calling: JAVA_OPTIONS=\"-Xms1000m -Xmx1000m\" jython  ../Holes/jython_utils/persistent_homology_calculation.py ../stores/phom/filtrations/503_fil.pck 1 ../stores/phom/output/ 503_ ../Holes/jython_utils/lib/ False\n",
        "500_fil.pck"
       ]
      },
      {
       "output_type": "stream",
       "stream": "stderr",
       "text": [
        " 0\n",
        "Child returned"
       ]
      },
      {
       "output_type": "stream",
       "stream": "stdout",
       "text": [
        "\n",
        "Calling: JAVA_OPTIONS=\"-Xms1000m -Xmx1000m\" jython  ../Holes/jython_utils/persistent_homology_calculation.py ../stores/phom/filtrations/500_fil.pck 1 ../stores/phom/output/ 500_ ../Holes/jython_utils/lib/ False\n",
        "501_fil.pck"
       ]
      },
      {
       "output_type": "stream",
       "stream": "stderr",
       "text": [
        " 0\n",
        "Child returned"
       ]
      },
      {
       "output_type": "stream",
       "stream": "stdout",
       "text": [
        "\n",
        "Calling: JAVA_OPTIONS=\"-Xms1000m -Xmx1000m\" jython  ../Holes/jython_utils/persistent_homology_calculation.py ../stores/phom/filtrations/501_fil.pck 1 ../stores/phom/output/ 501_ ../Holes/jython_utils/lib/ False\n",
        "1214_fil.pck"
       ]
      },
      {
       "output_type": "stream",
       "stream": "stderr",
       "text": [
        " 0\n",
        "Child returned"
       ]
      },
      {
       "output_type": "stream",
       "stream": "stdout",
       "text": [
        "\n",
        "Calling: JAVA_OPTIONS=\"-Xms1000m -Xmx1000m\" jython  ../Holes/jython_utils/persistent_homology_calculation.py ../stores/phom/filtrations/1214_fil.pck 1 ../stores/phom/output/ 1214_ ../Holes/jython_utils/lib/ False\n",
        "43_fil.pck"
       ]
      },
      {
       "output_type": "stream",
       "stream": "stderr",
       "text": [
        " 0\n",
        "Child returned"
       ]
      },
      {
       "output_type": "stream",
       "stream": "stdout",
       "text": [
        "\n",
        "Calling: JAVA_OPTIONS=\"-Xms1000m -Xmx1000m\" jython  ../Holes/jython_utils/persistent_homology_calculation.py ../stores/phom/filtrations/43_fil.pck 1 ../stores/phom/output/ 43_ ../Holes/jython_utils/lib/ False\n",
        "1647_fil.pck"
       ]
      },
      {
       "output_type": "stream",
       "stream": "stderr",
       "text": [
        " 0\n",
        "Child returned"
       ]
      },
      {
       "output_type": "stream",
       "stream": "stdout",
       "text": [
        "\n",
        "Calling: JAVA_OPTIONS=\"-Xms1000m -Xmx1000m\" jython  ../Holes/jython_utils/persistent_homology_calculation.py ../stores/phom/filtrations/1647_fil.pck 1 ../stores/phom/output/ 1647_ ../Holes/jython_utils/lib/ False\n",
        "98_fil.pck"
       ]
      },
      {
       "output_type": "stream",
       "stream": "stderr",
       "text": [
        " 0\n",
        "Child returned"
       ]
      },
      {
       "output_type": "stream",
       "stream": "stdout",
       "text": [
        "\n",
        "Calling: JAVA_OPTIONS=\"-Xms1000m -Xmx1000m\" jython  ../Holes/jython_utils/persistent_homology_calculation.py ../stores/phom/filtrations/98_fil.pck 1 ../stores/phom/output/ 98_ ../Holes/jython_utils/lib/ False\n",
        "88216_fil.pck"
       ]
      },
      {
       "output_type": "stream",
       "stream": "stderr",
       "text": [
        " 0\n",
        "Child returned"
       ]
      },
      {
       "output_type": "stream",
       "stream": "stdout",
       "text": [
        "\n",
        "Calling: JAVA_OPTIONS=\"-Xms1000m -Xmx1000m\" jython  ../Holes/jython_utils/persistent_homology_calculation.py ../stores/phom/filtrations/88216_fil.pck 1 ../stores/phom/output/ 88216_ ../Holes/jython_utils/lib/ False\n",
        "228_fil.pck"
       ]
      },
      {
       "output_type": "stream",
       "stream": "stderr",
       "text": [
        " 0\n",
        "Child returned"
       ]
      },
      {
       "output_type": "stream",
       "stream": "stdout",
       "text": [
        "\n",
        "Calling: JAVA_OPTIONS=\"-Xms1000m -Xmx1000m\" jython  ../Holes/jython_utils/persistent_homology_calculation.py ../stores/phom/filtrations/228_fil.pck 1 ../stores/phom/output/ 228_ ../Holes/jython_utils/lib/ False\n",
        "91_fil.pck"
       ]
      },
      {
       "output_type": "stream",
       "stream": "stderr",
       "text": [
        " 0\n",
        "Child returned"
       ]
      },
      {
       "output_type": "stream",
       "stream": "stdout",
       "text": [
        "\n",
        "Calling: JAVA_OPTIONS=\"-Xms1000m -Xmx1000m\" jython  ../Holes/jython_utils/persistent_homology_calculation.py ../stores/phom/filtrations/91_fil.pck 1 ../stores/phom/output/ 91_ ../Holes/jython_utils/lib/ False\n",
        "93_fil.pck"
       ]
      },
      {
       "output_type": "stream",
       "stream": "stderr",
       "text": [
        " 0\n",
        "Child returned"
       ]
      },
      {
       "output_type": "stream",
       "stream": "stdout",
       "text": [
        "\n",
        "Calling: JAVA_OPTIONS=\"-Xms1000m -Xmx1000m\" jython  ../Holes/jython_utils/persistent_homology_calculation.py ../stores/phom/filtrations/93_fil.pck 1 ../stores/phom/output/ 93_ ../Holes/jython_utils/lib/ False\n",
        "95_fil.pck"
       ]
      },
      {
       "output_type": "stream",
       "stream": "stderr",
       "text": [
        " 0\n",
        "Child returned"
       ]
      },
      {
       "output_type": "stream",
       "stream": "stdout",
       "text": [
        "\n",
        "Calling: JAVA_OPTIONS=\"-Xms1000m -Xmx1000m\" jython  ../Holes/jython_utils/persistent_homology_calculation.py ../stores/phom/filtrations/95_fil.pck 1 ../stores/phom/output/ 95_ ../Holes/jython_utils/lib/ False\n",
        "387_fil.pck"
       ]
      },
      {
       "output_type": "stream",
       "stream": "stderr",
       "text": [
        " 0\n",
        "Child returned"
       ]
      },
      {
       "output_type": "stream",
       "stream": "stdout",
       "text": [
        "\n",
        "Calling: JAVA_OPTIONS=\"-Xms1000m -Xmx1000m\" jython  ../Holes/jython_utils/persistent_homology_calculation.py ../stores/phom/filtrations/387_fil.pck 1 ../stores/phom/output/ 387_ ../Holes/jython_utils/lib/ False\n",
        "964_fil.pck"
       ]
      },
      {
       "output_type": "stream",
       "stream": "stderr",
       "text": [
        " 0\n",
        "Child returned"
       ]
      },
      {
       "output_type": "stream",
       "stream": "stdout",
       "text": [
        "\n",
        "Calling: JAVA_OPTIONS=\"-Xms1000m -Xmx1000m\" jython  ../Holes/jython_utils/persistent_homology_calculation.py ../stores/phom/filtrations/964_fil.pck 1 ../stores/phom/output/ 964_ ../Holes/jython_utils/lib/ False\n",
        "966_fil.pck"
       ]
      },
      {
       "output_type": "stream",
       "stream": "stderr",
       "text": [
        " 0\n",
        "Child returned"
       ]
      },
      {
       "output_type": "stream",
       "stream": "stdout",
       "text": [
        "\n",
        "Calling: JAVA_OPTIONS=\"-Xms1000m -Xmx1000m\" jython  ../Holes/jython_utils/persistent_homology_calculation.py ../stores/phom/filtrations/966_fil.pck 1 ../stores/phom/output/ 966_ ../Holes/jython_utils/lib/ False\n",
        "960_fil.pck"
       ]
      },
      {
       "output_type": "stream",
       "stream": "stderr",
       "text": [
        " 0\n",
        "Child returned"
       ]
      },
      {
       "output_type": "stream",
       "stream": "stdout",
       "text": [
        "\n",
        "Calling: JAVA_OPTIONS=\"-Xms1000m -Xmx1000m\" jython  ../Holes/jython_utils/persistent_homology_calculation.py ../stores/phom/filtrations/960_fil.pck 1 ../stores/phom/output/ 960_ ../Holes/jython_utils/lib/ False\n",
        "962_fil.pck"
       ]
      },
      {
       "output_type": "stream",
       "stream": "stderr",
       "text": [
        " 0\n",
        "Child returned"
       ]
      },
      {
       "output_type": "stream",
       "stream": "stdout",
       "text": [
        "\n",
        "Calling: JAVA_OPTIONS=\"-Xms1000m -Xmx1000m\" jython  ../Holes/jython_utils/persistent_homology_calculation.py ../stores/phom/filtrations/962_fil.pck 1 ../stores/phom/output/ 962_ ../Holes/jython_utils/lib/ False\n",
        "968_fil.pck"
       ]
      },
      {
       "output_type": "stream",
       "stream": "stderr",
       "text": [
        " 0\n",
        "Child returned"
       ]
      },
      {
       "output_type": "stream",
       "stream": "stdout",
       "text": [
        "\n",
        "Calling: JAVA_OPTIONS=\"-Xms1000m -Xmx1000m\" jython  ../Holes/jython_utils/persistent_homology_calculation.py ../stores/phom/filtrations/968_fil.pck 1 ../stores/phom/output/ 968_ ../Holes/jython_utils/lib/ False\n",
        "1519_fil.pck"
       ]
      },
      {
       "output_type": "stream",
       "stream": "stderr",
       "text": [
        " 0\n",
        "Child returned"
       ]
      },
      {
       "output_type": "stream",
       "stream": "stdout",
       "text": [
        "\n",
        "Calling: JAVA_OPTIONS=\"-Xms1000m -Xmx1000m\" jython  ../Holes/jython_utils/persistent_homology_calculation.py ../stores/phom/filtrations/1519_fil.pck 1 ../stores/phom/output/ 1519_ ../Holes/jython_utils/lib/ False\n",
        "1514_fil.pck"
       ]
      },
      {
       "output_type": "stream",
       "stream": "stderr",
       "text": [
        " 0\n",
        "Child returned"
       ]
      },
      {
       "output_type": "stream",
       "stream": "stdout",
       "text": [
        "\n",
        "Calling: JAVA_OPTIONS=\"-Xms1000m -Xmx1000m\" jython  ../Holes/jython_utils/persistent_homology_calculation.py ../stores/phom/filtrations/1514_fil.pck 1 ../stores/phom/output/ 1514_ ../Holes/jython_utils/lib/ False\n",
        "882_fil.pck"
       ]
      },
      {
       "output_type": "stream",
       "stream": "stderr",
       "text": [
        " 0\n",
        "Child returned"
       ]
      },
      {
       "output_type": "stream",
       "stream": "stdout",
       "text": [
        "\n",
        "Calling: JAVA_OPTIONS=\"-Xms1000m -Xmx1000m\" jython  ../Holes/jython_utils/persistent_homology_calculation.py ../stores/phom/filtrations/882_fil.pck 1 ../stores/phom/output/ 882_ ../Holes/jython_utils/lib/ False\n",
        "886_fil.pck"
       ]
      },
      {
       "output_type": "stream",
       "stream": "stderr",
       "text": [
        " 0\n",
        "Child returned"
       ]
      },
      {
       "output_type": "stream",
       "stream": "stdout",
       "text": [
        "\n",
        "Calling: JAVA_OPTIONS=\"-Xms1000m -Xmx1000m\" jython  ../Holes/jython_utils/persistent_homology_calculation.py ../stores/phom/filtrations/886_fil.pck 1 ../stores/phom/output/ 886_ ../Holes/jython_utils/lib/ False\n",
        "7727_fil.pck"
       ]
      },
      {
       "output_type": "stream",
       "stream": "stderr",
       "text": [
        " 0\n",
        "Child returned"
       ]
      },
      {
       "output_type": "stream",
       "stream": "stdout",
       "text": [
        "\n",
        "Calling: JAVA_OPTIONS=\"-Xms1000m -Xmx1000m\" jython  ../Holes/jython_utils/persistent_homology_calculation.py ../stores/phom/filtrations/7727_fil.pck 1 ../stores/phom/output/ 7727_ ../Holes/jython_utils/lib/ False\n",
        "239_fil.pck"
       ]
      },
      {
       "output_type": "stream",
       "stream": "stderr",
       "text": [
        " 0\n",
        "Child returned"
       ]
      },
      {
       "output_type": "stream",
       "stream": "stdout",
       "text": [
        "\n",
        "Calling: JAVA_OPTIONS=\"-Xms1000m -Xmx1000m\" jython  ../Holes/jython_utils/persistent_homology_calculation.py ../stores/phom/filtrations/239_fil.pck 1 ../stores/phom/output/ 239_ ../Holes/jython_utils/lib/ False\n",
        "235_fil.pck"
       ]
      },
      {
       "output_type": "stream",
       "stream": "stderr",
       "text": [
        " 0\n",
        "Child returned"
       ]
      },
      {
       "output_type": "stream",
       "stream": "stdout",
       "text": [
        "\n",
        "Calling: JAVA_OPTIONS=\"-Xms1000m -Xmx1000m\" jython  ../Holes/jython_utils/persistent_homology_calculation.py ../stores/phom/filtrations/235_fil.pck 1 ../stores/phom/output/ 235_ ../Holes/jython_utils/lib/ False\n",
        "237_fil.pck"
       ]
      },
      {
       "output_type": "stream",
       "stream": "stderr",
       "text": [
        " 0\n",
        "Child returned"
       ]
      },
      {
       "output_type": "stream",
       "stream": "stdout",
       "text": [
        "\n",
        "Calling: JAVA_OPTIONS=\"-Xms1000m -Xmx1000m\" jython  ../Holes/jython_utils/persistent_homology_calculation.py ../stores/phom/filtrations/237_fil.pck 1 ../stores/phom/output/ 237_ ../Holes/jython_utils/lib/ False\n",
        "231_fil.pck"
       ]
      },
      {
       "output_type": "stream",
       "stream": "stderr",
       "text": [
        " 0\n",
        "Child returned"
       ]
      },
      {
       "output_type": "stream",
       "stream": "stdout",
       "text": [
        "\n",
        "Calling: JAVA_OPTIONS=\"-Xms1000m -Xmx1000m\" jython  ../Holes/jython_utils/persistent_homology_calculation.py ../stores/phom/filtrations/231_fil.pck 1 ../stores/phom/output/ 231_ ../Holes/jython_utils/lib/ False\n",
        "233_fil.pck"
       ]
      },
      {
       "output_type": "stream",
       "stream": "stderr",
       "text": [
        " 0\n",
        "Child returned"
       ]
      },
      {
       "output_type": "stream",
       "stream": "stdout",
       "text": [
        "\n",
        "Calling: JAVA_OPTIONS=\"-Xms1000m -Xmx1000m\" jython  ../Holes/jython_utils/persistent_homology_calculation.py ../stores/phom/filtrations/233_fil.pck 1 ../stores/phom/output/ 233_ ../Holes/jython_utils/lib/ False\n",
        "356_fil.pck"
       ]
      },
      {
       "output_type": "stream",
       "stream": "stderr",
       "text": [
        " 0\n",
        "Child returned"
       ]
      },
      {
       "output_type": "stream",
       "stream": "stdout",
       "text": [
        "\n",
        "Calling: JAVA_OPTIONS=\"-Xms1000m -Xmx1000m\" jython  ../Holes/jython_utils/persistent_homology_calculation.py ../stores/phom/filtrations/356_fil.pck 1 ../stores/phom/output/ 356_ ../Holes/jython_utils/lib/ False\n",
        "47_fil.pck"
       ]
      },
      {
       "output_type": "stream",
       "stream": "stderr",
       "text": [
        " 0\n",
        "Child returned"
       ]
      },
      {
       "output_type": "stream",
       "stream": "stdout",
       "text": [
        "\n",
        "Calling: JAVA_OPTIONS=\"-Xms1000m -Xmx1000m\" jython  ../Holes/jython_utils/persistent_homology_calculation.py ../stores/phom/filtrations/47_fil.pck 1 ../stores/phom/output/ 47_ ../Holes/jython_utils/lib/ False\n",
        "352_fil.pck"
       ]
      },
      {
       "output_type": "stream",
       "stream": "stderr",
       "text": [
        " 0\n",
        "Child returned"
       ]
      },
      {
       "output_type": "stream",
       "stream": "stdout",
       "text": [
        "\n",
        "Calling: JAVA_OPTIONS=\"-Xms1000m -Xmx1000m\" jython  ../Holes/jython_utils/persistent_homology_calculation.py ../stores/phom/filtrations/352_fil.pck 1 ../stores/phom/output/ 352_ ../Holes/jython_utils/lib/ False\n",
        "870_fil.pck"
       ]
      },
      {
       "output_type": "stream",
       "stream": "stderr",
       "text": [
        " 0\n",
        "Child returned"
       ]
      },
      {
       "output_type": "stream",
       "stream": "stdout",
       "text": [
        "\n",
        "Calling: JAVA_OPTIONS=\"-Xms1000m -Xmx1000m\" jython  ../Holes/jython_utils/persistent_homology_calculation.py ../stores/phom/filtrations/870_fil.pck 1 ../stores/phom/output/ 870_ ../Holes/jython_utils/lib/ False\n",
        "1_fil.pck"
       ]
      },
      {
       "output_type": "stream",
       "stream": "stderr",
       "text": [
        " 0\n",
        "Child returned"
       ]
      },
      {
       "output_type": "stream",
       "stream": "stdout",
       "text": [
        "\n",
        "Calling: JAVA_OPTIONS=\"-Xms1000m -Xmx1000m\" jython  ../Holes/jython_utils/persistent_homology_calculation.py ../stores/phom/filtrations/1_fil.pck 1 ../stores/phom/output/ 1_ ../Holes/jython_utils/lib/ False\n",
        "7778_fil.pck"
       ]
      },
      {
       "output_type": "stream",
       "stream": "stderr",
       "text": [
        " 0\n",
        "Child returned"
       ]
      },
      {
       "output_type": "stream",
       "stream": "stdout",
       "text": [
        "\n",
        "Calling: JAVA_OPTIONS=\"-Xms1000m -Xmx1000m\" jython  ../Holes/jython_utils/persistent_homology_calculation.py ../stores/phom/filtrations/7778_fil.pck 1 ../stores/phom/output/ 7778_ ../Holes/jython_utils/lib/ False\n",
        "1807_fil.pck"
       ]
      },
      {
       "output_type": "stream",
       "stream": "stderr",
       "text": [
        " 0\n",
        "Child returned"
       ]
      },
      {
       "output_type": "stream",
       "stream": "stdout",
       "text": [
        "\n",
        "Calling: JAVA_OPTIONS=\"-Xms1000m -Xmx1000m\" jython  ../Holes/jython_utils/persistent_homology_calculation.py ../stores/phom/filtrations/1807_fil.pck 1 ../stores/phom/output/ 1807_ ../Holes/jython_utils/lib/ False\n",
        "49_fil.pck"
       ]
      },
      {
       "output_type": "stream",
       "stream": "stderr",
       "text": [
        " 0\n",
        "Child returned"
       ]
      },
      {
       "output_type": "stream",
       "stream": "stdout",
       "text": [
        "\n",
        "Calling: JAVA_OPTIONS=\"-Xms1000m -Xmx1000m\" jython  ../Holes/jython_utils/persistent_homology_calculation.py ../stores/phom/filtrations/49_fil.pck 1 ../stores/phom/output/ 49_ ../Holes/jython_utils/lib/ False\n",
        "1604_fil.pck"
       ]
      },
      {
       "output_type": "stream",
       "stream": "stderr",
       "text": [
        " 0\n",
        "Child returned"
       ]
      },
      {
       "output_type": "stream",
       "stream": "stdout",
       "text": [
        "\n",
        "Calling: JAVA_OPTIONS=\"-Xms1000m -Xmx1000m\" jython  ../Holes/jython_utils/persistent_homology_calculation.py ../stores/phom/filtrations/1604_fil.pck 1 ../stores/phom/output/ 1604_ ../Holes/jython_utils/lib/ False\n",
        "1808_fil.pck"
       ]
      },
      {
       "output_type": "stream",
       "stream": "stderr",
       "text": [
        " 0\n",
        "Child returned"
       ]
      },
      {
       "output_type": "stream",
       "stream": "stdout",
       "text": [
        "\n",
        "Calling: JAVA_OPTIONS=\"-Xms1000m -Xmx1000m\" jython  ../Holes/jython_utils/persistent_homology_calculation.py ../stores/phom/filtrations/1808_fil.pck 1 ../stores/phom/output/ 1808_ ../Holes/jython_utils/lib/ False\n",
        "1473_fil.pck"
       ]
      },
      {
       "output_type": "stream",
       "stream": "stderr",
       "text": [
        " 0\n",
        "Child returned"
       ]
      },
      {
       "output_type": "stream",
       "stream": "stdout",
       "text": [
        "\n",
        "Calling: JAVA_OPTIONS=\"-Xms1000m -Xmx1000m\" jython  ../Holes/jython_utils/persistent_homology_calculation.py ../stores/phom/filtrations/1473_fil.pck 1 ../stores/phom/output/ 1473_ ../Holes/jython_utils/lib/ False\n",
        "354_fil.pck"
       ]
      },
      {
       "output_type": "stream",
       "stream": "stderr",
       "text": [
        " 0\n",
        "Child returned"
       ]
      },
      {
       "output_type": "stream",
       "stream": "stdout",
       "text": [
        "\n",
        "Calling: JAVA_OPTIONS=\"-Xms1000m -Xmx1000m\" jython  ../Holes/jython_utils/persistent_homology_calculation.py ../stores/phom/filtrations/354_fil.pck 1 ../stores/phom/output/ 354_ ../Holes/jython_utils/lib/ False\n",
        "688_fil.pck"
       ]
      },
      {
       "output_type": "stream",
       "stream": "stderr",
       "text": [
        " 0\n",
        "Child returned"
       ]
      },
      {
       "output_type": "stream",
       "stream": "stdout",
       "text": [
        "\n",
        "Calling: JAVA_OPTIONS=\"-Xms1000m -Xmx1000m\" jython  ../Holes/jython_utils/persistent_homology_calculation.py ../stores/phom/filtrations/688_fil.pck 1 ../stores/phom/output/ 688_ ../Holes/jython_utils/lib/ False\n",
        "350_fil.pck"
       ]
      },
      {
       "output_type": "stream",
       "stream": "stderr",
       "text": [
        " 0\n",
        "Child returned"
       ]
      },
      {
       "output_type": "stream",
       "stream": "stdout",
       "text": [
        "\n",
        "Calling: JAVA_OPTIONS=\"-Xms1000m -Xmx1000m\" jython  ../Holes/jython_utils/persistent_homology_calculation.py ../stores/phom/filtrations/350_fil.pck 1 ../stores/phom/output/ 350_ ../Holes/jython_utils/lib/ False\n",
        "1767_fil.pck"
       ]
      },
      {
       "output_type": "stream",
       "stream": "stderr",
       "text": [
        " 0\n",
        "Child returned"
       ]
      },
      {
       "output_type": "stream",
       "stream": "stdout",
       "text": [
        "\n",
        "Calling: JAVA_OPTIONS=\"-Xms1000m -Xmx1000m\" jython  ../Holes/jython_utils/persistent_homology_calculation.py ../stores/phom/filtrations/1767_fil.pck 1 ../stores/phom/output/ 1767_ ../Holes/jython_utils/lib/ False\n",
        "358_fil.pck"
       ]
      },
      {
       "output_type": "stream",
       "stream": "stderr",
       "text": [
        " 0\n",
        "Child returned"
       ]
      },
      {
       "output_type": "stream",
       "stream": "stdout",
       "text": [
        "\n",
        "Calling: JAVA_OPTIONS=\"-Xms1000m -Xmx1000m\" jython  ../Holes/jython_utils/persistent_homology_calculation.py ../stores/phom/filtrations/358_fil.pck 1 ../stores/phom/output/ 358_ ../Holes/jython_utils/lib/ False\n"
       ]
      },
      {
       "output_type": "stream",
       "stream": "stderr",
       "text": [
        " 0\n"
       ]
      }
     ],
     "prompt_number": 12
    },
    {
     "cell_type": "code",
     "collapsed": false,
     "input": [
      "generators_dict={}\n",
      "for c in cd:\n",
      "    filename=open(output_dir+'gen/generators_'+c+'_.pck');\n",
      "    generators_dict[c]=pickle.load(filename);\n",
      "    filename.close()"
     ],
     "language": "python",
     "metadata": {},
     "outputs": [],
     "prompt_number": 13
    },
    {
     "cell_type": "code",
     "collapsed": false,
     "input": [
      "weighted_gen_dict={}\n",
      "for c in generators_dict.keys():\n",
      "    weighted_gen_dict[c]=ho.weight_label_generators(generators_dict[c],subgraph_dict[c],ascending=True);\n",
      "    pickle.dump(weighted_gen_dict[c],open(output_dir+'/gen/weighted_generators_'+c+'_.pck','w'))"
     ],
     "language": "python",
     "metadata": {},
     "outputs": [],
     "prompt_number": 14
    }
   ],
   "metadata": {}
  }
 ]
}