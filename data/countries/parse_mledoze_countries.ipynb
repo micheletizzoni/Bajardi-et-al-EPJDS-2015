{
 "metadata": {
  "name": "",
  "signature": "sha256:3512575a2404a8a856e265d9ccbab3410df7cdfe7803cfc7aac5fd295c457310"
 },
 "nbformat": 3,
 "nbformat_minor": 0,
 "worksheets": [
  {
   "cells": [
    {
     "cell_type": "heading",
     "level": 1,
     "metadata": {},
     "source": [
      "Parse mledoze countries.json"
     ]
    },
    {
     "cell_type": "heading",
     "level": 2,
     "metadata": {},
     "source": [
      "Imports"
     ]
    },
    {
     "cell_type": "code",
     "collapsed": false,
     "input": [
      "from pandas import *"
     ],
     "language": "python",
     "metadata": {},
     "outputs": [],
     "prompt_number": 1
    },
    {
     "cell_type": "heading",
     "level": 2,
     "metadata": {},
     "source": [
      "Data"
     ]
    },
    {
     "cell_type": "heading",
     "level": 3,
     "metadata": {},
     "source": [
      "Intensity"
     ]
    },
    {
     "cell_type": "code",
     "collapsed": false,
     "input": [
      "store = HDFStore('../../stores/sms-call-internet-mi-table-blosc.h5')\n",
      "country_codes = store['telco_codes']\n",
      "store.close()"
     ],
     "language": "python",
     "metadata": {},
     "outputs": [],
     "prompt_number": 2
    },
    {
     "cell_type": "heading",
     "level": 3,
     "metadata": {},
     "source": [
      "Country codes"
     ]
    },
    {
     "cell_type": "markdown",
     "metadata": {},
     "source": [
      "**source**: https://github.com/mledoze/countries/tree/518fb1cdfe9f7bfd18ffc9d83097b02bdc8f88c8"
     ]
    },
    {
     "cell_type": "code",
     "collapsed": false,
     "input": [
      "countries = read_json('mledoze-countries/countries.json')\n",
      "italy_id = countries.loc[countries.name == 'Italy'].index[0]\n",
      "countries.loc[italy_id, 'callingCode'].append('0')"
     ],
     "language": "python",
     "metadata": {},
     "outputs": [],
     "prompt_number": 3
    },
    {
     "cell_type": "code",
     "collapsed": false,
     "input": [
      "def country_name(x):\n",
      "    if 'it' in x['translations'].keys():\n",
      "        return x['translations']['it']\n",
      "    else:\n",
      "        return x['name']"
     ],
     "language": "python",
     "metadata": {},
     "outputs": [],
     "prompt_number": 4
    },
    {
     "cell_type": "code",
     "collapsed": false,
     "input": [
      "countries['Country_name'] = countries.apply(country_name, axis=1)"
     ],
     "language": "python",
     "metadata": {},
     "outputs": [],
     "prompt_number": 5
    },
    {
     "cell_type": "code",
     "collapsed": false,
     "input": [
      "countries.to_pickle('countries.pd')"
     ],
     "language": "python",
     "metadata": {},
     "outputs": [],
     "prompt_number": 6
    },
    {
     "cell_type": "heading",
     "level": 3,
     "metadata": {},
     "source": [
      "Calling code to Country id"
     ]
    },
    {
     "cell_type": "code",
     "collapsed": false,
     "input": [
      "code_to_id = Series(index=country_codes, name='Country_id')"
     ],
     "language": "python",
     "metadata": {},
     "outputs": [],
     "prompt_number": 7
    },
    {
     "cell_type": "code",
     "collapsed": false,
     "input": [
      "def find_id(code):\n",
      "    result = []\n",
      "    for i, country in countries.iterrows():\n",
      "        if code in [int(c) for c in country['callingCode'] if c != '']:\n",
      "            result.append([country.name, country.population])\n",
      "    if len(result) == 0:\n",
      "        result = [[np.NaN, np.NaN]]\n",
      "    return result"
     ],
     "language": "python",
     "metadata": {},
     "outputs": [],
     "prompt_number": 8
    },
    {
     "cell_type": "code",
     "collapsed": false,
     "input": [
      "code_to_id = code_to_id.groupby(level=0).apply(lambda x: DataFrame(find_id(x.name), columns=['Country_id', 'Country_pop']))\n",
      "code_to_id.index = code_to_id.index.droplevel(1)\n",
      "code_to_id.name = 'Country_id'"
     ],
     "language": "python",
     "metadata": {},
     "outputs": [],
     "prompt_number": 9
    },
    {
     "cell_type": "code",
     "collapsed": false,
     "input": [
      "code_to_id.Country_id.isnull().sum(), code_to_id.Country_id.notnull().sum(), len(countries)"
     ],
     "language": "python",
     "metadata": {},
     "outputs": [
      {
       "metadata": {},
       "output_type": "pyout",
       "prompt_number": 10,
       "text": [
        "(136, 244, 250)"
       ]
      }
     ],
     "prompt_number": 10
    },
    {
     "cell_type": "code",
     "collapsed": false,
     "input": [
      "duplicates = code_to_id.groupby(level=0).filter(lambda x: len(x) > 1)"
     ],
     "language": "python",
     "metadata": {},
     "outputs": [],
     "prompt_number": 11
    },
    {
     "cell_type": "code",
     "collapsed": false,
     "input": [
      "DataFrame(duplicates).join(countries.name, on='Country_id')"
     ],
     "language": "python",
     "metadata": {},
     "outputs": [
      {
       "html": [
        "<div style=\"max-height:1000px;max-width:1500px;overflow:auto;\">\n",
        "<table border=\"1\" class=\"dataframe\">\n",
        "  <thead>\n",
        "    <tr style=\"text-align: right;\">\n",
        "      <th></th>\n",
        "      <th>Country_id</th>\n",
        "      <th>Country_pop</th>\n",
        "      <th>name</th>\n",
        "    </tr>\n",
        "    <tr>\n",
        "      <th>Country_code</th>\n",
        "      <th></th>\n",
        "      <th></th>\n",
        "      <th></th>\n",
        "    </tr>\n",
        "  </thead>\n",
        "  <tbody>\n",
        "    <tr>\n",
        "      <th>1  </th>\n",
        "      <td>  40</td>\n",
        "      <td>  35158304</td>\n",
        "      <td>                  Canada</td>\n",
        "    </tr>\n",
        "    <tr>\n",
        "      <th>1  </th>\n",
        "      <td> 237</td>\n",
        "      <td> 317101000</td>\n",
        "      <td>           United States</td>\n",
        "    </tr>\n",
        "    <tr>\n",
        "      <th>44 </th>\n",
        "      <td>  92</td>\n",
        "      <td>     62431</td>\n",
        "      <td>                Guernsey</td>\n",
        "    </tr>\n",
        "    <tr>\n",
        "      <th>44 </th>\n",
        "      <td> 108</td>\n",
        "      <td>     84497</td>\n",
        "      <td>             Isle of Man</td>\n",
        "    </tr>\n",
        "    <tr>\n",
        "      <th>44 </th>\n",
        "      <td> 113</td>\n",
        "      <td>     97857</td>\n",
        "      <td>                  Jersey</td>\n",
        "    </tr>\n",
        "    <tr>\n",
        "      <th>44 </th>\n",
        "      <td> 236</td>\n",
        "      <td>  63705000</td>\n",
        "      <td>          United Kingdom</td>\n",
        "    </tr>\n",
        "    <tr>\n",
        "      <th>61 </th>\n",
        "      <td>  13</td>\n",
        "      <td>  23254142</td>\n",
        "      <td>               Australia</td>\n",
        "    </tr>\n",
        "    <tr>\n",
        "      <th>61 </th>\n",
        "      <td>  47</td>\n",
        "      <td>      2072</td>\n",
        "      <td>        Christmas Island</td>\n",
        "    </tr>\n",
        "    <tr>\n",
        "      <th>61 </th>\n",
        "      <td>  48</td>\n",
        "      <td>       550</td>\n",
        "      <td> Cocos (Keeling) Islands</td>\n",
        "    </tr>\n",
        "    <tr>\n",
        "      <th>64 </th>\n",
        "      <td> 157</td>\n",
        "      <td>   4478810</td>\n",
        "      <td>             New Zealand</td>\n",
        "    </tr>\n",
        "    <tr>\n",
        "      <th>64 </th>\n",
        "      <td> 175</td>\n",
        "      <td>        56</td>\n",
        "      <td>        Pitcairn Islands</td>\n",
        "    </tr>\n",
        "    <tr>\n",
        "      <th>212</th>\n",
        "      <td> 149</td>\n",
        "      <td>  33087700</td>\n",
        "      <td>                 Morocco</td>\n",
        "    </tr>\n",
        "    <tr>\n",
        "      <th>212</th>\n",
        "      <td> 246</td>\n",
        "      <td>    567000</td>\n",
        "      <td>          Western Sahara</td>\n",
        "    </tr>\n",
        "    <tr>\n",
        "      <th>262</th>\n",
        "      <td> 141</td>\n",
        "      <td>    212600</td>\n",
        "      <td>                 Mayotte</td>\n",
        "    </tr>\n",
        "    <tr>\n",
        "      <th>262</th>\n",
        "      <td> 181</td>\n",
        "      <td>    821136</td>\n",
        "      <td>                 R\u00e9union</td>\n",
        "    </tr>\n",
        "    <tr>\n",
        "      <th>358</th>\n",
        "      <td>   1</td>\n",
        "      <td>     28502</td>\n",
        "      <td>           \u00c5land Islands</td>\n",
        "    </tr>\n",
        "    <tr>\n",
        "      <th>358</th>\n",
        "      <td>  75</td>\n",
        "      <td>   5445883</td>\n",
        "      <td>                 Finland</td>\n",
        "    </tr>\n",
        "    <tr>\n",
        "      <th>377</th>\n",
        "      <td> 145</td>\n",
        "      <td>     36136</td>\n",
        "      <td>                  Monaco</td>\n",
        "    </tr>\n",
        "    <tr>\n",
        "      <th>377</th>\n",
        "      <td> 180</td>\n",
        "      <td>   1733842</td>\n",
        "      <td>      Republic of Kosovo</td>\n",
        "    </tr>\n",
        "    <tr>\n",
        "      <th>381</th>\n",
        "      <td> 180</td>\n",
        "      <td>   1733842</td>\n",
        "      <td>      Republic of Kosovo</td>\n",
        "    </tr>\n",
        "    <tr>\n",
        "      <th>381</th>\n",
        "      <td> 197</td>\n",
        "      <td>   7181505</td>\n",
        "      <td>                  Serbia</td>\n",
        "    </tr>\n",
        "    <tr>\n",
        "      <th>386</th>\n",
        "      <td> 180</td>\n",
        "      <td>   1733842</td>\n",
        "      <td>      Republic of Kosovo</td>\n",
        "    </tr>\n",
        "    <tr>\n",
        "      <th>386</th>\n",
        "      <td> 203</td>\n",
        "      <td>   2061405</td>\n",
        "      <td>                Slovenia</td>\n",
        "    </tr>\n",
        "    <tr>\n",
        "      <th>500</th>\n",
        "      <td>  72</td>\n",
        "      <td>      2563</td>\n",
        "      <td>        Falkland Islands</td>\n",
        "    </tr>\n",
        "    <tr>\n",
        "      <th>500</th>\n",
        "      <td> 207</td>\n",
        "      <td>        -1</td>\n",
        "      <td>           South Georgia</td>\n",
        "    </tr>\n",
        "    <tr>\n",
        "      <th>590</th>\n",
        "      <td>  89</td>\n",
        "      <td>    403355</td>\n",
        "      <td>              Guadeloupe</td>\n",
        "    </tr>\n",
        "    <tr>\n",
        "      <th>590</th>\n",
        "      <td> 185</td>\n",
        "      <td>      8938</td>\n",
        "      <td>        Saint Barth\u00e9lemy</td>\n",
        "    </tr>\n",
        "    <tr>\n",
        "      <th>590</th>\n",
        "      <td> 189</td>\n",
        "      <td>        -1</td>\n",
        "      <td>            Saint Martin</td>\n",
        "    </tr>\n",
        "  </tbody>\n",
        "</table>\n",
        "</div>"
       ],
       "metadata": {},
       "output_type": "pyout",
       "prompt_number": 12,
       "text": [
        "              Country_id  Country_pop                     name\n",
        "Country_code                                                  \n",
        "1                     40     35158304                   Canada\n",
        "1                    237    317101000            United States\n",
        "44                    92        62431                 Guernsey\n",
        "44                   108        84497              Isle of Man\n",
        "44                   113        97857                   Jersey\n",
        "44                   236     63705000           United Kingdom\n",
        "61                    13     23254142                Australia\n",
        "61                    47         2072         Christmas Island\n",
        "61                    48          550  Cocos (Keeling) Islands\n",
        "64                   157      4478810              New Zealand\n",
        "64                   175           56         Pitcairn Islands\n",
        "212                  149     33087700                  Morocco\n",
        "212                  246       567000           Western Sahara\n",
        "262                  141       212600                  Mayotte\n",
        "262                  181       821136                  R\u00e9union\n",
        "358                    1        28502            \u00c5land Islands\n",
        "358                   75      5445883                  Finland\n",
        "377                  145        36136                   Monaco\n",
        "377                  180      1733842       Republic of Kosovo\n",
        "381                  180      1733842       Republic of Kosovo\n",
        "381                  197      7181505                   Serbia\n",
        "386                  180      1733842       Republic of Kosovo\n",
        "386                  203      2061405                 Slovenia\n",
        "500                   72         2563         Falkland Islands\n",
        "500                  207           -1            South Georgia\n",
        "590                   89       403355               Guadeloupe\n",
        "590                  185         8938         Saint Barth\u00e9lemy\n",
        "590                  189           -1             Saint Martin"
       ]
      }
     ],
     "prompt_number": 12
    },
    {
     "cell_type": "markdown",
     "metadata": {},
     "source": [
      "Few countries share the same national calling prefix but Kosovo, Serbia, Slovenia and Monaco did a big mess:\n",
      "\n",
      "http://en.wikipedia.org/wiki/Telephone_numbers_in_Kosovo\n",
      "\n",
      "http://en.wikipedia.org/wiki/Telephone_numbers_in_Serbia"
     ]
    },
    {
     "cell_type": "code",
     "collapsed": false,
     "input": [
      "code_to_id = code_to_id.drop([377, 386])\n",
      "code_to_id = code_to_id.append(DataFrame([[145, 36136]], index=[377], columns=[\"Country_id\", \"Country_pop\"]))\n",
      "code_to_id = code_to_id.append(DataFrame([[203, 2061405]], index=[386], columns=[\"Country_id\", \"Country_pop\"]))"
     ],
     "language": "python",
     "metadata": {},
     "outputs": [],
     "prompt_number": 13
    },
    {
     "cell_type": "markdown",
     "metadata": {},
     "source": [
      "For shared calling codes we take the most populated nation."
     ]
    },
    {
     "cell_type": "code",
     "collapsed": false,
     "input": [
      "code_to_id = code_to_id.sort('Country_pop').groupby(level=0).last()"
     ],
     "language": "python",
     "metadata": {},
     "outputs": [],
     "prompt_number": 14
    },
    {
     "cell_type": "code",
     "collapsed": false,
     "input": [
      "code_to_id.index.is_unique"
     ],
     "language": "python",
     "metadata": {},
     "outputs": [
      {
       "metadata": {},
       "output_type": "pyout",
       "prompt_number": 15,
       "text": [
        "True"
       ]
      }
     ],
     "prompt_number": 15
    },
    {
     "cell_type": "code",
     "collapsed": false,
     "input": [
      "code_to_id.index.name = 'Country_code'"
     ],
     "language": "python",
     "metadata": {},
     "outputs": [],
     "prompt_number": 16
    },
    {
     "cell_type": "code",
     "collapsed": false,
     "input": [
      "code_to_id.to_pickle('code_to_id.pd')"
     ],
     "language": "python",
     "metadata": {},
     "outputs": [],
     "prompt_number": 17
    }
   ],
   "metadata": {}
  }
 ]
}